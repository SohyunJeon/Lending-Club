{
 "cells": [
  {
   "cell_type": "code",
   "execution_count": 1,
   "metadata": {
    "collapsed": true
   },
   "outputs": [],
   "source": [
    "import numpy as np\n",
    "import pandas as pd\n",
    "import gc\n",
    "import matplotlib.pyplot as plt\n",
    "import seaborn as sns"
   ]
  },
  {
   "cell_type": "code",
   "execution_count": 2,
   "metadata": {},
   "outputs": [
    {
     "name": "stderr",
     "output_type": "stream",
     "text": [
      "/Library/Frameworks/Python.framework/Versions/3.6/lib/python3.6/site-packages/IPython/core/interactiveshell.py:2698: DtypeWarning: Columns (19,55) have mixed types. Specify dtype option on import or set low_memory=False.\n",
      "  interactivity=interactivity, compiler=compiler, result=result)\n"
     ]
    }
   ],
   "source": [
    "loan_dt = pd.read_csv(\"lending-club-loan-data/loan.csv\")"
   ]
  },
  {
   "cell_type": "code",
   "execution_count": 3,
   "metadata": {},
   "outputs": [
    {
     "name": "stdout",
     "output_type": "stream",
     "text": [
      "(887379, 74)\n"
     ]
    }
   ],
   "source": [
    "loan_dt.tail()\n",
    "print (loan_dt.shape)\n"
   ]
  },
  {
   "cell_type": "code",
   "execution_count": 4,
   "metadata": {},
   "outputs": [
    {
     "data": {
      "text/html": [
       "<div>\n",
       "<style>\n",
       "    .dataframe thead tr:only-child th {\n",
       "        text-align: right;\n",
       "    }\n",
       "\n",
       "    .dataframe thead th {\n",
       "        text-align: left;\n",
       "    }\n",
       "\n",
       "    .dataframe tbody tr th {\n",
       "        vertical-align: top;\n",
       "    }\n",
       "</style>\n",
       "<table border=\"1\" class=\"dataframe\">\n",
       "  <thead>\n",
       "    <tr style=\"text-align: right;\">\n",
       "      <th></th>\n",
       "      <th>id</th>\n",
       "      <th>member_id</th>\n",
       "      <th>loan_amnt</th>\n",
       "      <th>funded_amnt</th>\n",
       "      <th>funded_amnt_inv</th>\n",
       "      <th>term</th>\n",
       "      <th>int_rate</th>\n",
       "      <th>installment</th>\n",
       "      <th>grade</th>\n",
       "      <th>sub_grade</th>\n",
       "      <th>...</th>\n",
       "      <th>total_bal_il</th>\n",
       "      <th>il_util</th>\n",
       "      <th>open_rv_12m</th>\n",
       "      <th>open_rv_24m</th>\n",
       "      <th>max_bal_bc</th>\n",
       "      <th>all_util</th>\n",
       "      <th>total_rev_hi_lim</th>\n",
       "      <th>inq_fi</th>\n",
       "      <th>total_cu_tl</th>\n",
       "      <th>inq_last_12m</th>\n",
       "    </tr>\n",
       "  </thead>\n",
       "  <tbody>\n",
       "    <tr>\n",
       "      <th>887374</th>\n",
       "      <td>36371250</td>\n",
       "      <td>39102635</td>\n",
       "      <td>10000.0</td>\n",
       "      <td>10000.0</td>\n",
       "      <td>10000.0</td>\n",
       "      <td>36 months</td>\n",
       "      <td>11.99</td>\n",
       "      <td>332.10</td>\n",
       "      <td>B</td>\n",
       "      <td>B5</td>\n",
       "      <td>...</td>\n",
       "      <td>NaN</td>\n",
       "      <td>NaN</td>\n",
       "      <td>NaN</td>\n",
       "      <td>NaN</td>\n",
       "      <td>NaN</td>\n",
       "      <td>NaN</td>\n",
       "      <td>17100.0</td>\n",
       "      <td>NaN</td>\n",
       "      <td>NaN</td>\n",
       "      <td>NaN</td>\n",
       "    </tr>\n",
       "    <tr>\n",
       "      <th>887375</th>\n",
       "      <td>36441262</td>\n",
       "      <td>39152692</td>\n",
       "      <td>24000.0</td>\n",
       "      <td>24000.0</td>\n",
       "      <td>24000.0</td>\n",
       "      <td>36 months</td>\n",
       "      <td>11.99</td>\n",
       "      <td>797.03</td>\n",
       "      <td>B</td>\n",
       "      <td>B5</td>\n",
       "      <td>...</td>\n",
       "      <td>NaN</td>\n",
       "      <td>NaN</td>\n",
       "      <td>NaN</td>\n",
       "      <td>NaN</td>\n",
       "      <td>NaN</td>\n",
       "      <td>NaN</td>\n",
       "      <td>10200.0</td>\n",
       "      <td>NaN</td>\n",
       "      <td>NaN</td>\n",
       "      <td>NaN</td>\n",
       "    </tr>\n",
       "    <tr>\n",
       "      <th>887376</th>\n",
       "      <td>36271333</td>\n",
       "      <td>38982739</td>\n",
       "      <td>13000.0</td>\n",
       "      <td>13000.0</td>\n",
       "      <td>13000.0</td>\n",
       "      <td>60 months</td>\n",
       "      <td>15.99</td>\n",
       "      <td>316.07</td>\n",
       "      <td>D</td>\n",
       "      <td>D2</td>\n",
       "      <td>...</td>\n",
       "      <td>NaN</td>\n",
       "      <td>NaN</td>\n",
       "      <td>NaN</td>\n",
       "      <td>NaN</td>\n",
       "      <td>NaN</td>\n",
       "      <td>NaN</td>\n",
       "      <td>18000.0</td>\n",
       "      <td>NaN</td>\n",
       "      <td>NaN</td>\n",
       "      <td>NaN</td>\n",
       "    </tr>\n",
       "    <tr>\n",
       "      <th>887377</th>\n",
       "      <td>36490806</td>\n",
       "      <td>39222577</td>\n",
       "      <td>12000.0</td>\n",
       "      <td>12000.0</td>\n",
       "      <td>12000.0</td>\n",
       "      <td>60 months</td>\n",
       "      <td>19.99</td>\n",
       "      <td>317.86</td>\n",
       "      <td>E</td>\n",
       "      <td>E3</td>\n",
       "      <td>...</td>\n",
       "      <td>NaN</td>\n",
       "      <td>NaN</td>\n",
       "      <td>NaN</td>\n",
       "      <td>NaN</td>\n",
       "      <td>NaN</td>\n",
       "      <td>NaN</td>\n",
       "      <td>27000.0</td>\n",
       "      <td>NaN</td>\n",
       "      <td>NaN</td>\n",
       "      <td>NaN</td>\n",
       "    </tr>\n",
       "    <tr>\n",
       "      <th>887378</th>\n",
       "      <td>36271262</td>\n",
       "      <td>38982659</td>\n",
       "      <td>20000.0</td>\n",
       "      <td>20000.0</td>\n",
       "      <td>20000.0</td>\n",
       "      <td>36 months</td>\n",
       "      <td>11.99</td>\n",
       "      <td>664.20</td>\n",
       "      <td>B</td>\n",
       "      <td>B5</td>\n",
       "      <td>...</td>\n",
       "      <td>NaN</td>\n",
       "      <td>NaN</td>\n",
       "      <td>NaN</td>\n",
       "      <td>NaN</td>\n",
       "      <td>NaN</td>\n",
       "      <td>NaN</td>\n",
       "      <td>41700.0</td>\n",
       "      <td>NaN</td>\n",
       "      <td>NaN</td>\n",
       "      <td>NaN</td>\n",
       "    </tr>\n",
       "  </tbody>\n",
       "</table>\n",
       "<p>5 rows × 74 columns</p>\n",
       "</div>"
      ],
      "text/plain": [
       "              id  member_id  loan_amnt  funded_amnt  funded_amnt_inv  \\\n",
       "887374  36371250   39102635    10000.0      10000.0          10000.0   \n",
       "887375  36441262   39152692    24000.0      24000.0          24000.0   \n",
       "887376  36271333   38982739    13000.0      13000.0          13000.0   \n",
       "887377  36490806   39222577    12000.0      12000.0          12000.0   \n",
       "887378  36271262   38982659    20000.0      20000.0          20000.0   \n",
       "\n",
       "              term  int_rate  installment grade sub_grade     ...       \\\n",
       "887374   36 months     11.99       332.10     B        B5     ...        \n",
       "887375   36 months     11.99       797.03     B        B5     ...        \n",
       "887376   60 months     15.99       316.07     D        D2     ...        \n",
       "887377   60 months     19.99       317.86     E        E3     ...        \n",
       "887378   36 months     11.99       664.20     B        B5     ...        \n",
       "\n",
       "       total_bal_il il_util open_rv_12m  open_rv_24m max_bal_bc all_util  \\\n",
       "887374          NaN     NaN         NaN          NaN        NaN      NaN   \n",
       "887375          NaN     NaN         NaN          NaN        NaN      NaN   \n",
       "887376          NaN     NaN         NaN          NaN        NaN      NaN   \n",
       "887377          NaN     NaN         NaN          NaN        NaN      NaN   \n",
       "887378          NaN     NaN         NaN          NaN        NaN      NaN   \n",
       "\n",
       "       total_rev_hi_lim inq_fi total_cu_tl inq_last_12m  \n",
       "887374          17100.0    NaN         NaN          NaN  \n",
       "887375          10200.0    NaN         NaN          NaN  \n",
       "887376          18000.0    NaN         NaN          NaN  \n",
       "887377          27000.0    NaN         NaN          NaN  \n",
       "887378          41700.0    NaN         NaN          NaN  \n",
       "\n",
       "[5 rows x 74 columns]"
      ]
     },
     "execution_count": 4,
     "metadata": {},
     "output_type": "execute_result"
    }
   ],
   "source": [
    "loan_dt.tail()"
   ]
  },
  {
   "cell_type": "markdown",
   "metadata": {},
   "source": [
    "* NA값을 확인 해 보자\n"
   ]
  },
  {
   "cell_type": "code",
   "execution_count": 5,
   "metadata": {},
   "outputs": [
    {
     "data": {
      "text/plain": [
       "id                                  0\n",
       "member_id                           0\n",
       "loan_amnt                           0\n",
       "funded_amnt                         0\n",
       "funded_amnt_inv                     0\n",
       "term                                0\n",
       "int_rate                            0\n",
       "installment                         0\n",
       "grade                               0\n",
       "sub_grade                           0\n",
       "emp_title                       51457\n",
       "emp_length                          0\n",
       "home_ownership                      0\n",
       "annual_inc                          4\n",
       "verification_status                 0\n",
       "issue_d                             0\n",
       "loan_status                         0\n",
       "pymnt_plan                          0\n",
       "url                                 0\n",
       "desc                           761350\n",
       "purpose                             0\n",
       "title                             151\n",
       "zip_code                            0\n",
       "addr_state                          0\n",
       "dti                                 0\n",
       "delinq_2yrs                        29\n",
       "earliest_cr_line                   29\n",
       "inq_last_6mths                     29\n",
       "mths_since_last_delinq         454312\n",
       "mths_since_last_record         750326\n",
       "                                ...  \n",
       "collection_recovery_fee             0\n",
       "last_pymnt_d                    17659\n",
       "last_pymnt_amnt                     0\n",
       "next_pymnt_d                   252971\n",
       "last_credit_pull_d                 53\n",
       "collections_12_mths_ex_med        145\n",
       "mths_since_last_major_derog    665676\n",
       "policy_code                         0\n",
       "application_type                    0\n",
       "annual_inc_joint               886868\n",
       "dti_joint                      886870\n",
       "verification_status_joint      886868\n",
       "acc_now_delinq                     29\n",
       "tot_coll_amt                    70276\n",
       "tot_cur_bal                     70276\n",
       "open_acc_6m                    866007\n",
       "open_il_6m                     866007\n",
       "open_il_12m                    866007\n",
       "open_il_24m                    866007\n",
       "mths_since_rcnt_il             866569\n",
       "total_bal_il                   866007\n",
       "il_util                        868762\n",
       "open_rv_12m                    866007\n",
       "open_rv_24m                    866007\n",
       "max_bal_bc                     866007\n",
       "all_util                       866007\n",
       "total_rev_hi_lim                70276\n",
       "inq_fi                         866007\n",
       "total_cu_tl                    866007\n",
       "inq_last_12m                   866007\n",
       "Length: 74, dtype: int64"
      ]
     },
     "execution_count": 5,
     "metadata": {},
     "output_type": "execute_result"
    }
   ],
   "source": [
    "loan_dt.isnull().sum()"
   ]
  },
  {
   "cell_type": "markdown",
   "metadata": {},
   "source": [
    "### 변수에서 먼저 생각해야 할 문제\n",
    "* y값: loan_status\n",
    "* identify feature : 'member_id', 'id'\n",
    "<br><br>\n",
    "\n",
    "* seems to main real features: 'loan_amnt', 'funded_amnt',\n",
    "'funded_amnt_inv', 'int_rate', 'installment', 'annual_inc', 'dti', 'open_acc', 'revol_bal', 'revol_util', 'total_acc', 'total_rec_prncp', 'total_rec_int', 'last_pymnt_amnt', 'tot_cur_bal', 'total_rev_hi_lim'\n",
    "<br> * 'total_pymnt', 'total_pymnt_inv' (이 두개는 비슷 해 보이긴 한데 좀 수치는 다름)\n",
    "<br><t> * need to cleansing: 'emp_length',\n",
    "<br><br>\n",
    "* category feature : 'term', 'grade', 'sub_grade', 'home_ownership', 'verification_status', 'pymnt_plan', 'inq_last_6mths', 'initial_list_status','policy_code','application_type', \n",
    "<br><br>\n",
    "* others: 'emp_title', 'issue_d' (how to transfer real number), 'desc', 'purpose', 'title', 'addr_state', 'last_pymnt_d', 'last_credit_pull_d', \n",
    "<br><br>\n",
    "* looks not need : 'url', 'zip_code', 'next_pymnt_d'(단지 아직 완결이 안난듯?),\n",
    "'collections_12_mths_ex_med'(거의 값이 0)\n",
    "<br><br>\n",
    "* weight?(가중치 혹은 마이너스) : 'delinq_2yrs', 'earliest_cr_line' (신용거래가 오래되면 상환을 잘 할까?), 'mths_since_last_delinq''mths_since_last_record', 'pub_rec', 'out_prncp'(미납된 원금), 'out_prncp_inv'(두개 값은 거의 같아보임),\n",
    "'total_rec_late_fee'(연체이자니깐), 'recoveries'(부실액인듯?), 'collection_recovery_fee'(추심수수료?), 'mths_since_last_major_derog', 'acc_now_delinq', 'tot_coll_amt', \n",
    "<br><br>\n",
    "* NAN값이 많은 변수 : 'annual_inc_joint','dti_joint', 'verification_status_joint', 'open_acc_6m', 'open_il_6m', 'open_il_12m', 'open_il_24m', 'mths_since_rcnt_il', 'total_bal_il', 'il_util', 'open_rv_12m', 'open_rv_24m', 'max_bal_bc', 'all_util', 'inq_fi', 'total_cu_tl', 'inq_last_12m'"
   ]
  },
  {
   "cell_type": "markdown",
   "metadata": {},
   "source": [
    "# 1. y 파악"
   ]
  },
  {
   "cell_type": "code",
   "execution_count": 6,
   "metadata": {},
   "outputs": [
    {
     "data": {
      "text/plain": [
       "Current                                                601779\n",
       "Fully Paid                                             207723\n",
       "Charged Off                                             45248\n",
       "Late (31-120 days)                                      11591\n",
       "Issued                                                   8460\n",
       "In Grace Period                                          6253\n",
       "Late (16-30 days)                                        2357\n",
       "Does not meet the credit policy. Status:Fully Paid       1988\n",
       "Default                                                  1219\n",
       "Does not meet the credit policy. Status:Charged Off       761\n",
       "Name: loan_status, dtype: int64"
      ]
     },
     "execution_count": 6,
     "metadata": {},
     "output_type": "execute_result"
    }
   ],
   "source": [
    "loan_dt_y = loan_dt['loan_status']\n",
    "loan_dt_y.value_counts()"
   ]
  },
  {
   "cell_type": "markdown",
   "metadata": {},
   "source": [
    "* 지도 학습이기 때문에 current는 사용할 수 없을 것 같다\n",
    "* 연체로 볼수 있는 경우\n",
    "<t>\n",
    "    > charged off: 체납 , 추심으로 넘어가는데 동의 (일반적으로 180일 연체)\n",
    "<br> \n",
    "    > late(31-120 days) : 1~ 4달의 연체\n",
    "<br> \n",
    "    > late(16-30 days) : 1달이내 연체\n",
    "<br>\n",
    "    > default : 연체\n",
    "<br>\n",
    "    > Does not meet the credit policy. Status:Charged Off : 대출조건 맞지 않지만 회수 안됨\n",
    "<p>\n",
    "* 완납 \n",
    "<br>\n",
    "    > fully paid\n",
    "<br>\n",
    "    > Does not meet the credit policy. Status:Fully Paid : 대출조건 맞지 않아 전액 상환\n",
    "<br>\n",
    "<p>\n",
    "* 기타\n",
    "<br>\n",
    "    > Current : 현재 상환진행\n",
    "<br>\n",
    "    > Issued : 대출결정\n",
    "<br>\n",
    "    > In Grace Period : 상환 유예기간 (거치중인 기간인 듯)\n"
   ]
  },
  {
   "cell_type": "markdown",
   "metadata": {},
   "source": [
    "## 분석은 '기타' 상태를 제외하고 진행\n",
    " * 완제 : 209,711 건\n",
    " * 연체 :  61,176 건\n",
    " * Total : 270,887 건\n",
    " "
   ]
  },
  {
   "cell_type": "code",
   "execution_count": 7,
   "metadata": {
    "collapsed": true
   },
   "outputs": [],
   "source": [
    "loan = loan_dt[loan_dt.loan_status !='Current']\n",
    "\n"
   ]
  },
  {
   "cell_type": "code",
   "execution_count": 8,
   "metadata": {},
   "outputs": [
    {
     "name": "stderr",
     "output_type": "stream",
     "text": [
      "/Library/Frameworks/Python.framework/Versions/3.6/lib/python3.6/site-packages/ipykernel_launcher.py:1: UserWarning: Boolean Series key will be reindexed to match DataFrame index.\n",
      "  \"\"\"Entry point for launching an IPython kernel.\n"
     ]
    }
   ],
   "source": [
    "loan = loan [loan_dt.loan_status !='Issued']"
   ]
  },
  {
   "cell_type": "code",
   "execution_count": 9,
   "metadata": {},
   "outputs": [
    {
     "name": "stderr",
     "output_type": "stream",
     "text": [
      "/Library/Frameworks/Python.framework/Versions/3.6/lib/python3.6/site-packages/ipykernel_launcher.py:1: UserWarning: Boolean Series key will be reindexed to match DataFrame index.\n",
      "  \"\"\"Entry point for launching an IPython kernel.\n"
     ]
    }
   ],
   "source": [
    "loan = loan [loan_dt.loan_status !='In Grace Period']\n"
   ]
  },
  {
   "cell_type": "code",
   "execution_count": 10,
   "metadata": {},
   "outputs": [
    {
     "data": {
      "text/plain": [
       "0                 Fully Paid\n",
       "1                Charged Off\n",
       "2                 Fully Paid\n",
       "3                 Fully Paid\n",
       "5                 Fully Paid\n",
       "7                 Fully Paid\n",
       "8                Charged Off\n",
       "9                Charged Off\n",
       "10                Fully Paid\n",
       "11                Fully Paid\n",
       "12               Charged Off\n",
       "13                Fully Paid\n",
       "14               Charged Off\n",
       "15                Fully Paid\n",
       "16                Fully Paid\n",
       "17                Fully Paid\n",
       "18                Fully Paid\n",
       "19                Fully Paid\n",
       "20                Fully Paid\n",
       "21               Charged Off\n",
       "22                Fully Paid\n",
       "23                Fully Paid\n",
       "24               Charged Off\n",
       "25                Fully Paid\n",
       "26               Charged Off\n",
       "27               Charged Off\n",
       "28                Fully Paid\n",
       "29                Fully Paid\n",
       "30                Fully Paid\n",
       "31                Fully Paid\n",
       "                 ...        \n",
       "887198            Fully Paid\n",
       "887202            Fully Paid\n",
       "887215            Fully Paid\n",
       "887231    Late (31-120 days)\n",
       "887248    Late (31-120 days)\n",
       "887249            Fully Paid\n",
       "887254           Charged Off\n",
       "887258     Late (16-30 days)\n",
       "887263            Fully Paid\n",
       "887264            Fully Paid\n",
       "887268           Charged Off\n",
       "887275           Charged Off\n",
       "887276    Late (31-120 days)\n",
       "887279            Fully Paid\n",
       "887280    Late (31-120 days)\n",
       "887290           Charged Off\n",
       "887303           Charged Off\n",
       "887308           Charged Off\n",
       "887322    Late (31-120 days)\n",
       "887330           Charged Off\n",
       "887332            Fully Paid\n",
       "887337    Late (31-120 days)\n",
       "887345    Late (31-120 days)\n",
       "887346            Fully Paid\n",
       "887347            Fully Paid\n",
       "887351           Charged Off\n",
       "887364            Fully Paid\n",
       "887366            Fully Paid\n",
       "887369            Fully Paid\n",
       "887371           Charged Off\n",
       "Name: loan_status, Length: 270887, dtype: object"
      ]
     },
     "execution_count": 10,
     "metadata": {},
     "output_type": "execute_result"
    }
   ],
   "source": [
    "loan.loan_status"
   ]
  },
  {
   "cell_type": "code",
   "execution_count": 11,
   "metadata": {},
   "outputs": [
    {
     "data": {
      "text/plain": [
       "(270887, 74)"
      ]
     },
     "execution_count": 11,
     "metadata": {},
     "output_type": "execute_result"
    }
   ],
   "source": [
    "loan.shape\n",
    "#loan.head()"
   ]
  },
  {
   "cell_type": "code",
   "execution_count": 12,
   "metadata": {},
   "outputs": [
    {
     "data": {
      "text/html": [
       "<div>\n",
       "<style>\n",
       "    .dataframe thead tr:only-child th {\n",
       "        text-align: right;\n",
       "    }\n",
       "\n",
       "    .dataframe thead th {\n",
       "        text-align: left;\n",
       "    }\n",
       "\n",
       "    .dataframe tbody tr th {\n",
       "        vertical-align: top;\n",
       "    }\n",
       "</style>\n",
       "<table border=\"1\" class=\"dataframe\">\n",
       "  <thead>\n",
       "    <tr style=\"text-align: right;\">\n",
       "      <th></th>\n",
       "      <th>id</th>\n",
       "      <th>member_id</th>\n",
       "      <th>loan_amnt</th>\n",
       "      <th>funded_amnt</th>\n",
       "      <th>funded_amnt_inv</th>\n",
       "      <th>term</th>\n",
       "      <th>int_rate</th>\n",
       "      <th>installment</th>\n",
       "      <th>grade</th>\n",
       "      <th>sub_grade</th>\n",
       "      <th>...</th>\n",
       "      <th>total_bal_il</th>\n",
       "      <th>il_util</th>\n",
       "      <th>open_rv_12m</th>\n",
       "      <th>open_rv_24m</th>\n",
       "      <th>max_bal_bc</th>\n",
       "      <th>all_util</th>\n",
       "      <th>total_rev_hi_lim</th>\n",
       "      <th>inq_fi</th>\n",
       "      <th>total_cu_tl</th>\n",
       "      <th>inq_last_12m</th>\n",
       "    </tr>\n",
       "  </thead>\n",
       "  <tbody>\n",
       "    <tr>\n",
       "      <th>0</th>\n",
       "      <td>1077501</td>\n",
       "      <td>1296599</td>\n",
       "      <td>5000.0</td>\n",
       "      <td>5000.0</td>\n",
       "      <td>4975.0</td>\n",
       "      <td>36 months</td>\n",
       "      <td>10.65</td>\n",
       "      <td>162.87</td>\n",
       "      <td>B</td>\n",
       "      <td>B2</td>\n",
       "      <td>...</td>\n",
       "      <td>NaN</td>\n",
       "      <td>NaN</td>\n",
       "      <td>NaN</td>\n",
       "      <td>NaN</td>\n",
       "      <td>NaN</td>\n",
       "      <td>NaN</td>\n",
       "      <td>NaN</td>\n",
       "      <td>NaN</td>\n",
       "      <td>NaN</td>\n",
       "      <td>NaN</td>\n",
       "    </tr>\n",
       "    <tr>\n",
       "      <th>1</th>\n",
       "      <td>1077430</td>\n",
       "      <td>1314167</td>\n",
       "      <td>2500.0</td>\n",
       "      <td>2500.0</td>\n",
       "      <td>2500.0</td>\n",
       "      <td>60 months</td>\n",
       "      <td>15.27</td>\n",
       "      <td>59.83</td>\n",
       "      <td>C</td>\n",
       "      <td>C4</td>\n",
       "      <td>...</td>\n",
       "      <td>NaN</td>\n",
       "      <td>NaN</td>\n",
       "      <td>NaN</td>\n",
       "      <td>NaN</td>\n",
       "      <td>NaN</td>\n",
       "      <td>NaN</td>\n",
       "      <td>NaN</td>\n",
       "      <td>NaN</td>\n",
       "      <td>NaN</td>\n",
       "      <td>NaN</td>\n",
       "    </tr>\n",
       "    <tr>\n",
       "      <th>2</th>\n",
       "      <td>1077175</td>\n",
       "      <td>1313524</td>\n",
       "      <td>2400.0</td>\n",
       "      <td>2400.0</td>\n",
       "      <td>2400.0</td>\n",
       "      <td>36 months</td>\n",
       "      <td>15.96</td>\n",
       "      <td>84.33</td>\n",
       "      <td>C</td>\n",
       "      <td>C5</td>\n",
       "      <td>...</td>\n",
       "      <td>NaN</td>\n",
       "      <td>NaN</td>\n",
       "      <td>NaN</td>\n",
       "      <td>NaN</td>\n",
       "      <td>NaN</td>\n",
       "      <td>NaN</td>\n",
       "      <td>NaN</td>\n",
       "      <td>NaN</td>\n",
       "      <td>NaN</td>\n",
       "      <td>NaN</td>\n",
       "    </tr>\n",
       "    <tr>\n",
       "      <th>3</th>\n",
       "      <td>1076863</td>\n",
       "      <td>1277178</td>\n",
       "      <td>10000.0</td>\n",
       "      <td>10000.0</td>\n",
       "      <td>10000.0</td>\n",
       "      <td>36 months</td>\n",
       "      <td>13.49</td>\n",
       "      <td>339.31</td>\n",
       "      <td>C</td>\n",
       "      <td>C1</td>\n",
       "      <td>...</td>\n",
       "      <td>NaN</td>\n",
       "      <td>NaN</td>\n",
       "      <td>NaN</td>\n",
       "      <td>NaN</td>\n",
       "      <td>NaN</td>\n",
       "      <td>NaN</td>\n",
       "      <td>NaN</td>\n",
       "      <td>NaN</td>\n",
       "      <td>NaN</td>\n",
       "      <td>NaN</td>\n",
       "    </tr>\n",
       "    <tr>\n",
       "      <th>5</th>\n",
       "      <td>1075269</td>\n",
       "      <td>1311441</td>\n",
       "      <td>5000.0</td>\n",
       "      <td>5000.0</td>\n",
       "      <td>5000.0</td>\n",
       "      <td>36 months</td>\n",
       "      <td>7.90</td>\n",
       "      <td>156.46</td>\n",
       "      <td>A</td>\n",
       "      <td>A4</td>\n",
       "      <td>...</td>\n",
       "      <td>NaN</td>\n",
       "      <td>NaN</td>\n",
       "      <td>NaN</td>\n",
       "      <td>NaN</td>\n",
       "      <td>NaN</td>\n",
       "      <td>NaN</td>\n",
       "      <td>NaN</td>\n",
       "      <td>NaN</td>\n",
       "      <td>NaN</td>\n",
       "      <td>NaN</td>\n",
       "    </tr>\n",
       "  </tbody>\n",
       "</table>\n",
       "<p>5 rows × 74 columns</p>\n",
       "</div>"
      ],
      "text/plain": [
       "        id  member_id  loan_amnt  funded_amnt  funded_amnt_inv        term  \\\n",
       "0  1077501    1296599     5000.0       5000.0           4975.0   36 months   \n",
       "1  1077430    1314167     2500.0       2500.0           2500.0   60 months   \n",
       "2  1077175    1313524     2400.0       2400.0           2400.0   36 months   \n",
       "3  1076863    1277178    10000.0      10000.0          10000.0   36 months   \n",
       "5  1075269    1311441     5000.0       5000.0           5000.0   36 months   \n",
       "\n",
       "   int_rate  installment grade sub_grade     ...      total_bal_il il_util  \\\n",
       "0     10.65       162.87     B        B2     ...               NaN     NaN   \n",
       "1     15.27        59.83     C        C4     ...               NaN     NaN   \n",
       "2     15.96        84.33     C        C5     ...               NaN     NaN   \n",
       "3     13.49       339.31     C        C1     ...               NaN     NaN   \n",
       "5      7.90       156.46     A        A4     ...               NaN     NaN   \n",
       "\n",
       "  open_rv_12m  open_rv_24m max_bal_bc all_util total_rev_hi_lim inq_fi  \\\n",
       "0         NaN          NaN        NaN      NaN              NaN    NaN   \n",
       "1         NaN          NaN        NaN      NaN              NaN    NaN   \n",
       "2         NaN          NaN        NaN      NaN              NaN    NaN   \n",
       "3         NaN          NaN        NaN      NaN              NaN    NaN   \n",
       "5         NaN          NaN        NaN      NaN              NaN    NaN   \n",
       "\n",
       "  total_cu_tl inq_last_12m  \n",
       "0         NaN          NaN  \n",
       "1         NaN          NaN  \n",
       "2         NaN          NaN  \n",
       "3         NaN          NaN  \n",
       "5         NaN          NaN  \n",
       "\n",
       "[5 rows x 74 columns]"
      ]
     },
     "execution_count": 12,
     "metadata": {},
     "output_type": "execute_result"
    }
   ],
   "source": [
    "loan.head()"
   ]
  },
  {
   "cell_type": "code",
   "execution_count": 48,
   "metadata": {},
   "outputs": [
    {
     "data": {
      "text/plain": [
       "165"
      ]
     },
     "execution_count": 48,
     "metadata": {},
     "output_type": "execute_result"
    }
   ],
   "source": [
    "# 메모리 정리\n",
    "del loan_dt,loan_dt_y\n",
    "gc.collect()"
   ]
  },
  {
   "cell_type": "markdown",
   "metadata": {
    "collapsed": true
   },
   "source": [
    "\n",
    "\n",
    "import csv\n",
    "#loan = loan.drop('desc', axis=1)\n",
    "\n",
    "\n",
    "#path = \"lending-club-loan-data/loan_mod.csv\"\n",
    "loan.to_csv(\"lending-club-loan-data/loan_mod.csv\")"
   ]
  },
  {
   "cell_type": "code",
   "execution_count": 3,
   "metadata": {},
   "outputs": [
    {
     "name": "stderr",
     "output_type": "stream",
     "text": [
      "/Library/Frameworks/Python.framework/Versions/3.6/lib/python3.6/site-packages/IPython/core/interactiveshell.py:2698: DtypeWarning: Columns (20,56) have mixed types. Specify dtype option on import or set low_memory=False.\n",
      "  interactivity=interactivity, compiler=compiler, result=result)\n"
     ]
    }
   ],
   "source": [
    "\n",
    "#loan = loan.drop('url', axis = 1)\n",
    "#loan = loan.drop('pur_desc', axis = 1)\n",
    "\n",
    "loan = pd.read_csv(\"lending-club-loan-data/loan_mod.csv\", encoding='utf-8')\n",
    "#위의 파일을 csv로 내보낼 거면\n"
   ]
  },
  {
   "cell_type": "markdown",
   "metadata": {},
   "source": [
    "## 1-1) y값 분리 & 변환\n",
    "* 상환 : 0\n",
    "* 연체 & 부실: 1"
   ]
  },
  {
   "cell_type": "code",
   "execution_count": 13,
   "metadata": {
    "collapsed": true
   },
   "outputs": [],
   "source": [
    "# y 값 이진으로 변환  : 상환 = 1 / 연체 = 0 으로 변환\n",
    "loan = loan.replace([\"Fully Paid\", \"Does not meet the credit policy. Status:Fully Paid\"],0) # 상환\n",
    "loan = loan.replace(['Charged Off','Late (31-120 days)','Late (16-30 days)','Default', \n",
    "                         'Does not meet the credit policy. Status:Charged Off'],1) # 연체"
   ]
  },
  {
   "cell_type": "code",
   "execution_count": 14,
   "metadata": {
    "collapsed": true
   },
   "outputs": [
    {
     "data": {
      "text/plain": [
       "0         0\n",
       "1         1\n",
       "2         0\n",
       "3         0\n",
       "5         0\n",
       "7         0\n",
       "8         1\n",
       "9         1\n",
       "10        0\n",
       "11        0\n",
       "12        1\n",
       "13        0\n",
       "14        1\n",
       "15        0\n",
       "16        0\n",
       "17        0\n",
       "18        0\n",
       "19        0\n",
       "20        0\n",
       "21        1\n",
       "22        0\n",
       "23        0\n",
       "24        1\n",
       "25        0\n",
       "26        1\n",
       "27        1\n",
       "28        0\n",
       "29        0\n",
       "30        0\n",
       "31        0\n",
       "         ..\n",
       "887198    0\n",
       "887202    0\n",
       "887215    0\n",
       "887231    1\n",
       "887248    1\n",
       "887249    0\n",
       "887254    1\n",
       "887258    1\n",
       "887263    0\n",
       "887264    0\n",
       "887268    1\n",
       "887275    1\n",
       "887276    1\n",
       "887279    0\n",
       "887280    1\n",
       "887290    1\n",
       "887303    1\n",
       "887308    1\n",
       "887322    1\n",
       "887330    1\n",
       "887332    0\n",
       "887337    1\n",
       "887345    1\n",
       "887346    0\n",
       "887347    0\n",
       "887351    1\n",
       "887364    0\n",
       "887366    0\n",
       "887369    0\n",
       "887371    1\n",
       "Name: loan_status, Length: 270887, dtype: int64"
      ]
     },
     "execution_count": 14,
     "metadata": {},
     "output_type": "execute_result"
    }
   ],
   "source": [
    "\n",
    "loan.loan_status"
   ]
  },
  {
   "cell_type": "markdown",
   "metadata": {},
   "source": [
    "# 2. 양적변수 전처리"
   ]
  },
  {
   "cell_type": "code",
   "execution_count": 15,
   "metadata": {
    "collapsed": true
   },
   "outputs": [],
   "source": [
    "col_real = ['loan_amnt', 'funded_amnt', 'funded_amnt_inv', 'int_rate', 'installment', \n",
    "            'annual_inc', 'dti', 'open_acc', 'revol_bal', 'revol_util', 'total_acc', \n",
    "            'total_rec_prncp', 'total_rec_int', 'last_pymnt_amnt', 'tot_cur_bal',\n",
    "            'total_rev_hi_lim','total_pymnt', 'total_pymnt_inv','emp_length', ]\n",
    "# 19개"
   ]
  },
  {
   "cell_type": "code",
   "execution_count": 16,
   "metadata": {},
   "outputs": [
    {
     "data": {
      "text/html": [
       "<div>\n",
       "<style>\n",
       "    .dataframe thead tr:only-child th {\n",
       "        text-align: right;\n",
       "    }\n",
       "\n",
       "    .dataframe thead th {\n",
       "        text-align: left;\n",
       "    }\n",
       "\n",
       "    .dataframe tbody tr th {\n",
       "        vertical-align: top;\n",
       "    }\n",
       "</style>\n",
       "<table border=\"1\" class=\"dataframe\">\n",
       "  <thead>\n",
       "    <tr style=\"text-align: right;\">\n",
       "      <th></th>\n",
       "      <th>loan_amnt</th>\n",
       "      <th>funded_amnt</th>\n",
       "      <th>funded_amnt_inv</th>\n",
       "      <th>int_rate</th>\n",
       "      <th>installment</th>\n",
       "      <th>annual_inc</th>\n",
       "      <th>dti</th>\n",
       "      <th>open_acc</th>\n",
       "      <th>revol_bal</th>\n",
       "      <th>revol_util</th>\n",
       "      <th>total_acc</th>\n",
       "      <th>total_rec_prncp</th>\n",
       "      <th>total_rec_int</th>\n",
       "      <th>last_pymnt_amnt</th>\n",
       "      <th>tot_cur_bal</th>\n",
       "      <th>total_rev_hi_lim</th>\n",
       "      <th>total_pymnt</th>\n",
       "      <th>total_pymnt_inv</th>\n",
       "      <th>emp_length</th>\n",
       "    </tr>\n",
       "  </thead>\n",
       "  <tbody>\n",
       "    <tr>\n",
       "      <th>887351</th>\n",
       "      <td>4200.0</td>\n",
       "      <td>4200.0</td>\n",
       "      <td>4200.0</td>\n",
       "      <td>15.99</td>\n",
       "      <td>147.64</td>\n",
       "      <td>48000.0</td>\n",
       "      <td>36.93</td>\n",
       "      <td>13.0</td>\n",
       "      <td>12943.0</td>\n",
       "      <td>63.4</td>\n",
       "      <td>45.0</td>\n",
       "      <td>667.96</td>\n",
       "      <td>358.06</td>\n",
       "      <td>147.64</td>\n",
       "      <td>207975.0</td>\n",
       "      <td>20400.0</td>\n",
       "      <td>1026.02</td>\n",
       "      <td>1026.02</td>\n",
       "      <td>10+ years</td>\n",
       "    </tr>\n",
       "    <tr>\n",
       "      <th>887364</th>\n",
       "      <td>10775.0</td>\n",
       "      <td>10775.0</td>\n",
       "      <td>10775.0</td>\n",
       "      <td>6.03</td>\n",
       "      <td>327.95</td>\n",
       "      <td>54000.0</td>\n",
       "      <td>13.22</td>\n",
       "      <td>9.0</td>\n",
       "      <td>10776.0</td>\n",
       "      <td>25.8</td>\n",
       "      <td>21.0</td>\n",
       "      <td>10775.00</td>\n",
       "      <td>296.87</td>\n",
       "      <td>9439.34</td>\n",
       "      <td>24696.0</td>\n",
       "      <td>41700.0</td>\n",
       "      <td>11071.87</td>\n",
       "      <td>11071.87</td>\n",
       "      <td>&lt; 1 year</td>\n",
       "    </tr>\n",
       "    <tr>\n",
       "      <th>887366</th>\n",
       "      <td>6225.0</td>\n",
       "      <td>6225.0</td>\n",
       "      <td>6225.0</td>\n",
       "      <td>16.49</td>\n",
       "      <td>220.37</td>\n",
       "      <td>27000.0</td>\n",
       "      <td>18.58</td>\n",
       "      <td>3.0</td>\n",
       "      <td>1756.0</td>\n",
       "      <td>97.6</td>\n",
       "      <td>4.0</td>\n",
       "      <td>6225.00</td>\n",
       "      <td>825.46</td>\n",
       "      <td>4858.17</td>\n",
       "      <td>8357.0</td>\n",
       "      <td>1800.0</td>\n",
       "      <td>7050.46</td>\n",
       "      <td>7050.46</td>\n",
       "      <td>2 years</td>\n",
       "    </tr>\n",
       "    <tr>\n",
       "      <th>887369</th>\n",
       "      <td>4000.0</td>\n",
       "      <td>4000.0</td>\n",
       "      <td>4000.0</td>\n",
       "      <td>8.67</td>\n",
       "      <td>126.59</td>\n",
       "      <td>50000.0</td>\n",
       "      <td>12.63</td>\n",
       "      <td>11.0</td>\n",
       "      <td>1700.0</td>\n",
       "      <td>5.6</td>\n",
       "      <td>30.0</td>\n",
       "      <td>4000.00</td>\n",
       "      <td>158.02</td>\n",
       "      <td>3655.51</td>\n",
       "      <td>18979.0</td>\n",
       "      <td>30100.0</td>\n",
       "      <td>4158.02</td>\n",
       "      <td>4158.02</td>\n",
       "      <td>10+ years</td>\n",
       "    </tr>\n",
       "    <tr>\n",
       "      <th>887371</th>\n",
       "      <td>10850.0</td>\n",
       "      <td>10850.0</td>\n",
       "      <td>10850.0</td>\n",
       "      <td>19.24</td>\n",
       "      <td>399.04</td>\n",
       "      <td>32000.0</td>\n",
       "      <td>29.44</td>\n",
       "      <td>9.0</td>\n",
       "      <td>6987.0</td>\n",
       "      <td>41.6</td>\n",
       "      <td>20.0</td>\n",
       "      <td>1405.77</td>\n",
       "      <td>990.28</td>\n",
       "      <td>25.00</td>\n",
       "      <td>53777.0</td>\n",
       "      <td>16800.0</td>\n",
       "      <td>2396.05</td>\n",
       "      <td>2396.05</td>\n",
       "      <td>n/a</td>\n",
       "    </tr>\n",
       "  </tbody>\n",
       "</table>\n",
       "</div>"
      ],
      "text/plain": [
       "        loan_amnt  funded_amnt  funded_amnt_inv  int_rate  installment  \\\n",
       "887351     4200.0       4200.0           4200.0     15.99       147.64   \n",
       "887364    10775.0      10775.0          10775.0      6.03       327.95   \n",
       "887366     6225.0       6225.0           6225.0     16.49       220.37   \n",
       "887369     4000.0       4000.0           4000.0      8.67       126.59   \n",
       "887371    10850.0      10850.0          10850.0     19.24       399.04   \n",
       "\n",
       "        annual_inc    dti  open_acc  revol_bal  revol_util  total_acc  \\\n",
       "887351     48000.0  36.93      13.0    12943.0        63.4       45.0   \n",
       "887364     54000.0  13.22       9.0    10776.0        25.8       21.0   \n",
       "887366     27000.0  18.58       3.0     1756.0        97.6        4.0   \n",
       "887369     50000.0  12.63      11.0     1700.0         5.6       30.0   \n",
       "887371     32000.0  29.44       9.0     6987.0        41.6       20.0   \n",
       "\n",
       "        total_rec_prncp  total_rec_int  last_pymnt_amnt  tot_cur_bal  \\\n",
       "887351           667.96         358.06           147.64     207975.0   \n",
       "887364         10775.00         296.87          9439.34      24696.0   \n",
       "887366          6225.00         825.46          4858.17       8357.0   \n",
       "887369          4000.00         158.02          3655.51      18979.0   \n",
       "887371          1405.77         990.28            25.00      53777.0   \n",
       "\n",
       "        total_rev_hi_lim  total_pymnt  total_pymnt_inv emp_length  \n",
       "887351           20400.0      1026.02          1026.02  10+ years  \n",
       "887364           41700.0     11071.87         11071.87   < 1 year  \n",
       "887366            1800.0      7050.46          7050.46    2 years  \n",
       "887369           30100.0      4158.02          4158.02  10+ years  \n",
       "887371           16800.0      2396.05          2396.05        n/a  "
      ]
     },
     "execution_count": 16,
     "metadata": {},
     "output_type": "execute_result"
    }
   ],
   "source": [
    "loan_col_real = loan[col_real]\n",
    "loan_col_real.tail()"
   ]
  },
  {
   "cell_type": "code",
   "execution_count": 17,
   "metadata": {},
   "outputs": [
    {
     "data": {
      "text/plain": [
       "loan_amnt               0\n",
       "funded_amnt             0\n",
       "funded_amnt_inv         0\n",
       "int_rate                0\n",
       "installment             0\n",
       "annual_inc              4\n",
       "dti                     0\n",
       "open_acc               29\n",
       "revol_bal               0\n",
       "revol_util            251\n",
       "total_acc              29\n",
       "total_rec_prncp         0\n",
       "total_rec_int           0\n",
       "last_pymnt_amnt         0\n",
       "tot_cur_bal         66623\n",
       "total_rev_hi_lim    66623\n",
       "total_pymnt             0\n",
       "total_pymnt_inv         0\n",
       "emp_length              0\n",
       "dtype: int64"
      ]
     },
     "execution_count": 17,
     "metadata": {},
     "output_type": "execute_result"
    }
   ],
   "source": [
    "# 양적변수에서의 NA값\n",
    "loan_col_real.isnull().sum()"
   ]
  },
  {
   "cell_type": "markdown",
   "metadata": {
    "collapsed": true
   },
   "source": [
    "## 2-1) emp_length 숫자로 변환"
   ]
  },
  {
   "cell_type": "code",
   "execution_count": 18,
   "metadata": {},
   "outputs": [
    {
     "data": {
      "text/plain": [
       "10+ years    81939\n",
       "2 years      25261\n",
       "< 1 year     22686\n",
       "3 years      21873\n",
       "5 years      19150\n",
       "1 year       18224\n",
       "4 years      17295\n",
       "6 years      15676\n",
       "7 years      14964\n",
       "8 years      12692\n",
       "n/a          10863\n",
       "9 years      10264\n",
       "Name: emp_length, dtype: int64"
      ]
     },
     "execution_count": 18,
     "metadata": {},
     "output_type": "execute_result"
    }
   ],
   "source": [
    "#emp_length값 숫자로 변환 1\n",
    "loan_col_real['emp_length'].value_counts()\n"
   ]
  },
  {
   "cell_type": "code",
   "execution_count": 19,
   "metadata": {
    "collapsed": true
   },
   "outputs": [],
   "source": [
    "# 정규표현식을 사용하려 값을 변환하려 하였으나 계산 과부하로 replace 함수 사용\n",
    "# n/a의 값은 무시못할 정도로 많긴 하나 심사당시 재직기간에 대한 점수를 받지 못하였을 것으로 가정하고 0으로 할당\n",
    "loan['emp_length']= loan['emp_length'].replace({'10+ years':10, '2 years':2, '3 years':3,\n",
    "                                                                 '5 years':5, '1 year':1, '4 years':4,\n",
    "                                                                 '6 years':6, '7 years':7, '8 years': 8,\n",
    "                                                                 '9 years': 9, '< 1 year': 1, 'n/a':0})#._update_inplace(loan_col_real['emp_length'])"
   ]
  },
  {
   "cell_type": "code",
   "execution_count": 20,
   "metadata": {
    "collapsed": true
   },
   "outputs": [
    {
     "data": {
      "text/plain": [
       "0         10\n",
       "1          1\n",
       "2         10\n",
       "3         10\n",
       "5          3\n",
       "7          9\n",
       "8          4\n",
       "9          1\n",
       "10         5\n",
       "11        10\n",
       "12         1\n",
       "13         3\n",
       "14         3\n",
       "15         1\n",
       "16         4\n",
       "17        10\n",
       "18         1\n",
       "19         6\n",
       "20         3\n",
       "21        10\n",
       "22        10\n",
       "23         5\n",
       "24         1\n",
       "25         2\n",
       "26         9\n",
       "27         2\n",
       "28        10\n",
       "29         1\n",
       "30         7\n",
       "31         5\n",
       "          ..\n",
       "887198    10\n",
       "887202     1\n",
       "887215     6\n",
       "887231     2\n",
       "887248     4\n",
       "887249     1\n",
       "887254     5\n",
       "887258     5\n",
       "887263     1\n",
       "887264    10\n",
       "887268    10\n",
       "887275    10\n",
       "887276    10\n",
       "887279     5\n",
       "887280     3\n",
       "887290     8\n",
       "887303     9\n",
       "887308     0\n",
       "887322     2\n",
       "887330     5\n",
       "887332     6\n",
       "887337     0\n",
       "887345     3\n",
       "887346     4\n",
       "887347    10\n",
       "887351    10\n",
       "887364     1\n",
       "887366     2\n",
       "887369    10\n",
       "887371     0\n",
       "Name: emp_length, Length: 270887, dtype: int64"
      ]
     },
     "execution_count": 20,
     "metadata": {},
     "output_type": "execute_result"
    }
   ],
   "source": [
    "loan['emp_length']"
   ]
  },
  {
   "cell_type": "code",
   "execution_count": 21,
   "metadata": {},
   "outputs": [
    {
     "data": {
      "text/html": [
       "<div>\n",
       "<style>\n",
       "    .dataframe thead tr:only-child th {\n",
       "        text-align: right;\n",
       "    }\n",
       "\n",
       "    .dataframe thead th {\n",
       "        text-align: left;\n",
       "    }\n",
       "\n",
       "    .dataframe tbody tr th {\n",
       "        vertical-align: top;\n",
       "    }\n",
       "</style>\n",
       "<table border=\"1\" class=\"dataframe\">\n",
       "  <thead>\n",
       "    <tr style=\"text-align: right;\">\n",
       "      <th></th>\n",
       "      <th>loan_amnt</th>\n",
       "      <th>funded_amnt</th>\n",
       "      <th>funded_amnt_inv</th>\n",
       "      <th>int_rate</th>\n",
       "      <th>installment</th>\n",
       "      <th>annual_inc</th>\n",
       "      <th>dti</th>\n",
       "      <th>open_acc</th>\n",
       "      <th>revol_bal</th>\n",
       "      <th>revol_util</th>\n",
       "      <th>total_acc</th>\n",
       "      <th>total_rec_prncp</th>\n",
       "      <th>total_rec_int</th>\n",
       "      <th>last_pymnt_amnt</th>\n",
       "      <th>tot_cur_bal</th>\n",
       "      <th>total_rev_hi_lim</th>\n",
       "      <th>total_pymnt</th>\n",
       "      <th>total_pymnt_inv</th>\n",
       "      <th>emp_length</th>\n",
       "    </tr>\n",
       "  </thead>\n",
       "  <tbody>\n",
       "    <tr>\n",
       "      <th>887351</th>\n",
       "      <td>4200.0</td>\n",
       "      <td>4200.0</td>\n",
       "      <td>4200.0</td>\n",
       "      <td>15.99</td>\n",
       "      <td>147.64</td>\n",
       "      <td>48000.0</td>\n",
       "      <td>36.93</td>\n",
       "      <td>13.0</td>\n",
       "      <td>12943.0</td>\n",
       "      <td>63.4</td>\n",
       "      <td>45.0</td>\n",
       "      <td>667.96</td>\n",
       "      <td>358.06</td>\n",
       "      <td>147.64</td>\n",
       "      <td>207975.0</td>\n",
       "      <td>20400.0</td>\n",
       "      <td>1026.02</td>\n",
       "      <td>1026.02</td>\n",
       "      <td>10+ years</td>\n",
       "    </tr>\n",
       "    <tr>\n",
       "      <th>887364</th>\n",
       "      <td>10775.0</td>\n",
       "      <td>10775.0</td>\n",
       "      <td>10775.0</td>\n",
       "      <td>6.03</td>\n",
       "      <td>327.95</td>\n",
       "      <td>54000.0</td>\n",
       "      <td>13.22</td>\n",
       "      <td>9.0</td>\n",
       "      <td>10776.0</td>\n",
       "      <td>25.8</td>\n",
       "      <td>21.0</td>\n",
       "      <td>10775.00</td>\n",
       "      <td>296.87</td>\n",
       "      <td>9439.34</td>\n",
       "      <td>24696.0</td>\n",
       "      <td>41700.0</td>\n",
       "      <td>11071.87</td>\n",
       "      <td>11071.87</td>\n",
       "      <td>&lt; 1 year</td>\n",
       "    </tr>\n",
       "    <tr>\n",
       "      <th>887366</th>\n",
       "      <td>6225.0</td>\n",
       "      <td>6225.0</td>\n",
       "      <td>6225.0</td>\n",
       "      <td>16.49</td>\n",
       "      <td>220.37</td>\n",
       "      <td>27000.0</td>\n",
       "      <td>18.58</td>\n",
       "      <td>3.0</td>\n",
       "      <td>1756.0</td>\n",
       "      <td>97.6</td>\n",
       "      <td>4.0</td>\n",
       "      <td>6225.00</td>\n",
       "      <td>825.46</td>\n",
       "      <td>4858.17</td>\n",
       "      <td>8357.0</td>\n",
       "      <td>1800.0</td>\n",
       "      <td>7050.46</td>\n",
       "      <td>7050.46</td>\n",
       "      <td>2 years</td>\n",
       "    </tr>\n",
       "    <tr>\n",
       "      <th>887369</th>\n",
       "      <td>4000.0</td>\n",
       "      <td>4000.0</td>\n",
       "      <td>4000.0</td>\n",
       "      <td>8.67</td>\n",
       "      <td>126.59</td>\n",
       "      <td>50000.0</td>\n",
       "      <td>12.63</td>\n",
       "      <td>11.0</td>\n",
       "      <td>1700.0</td>\n",
       "      <td>5.6</td>\n",
       "      <td>30.0</td>\n",
       "      <td>4000.00</td>\n",
       "      <td>158.02</td>\n",
       "      <td>3655.51</td>\n",
       "      <td>18979.0</td>\n",
       "      <td>30100.0</td>\n",
       "      <td>4158.02</td>\n",
       "      <td>4158.02</td>\n",
       "      <td>10+ years</td>\n",
       "    </tr>\n",
       "    <tr>\n",
       "      <th>887371</th>\n",
       "      <td>10850.0</td>\n",
       "      <td>10850.0</td>\n",
       "      <td>10850.0</td>\n",
       "      <td>19.24</td>\n",
       "      <td>399.04</td>\n",
       "      <td>32000.0</td>\n",
       "      <td>29.44</td>\n",
       "      <td>9.0</td>\n",
       "      <td>6987.0</td>\n",
       "      <td>41.6</td>\n",
       "      <td>20.0</td>\n",
       "      <td>1405.77</td>\n",
       "      <td>990.28</td>\n",
       "      <td>25.00</td>\n",
       "      <td>53777.0</td>\n",
       "      <td>16800.0</td>\n",
       "      <td>2396.05</td>\n",
       "      <td>2396.05</td>\n",
       "      <td>n/a</td>\n",
       "    </tr>\n",
       "  </tbody>\n",
       "</table>\n",
       "</div>"
      ],
      "text/plain": [
       "        loan_amnt  funded_amnt  funded_amnt_inv  int_rate  installment  \\\n",
       "887351     4200.0       4200.0           4200.0     15.99       147.64   \n",
       "887364    10775.0      10775.0          10775.0      6.03       327.95   \n",
       "887366     6225.0       6225.0           6225.0     16.49       220.37   \n",
       "887369     4000.0       4000.0           4000.0      8.67       126.59   \n",
       "887371    10850.0      10850.0          10850.0     19.24       399.04   \n",
       "\n",
       "        annual_inc    dti  open_acc  revol_bal  revol_util  total_acc  \\\n",
       "887351     48000.0  36.93      13.0    12943.0        63.4       45.0   \n",
       "887364     54000.0  13.22       9.0    10776.0        25.8       21.0   \n",
       "887366     27000.0  18.58       3.0     1756.0        97.6        4.0   \n",
       "887369     50000.0  12.63      11.0     1700.0         5.6       30.0   \n",
       "887371     32000.0  29.44       9.0     6987.0        41.6       20.0   \n",
       "\n",
       "        total_rec_prncp  total_rec_int  last_pymnt_amnt  tot_cur_bal  \\\n",
       "887351           667.96         358.06           147.64     207975.0   \n",
       "887364         10775.00         296.87          9439.34      24696.0   \n",
       "887366          6225.00         825.46          4858.17       8357.0   \n",
       "887369          4000.00         158.02          3655.51      18979.0   \n",
       "887371          1405.77         990.28            25.00      53777.0   \n",
       "\n",
       "        total_rev_hi_lim  total_pymnt  total_pymnt_inv emp_length  \n",
       "887351           20400.0      1026.02          1026.02  10+ years  \n",
       "887364           41700.0     11071.87         11071.87   < 1 year  \n",
       "887366            1800.0      7050.46          7050.46    2 years  \n",
       "887369           30100.0      4158.02          4158.02  10+ years  \n",
       "887371           16800.0      2396.05          2396.05        n/a  "
      ]
     },
     "execution_count": 21,
     "metadata": {},
     "output_type": "execute_result"
    }
   ],
   "source": [
    "loan_col_real.tail()"
   ]
  },
  {
   "cell_type": "markdown",
   "metadata": {},
   "source": [
    "## 2-2) open_acc \n",
    "* 신용 거래의 수"
   ]
  },
  {
   "cell_type": "code",
   "execution_count": 22,
   "metadata": {
    "collapsed": true
   },
   "outputs": [
    {
     "data": {
      "text/plain": [
       "9.0     25876\n",
       "8.0     24713\n",
       "10.0    24478\n",
       "11.0    22608\n",
       "7.0     22406\n",
       "12.0    19862\n",
       "6.0     18896\n",
       "13.0    16651\n",
       "14.0    13972\n",
       "5.0     13359\n",
       "15.0    11304\n",
       "16.0     9341\n",
       "4.0      8036\n",
       "17.0     7392\n",
       "18.0     6008\n",
       "19.0     4796\n",
       "3.0      3806\n",
       "20.0     3684\n",
       "21.0     2876\n",
       "22.0     2233\n",
       "23.0     1694\n",
       "2.0      1344\n",
       "24.0     1342\n",
       "25.0      982\n",
       "26.0      691\n",
       "27.0      570\n",
       "28.0      378\n",
       "29.0      294\n",
       "30.0      242\n",
       "31.0      177\n",
       "32.0      169\n",
       "33.0      127\n",
       "34.0       98\n",
       "1.0        88\n",
       "35.0       67\n",
       "36.0       57\n",
       "37.0       51\n",
       "38.0       35\n",
       "39.0       28\n",
       "40.0       23\n",
       "41.0       18\n",
       "42.0       15\n",
       "43.0       12\n",
       "44.0        8\n",
       "45.0        8\n",
       "47.0        8\n",
       "46.0        7\n",
       "0.0         6\n",
       "49.0        4\n",
       "48.0        3\n",
       "52.0        3\n",
       "50.0        3\n",
       "76.0        2\n",
       "53.0        2\n",
       "54.0        1\n",
       "58.0        1\n",
       "55.0        1\n",
       "56.0        1\n",
       "51.0        1\n",
       "Name: open_acc, dtype: int64"
      ]
     },
     "execution_count": 22,
     "metadata": {},
     "output_type": "execute_result"
    }
   ],
   "source": [
    "\n",
    "loan_col_real.open_acc.value_counts()"
   ]
  },
  {
   "cell_type": "code",
   "execution_count": 23,
   "metadata": {
    "scrolled": true
   },
   "outputs": [
    {
     "data": {
      "text/plain": [
       "array([  3.,   2.,  10.,   9.,   4.,  11.,  14.,  12.,  20.,   8.,   7.,\n",
       "         6.,  15.,  17.,   5.,  13.,  16.,  30.,  21.,  18.,  19.,  27.,\n",
       "        23.,  34.,  25.,  22.,  24.,  26.,  32.,  29.,  28.,  33.,  31.,\n",
       "        39.,  35.,  36.,  38.,  44.,  41.,  42.,   1.,  46.,  37.,  47.,\n",
       "        nan,  40.,  49.,  45.,  43.,   0.,  48.,  50.,  52.,  76.,  55.,\n",
       "        58.,  54.,  51.,  53.,  56.])"
      ]
     },
     "execution_count": 23,
     "metadata": {},
     "output_type": "execute_result"
    }
   ],
   "source": [
    "loan_col_real.open_acc.unique()"
   ]
  },
  {
   "cell_type": "code",
   "execution_count": 24,
   "metadata": {},
   "outputs": [
    {
     "data": {
      "text/plain": [
       "count    270858.000000\n",
       "mean         10.975987\n",
       "std           4.928649\n",
       "min           0.000000\n",
       "25%           7.000000\n",
       "50%          10.000000\n",
       "75%          14.000000\n",
       "max          76.000000\n",
       "Name: open_acc, dtype: float64"
      ]
     },
     "execution_count": 24,
     "metadata": {},
     "output_type": "execute_result"
    }
   ],
   "source": [
    "loan_col_real.open_acc.describe()\n",
    "#평균값 10으로 NAN\n",
    "        "
   ]
  },
  {
   "cell_type": "code",
   "execution_count": 25,
   "metadata": {
    "collapsed": true
   },
   "outputs": [],
   "source": [
    "loan.open_acc.fillna(10, inplace = True)\n",
    "# Nan 값을 평균 값으로 대체 : 결과가 거의 상환"
   ]
  },
  {
   "cell_type": "code",
   "execution_count": 26,
   "metadata": {},
   "outputs": [
    {
     "data": {
      "text/plain": [
       "False    270887\n",
       "Name: open_acc, dtype: int64"
      ]
     },
     "execution_count": 26,
     "metadata": {},
     "output_type": "execute_result"
    }
   ],
   "source": [
    "#다시한번 확인\n",
    "loan.open_acc.isnull().value_counts()"
   ]
  },
  {
   "cell_type": "markdown",
   "metadata": {},
   "source": [
    "## 2- 3) annual_inc\n",
    "* 연간 소득"
   ]
  },
  {
   "cell_type": "code",
   "execution_count": 27,
   "metadata": {},
   "outputs": [
    {
     "data": {
      "text/plain": [
       "count    2.708830e+05\n",
       "mean     7.239960e+04\n",
       "std      5.834776e+04\n",
       "min      1.896000e+03\n",
       "25%      4.500000e+04\n",
       "50%      6.200000e+04\n",
       "75%      8.700000e+04\n",
       "max      8.706582e+06\n",
       "Name: annual_inc, dtype: float64"
      ]
     },
     "execution_count": 27,
     "metadata": {},
     "output_type": "execute_result"
    }
   ],
   "source": [
    "loan_col_real.annual_inc.describe()"
   ]
  },
  {
   "cell_type": "code",
   "execution_count": 28,
   "metadata": {},
   "outputs": [
    {
     "data": {
      "text/html": [
       "<div>\n",
       "<style>\n",
       "    .dataframe thead tr:only-child th {\n",
       "        text-align: right;\n",
       "    }\n",
       "\n",
       "    .dataframe thead th {\n",
       "        text-align: left;\n",
       "    }\n",
       "\n",
       "    .dataframe tbody tr th {\n",
       "        vertical-align: top;\n",
       "    }\n",
       "</style>\n",
       "<table border=\"1\" class=\"dataframe\">\n",
       "  <thead>\n",
       "    <tr style=\"text-align: right;\">\n",
       "      <th></th>\n",
       "      <th>loan_amnt</th>\n",
       "      <th>funded_amnt</th>\n",
       "      <th>funded_amnt_inv</th>\n",
       "      <th>int_rate</th>\n",
       "      <th>installment</th>\n",
       "      <th>annual_inc</th>\n",
       "      <th>dti</th>\n",
       "      <th>open_acc</th>\n",
       "      <th>revol_bal</th>\n",
       "      <th>revol_util</th>\n",
       "      <th>total_acc</th>\n",
       "      <th>total_rec_prncp</th>\n",
       "      <th>total_rec_int</th>\n",
       "      <th>last_pymnt_amnt</th>\n",
       "      <th>tot_cur_bal</th>\n",
       "      <th>total_rev_hi_lim</th>\n",
       "      <th>total_pymnt</th>\n",
       "      <th>total_pymnt_inv</th>\n",
       "      <th>emp_length</th>\n",
       "    </tr>\n",
       "  </thead>\n",
       "  <tbody>\n",
       "    <tr>\n",
       "      <th>42449</th>\n",
       "      <td>5000.0</td>\n",
       "      <td>5000.0</td>\n",
       "      <td>3025.0</td>\n",
       "      <td>7.43</td>\n",
       "      <td>155.38</td>\n",
       "      <td>NaN</td>\n",
       "      <td>1.0</td>\n",
       "      <td>NaN</td>\n",
       "      <td>0.0</td>\n",
       "      <td>NaN</td>\n",
       "      <td>NaN</td>\n",
       "      <td>5000.0</td>\n",
       "      <td>593.46</td>\n",
       "      <td>157.31</td>\n",
       "      <td>NaN</td>\n",
       "      <td>NaN</td>\n",
       "      <td>5593.46</td>\n",
       "      <td>3384.01</td>\n",
       "      <td>&lt; 1 year</td>\n",
       "    </tr>\n",
       "    <tr>\n",
       "      <th>42450</th>\n",
       "      <td>7000.0</td>\n",
       "      <td>7000.0</td>\n",
       "      <td>3450.0</td>\n",
       "      <td>7.75</td>\n",
       "      <td>218.55</td>\n",
       "      <td>NaN</td>\n",
       "      <td>1.0</td>\n",
       "      <td>NaN</td>\n",
       "      <td>0.0</td>\n",
       "      <td>NaN</td>\n",
       "      <td>NaN</td>\n",
       "      <td>7000.0</td>\n",
       "      <td>867.53</td>\n",
       "      <td>220.03</td>\n",
       "      <td>NaN</td>\n",
       "      <td>NaN</td>\n",
       "      <td>7867.53</td>\n",
       "      <td>3877.59</td>\n",
       "      <td>&lt; 1 year</td>\n",
       "    </tr>\n",
       "    <tr>\n",
       "      <th>42480</th>\n",
       "      <td>6700.0</td>\n",
       "      <td>6700.0</td>\n",
       "      <td>6700.0</td>\n",
       "      <td>7.75</td>\n",
       "      <td>209.18</td>\n",
       "      <td>NaN</td>\n",
       "      <td>1.0</td>\n",
       "      <td>NaN</td>\n",
       "      <td>0.0</td>\n",
       "      <td>NaN</td>\n",
       "      <td>NaN</td>\n",
       "      <td>6700.0</td>\n",
       "      <td>830.42</td>\n",
       "      <td>209.89</td>\n",
       "      <td>NaN</td>\n",
       "      <td>NaN</td>\n",
       "      <td>7530.42</td>\n",
       "      <td>7530.42</td>\n",
       "      <td>&lt; 1 year</td>\n",
       "    </tr>\n",
       "    <tr>\n",
       "      <th>42533</th>\n",
       "      <td>6500.0</td>\n",
       "      <td>6500.0</td>\n",
       "      <td>0.0</td>\n",
       "      <td>8.38</td>\n",
       "      <td>204.84</td>\n",
       "      <td>NaN</td>\n",
       "      <td>4.0</td>\n",
       "      <td>NaN</td>\n",
       "      <td>0.0</td>\n",
       "      <td>NaN</td>\n",
       "      <td>NaN</td>\n",
       "      <td>6500.0</td>\n",
       "      <td>873.83</td>\n",
       "      <td>205.32</td>\n",
       "      <td>NaN</td>\n",
       "      <td>NaN</td>\n",
       "      <td>7373.83</td>\n",
       "      <td>0.00</td>\n",
       "      <td>&lt; 1 year</td>\n",
       "    </tr>\n",
       "  </tbody>\n",
       "</table>\n",
       "</div>"
      ],
      "text/plain": [
       "       loan_amnt  funded_amnt  funded_amnt_inv  int_rate  installment  \\\n",
       "42449     5000.0       5000.0           3025.0      7.43       155.38   \n",
       "42450     7000.0       7000.0           3450.0      7.75       218.55   \n",
       "42480     6700.0       6700.0           6700.0      7.75       209.18   \n",
       "42533     6500.0       6500.0              0.0      8.38       204.84   \n",
       "\n",
       "       annual_inc  dti  open_acc  revol_bal  revol_util  total_acc  \\\n",
       "42449         NaN  1.0       NaN        0.0         NaN        NaN   \n",
       "42450         NaN  1.0       NaN        0.0         NaN        NaN   \n",
       "42480         NaN  1.0       NaN        0.0         NaN        NaN   \n",
       "42533         NaN  4.0       NaN        0.0         NaN        NaN   \n",
       "\n",
       "       total_rec_prncp  total_rec_int  last_pymnt_amnt  tot_cur_bal  \\\n",
       "42449           5000.0         593.46           157.31          NaN   \n",
       "42450           7000.0         867.53           220.03          NaN   \n",
       "42480           6700.0         830.42           209.89          NaN   \n",
       "42533           6500.0         873.83           205.32          NaN   \n",
       "\n",
       "       total_rev_hi_lim  total_pymnt  total_pymnt_inv emp_length  \n",
       "42449               NaN      5593.46          3384.01   < 1 year  \n",
       "42450               NaN      7867.53          3877.59   < 1 year  \n",
       "42480               NaN      7530.42          7530.42   < 1 year  \n",
       "42533               NaN      7373.83             0.00   < 1 year  "
      ]
     },
     "execution_count": 28,
     "metadata": {},
     "output_type": "execute_result"
    }
   ],
   "source": [
    "loan_col_real.loc[loan_col_real.annual_inc.isnull()]\n",
    "# Nan인 차주는 규정에 맞지 않아 전액 상환임을 알수 있고 재직기간은 1년 미만임을 알 수 있다\n",
    "# 연간 소득액이 없거나 매우 적음으로 추정하고 최소값으로 대체한다"
   ]
  },
  {
   "cell_type": "code",
   "execution_count": 29,
   "metadata": {
    "collapsed": true
   },
   "outputs": [],
   "source": [
    "loan.annual_inc.fillna(loan_col_real.annual_inc.min(), inplace = True)"
   ]
  },
  {
   "cell_type": "code",
   "execution_count": 30,
   "metadata": {},
   "outputs": [
    {
     "data": {
      "text/plain": [
       "False    270887\n",
       "Name: annual_inc, dtype: int64"
      ]
     },
     "execution_count": 30,
     "metadata": {},
     "output_type": "execute_result"
    }
   ],
   "source": [
    "loan.annual_inc.isnull().value_counts()\n",
    "# Nan 값이 없어짐을 확인함"
   ]
  },
  {
   "cell_type": "markdown",
   "metadata": {},
   "source": [
    "## 2-4) revol_util  \n",
    "* Revolving line utilization rate, or the amount of credit the borrower is using relative to all available revolving credit.\n",
    "* 한도대출 소진율 또는 현재 이용가능한 모든 한도 대출 중 차주가 사용하고 있는 금액\n"
   ]
  },
  {
   "cell_type": "code",
   "execution_count": 31,
   "metadata": {},
   "outputs": [
    {
     "name": "stdout",
     "output_type": "stream",
     "text": [
      "count    270636.000000\n",
      "mean         54.524092\n",
      "std          24.768499\n",
      "min           0.000000\n",
      "25%          36.500000\n",
      "50%          56.000000\n",
      "75%          74.100000\n",
      "max         892.300000\n",
      "Name: revol_util, dtype: float64\n",
      "most frequently used value: 0    0.0\n",
      "dtype: float64\n"
     ]
    },
    {
     "data": {
      "image/png": "[encoded data removed]",
      "text/plain": [
       "<matplotlib.figure.Figure at 0x10ad410f0>"
      ]
     },
     "metadata": {},
     "output_type": "display_data"
    }
   ],
   "source": [
    "print (loan_col_real.revol_util.describe())\n",
    "print (\"most frequently used value: {}\".format(loan_col_real.revol_util.mode()))\n",
    "\n",
    "X = loan_col_real.loc[loan_col_real['revol_util'].notnull()]\n",
    "X = X.revol_util.astype(int)\n",
    "\n",
    "\n",
    "sns.boxplot(X)\n",
    "plt.show()"
   ]
  },
  {
   "cell_type": "code",
   "execution_count": 54,
   "metadata": {},
   "outputs": [
    {
     "name": "stdout",
     "output_type": "stream",
     "text": [
      "False    270887\n",
      "Name: revol_util, dtype: int64\n",
      "270887\n"
     ]
    }
   ],
   "source": [
    "# 평균이 올라간 것은 max 값의 영향이 큰것으로 간주되어 결손값은 최빈값인 0으로 채운다\n",
    "loan.revol_util.fillna(0, inplace = True)\n",
    "\n",
    "print (loan.revol_util.isnull().value_counts())\n",
    "\n",
    "print (loan.revol_util.isnull().count())"
   ]
  },
  {
   "cell_type": "markdown",
   "metadata": {},
   "source": [
    "## 2-5) total_acc \n",
    "* 현재 차주가 사용하고 있는 신용 한도"
   ]
  },
  {
   "cell_type": "code",
   "execution_count": 33,
   "metadata": {},
   "outputs": [
    {
     "data": {
      "text/plain": [
       "False    270858\n",
       "True         29\n",
       "Name: total_acc, dtype: int64"
      ]
     },
     "execution_count": 33,
     "metadata": {},
     "output_type": "execute_result"
    }
   ],
   "source": [
    "loan_col_real.total_acc.isnull().value_counts()"
   ]
  },
  {
   "cell_type": "code",
   "execution_count": 34,
   "metadata": {
    "collapsed": true
   },
   "outputs": [
    {
     "data": {
      "text/html": [
       "<div>\n",
       "<style>\n",
       "    .dataframe thead tr:only-child th {\n",
       "        text-align: right;\n",
       "    }\n",
       "\n",
       "    .dataframe thead th {\n",
       "        text-align: left;\n",
       "    }\n",
       "\n",
       "    .dataframe tbody tr th {\n",
       "        vertical-align: top;\n",
       "    }\n",
       "</style>\n",
       "<table border=\"1\" class=\"dataframe\">\n",
       "  <thead>\n",
       "    <tr style=\"text-align: right;\">\n",
       "      <th></th>\n",
       "      <th>loan_amnt</th>\n",
       "      <th>funded_amnt</th>\n",
       "      <th>funded_amnt_inv</th>\n",
       "      <th>int_rate</th>\n",
       "      <th>installment</th>\n",
       "      <th>annual_inc</th>\n",
       "      <th>dti</th>\n",
       "      <th>open_acc</th>\n",
       "      <th>revol_bal</th>\n",
       "      <th>revol_util</th>\n",
       "      <th>total_acc</th>\n",
       "      <th>total_rec_prncp</th>\n",
       "      <th>total_rec_int</th>\n",
       "      <th>last_pymnt_amnt</th>\n",
       "      <th>tot_cur_bal</th>\n",
       "      <th>total_rev_hi_lim</th>\n",
       "      <th>total_pymnt</th>\n",
       "      <th>total_pymnt_inv</th>\n",
       "      <th>emp_length</th>\n",
       "    </tr>\n",
       "  </thead>\n",
       "  <tbody>\n",
       "    <tr>\n",
       "      <th>239772</th>\n",
       "      <td>35000.0</td>\n",
       "      <td>35000.0</td>\n",
       "      <td>35000.0</td>\n",
       "      <td>8.67</td>\n",
       "      <td>1107.63</td>\n",
       "      <td>189000.0</td>\n",
       "      <td>6.63</td>\n",
       "      <td>40.0</td>\n",
       "      <td>39065.0</td>\n",
       "      <td>44.4</td>\n",
       "      <td>150.0</td>\n",
       "      <td>35000.00</td>\n",
       "      <td>2769.97</td>\n",
       "      <td>25602.90</td>\n",
       "      <td>44978.0</td>\n",
       "      <td>88000.0</td>\n",
       "      <td>37769.97</td>\n",
       "      <td>37769.97</td>\n",
       "      <td>10+ years</td>\n",
       "    </tr>\n",
       "    <tr>\n",
       "      <th>42449</th>\n",
       "      <td>5000.0</td>\n",
       "      <td>5000.0</td>\n",
       "      <td>3025.0</td>\n",
       "      <td>7.43</td>\n",
       "      <td>155.38</td>\n",
       "      <td>NaN</td>\n",
       "      <td>1.00</td>\n",
       "      <td>NaN</td>\n",
       "      <td>0.0</td>\n",
       "      <td>NaN</td>\n",
       "      <td>NaN</td>\n",
       "      <td>5000.00</td>\n",
       "      <td>593.46</td>\n",
       "      <td>157.31</td>\n",
       "      <td>NaN</td>\n",
       "      <td>NaN</td>\n",
       "      <td>5593.46</td>\n",
       "      <td>3384.01</td>\n",
       "      <td>&lt; 1 year</td>\n",
       "    </tr>\n",
       "    <tr>\n",
       "      <th>42450</th>\n",
       "      <td>7000.0</td>\n",
       "      <td>7000.0</td>\n",
       "      <td>3450.0</td>\n",
       "      <td>7.75</td>\n",
       "      <td>218.55</td>\n",
       "      <td>NaN</td>\n",
       "      <td>1.00</td>\n",
       "      <td>NaN</td>\n",
       "      <td>0.0</td>\n",
       "      <td>NaN</td>\n",
       "      <td>NaN</td>\n",
       "      <td>7000.00</td>\n",
       "      <td>867.53</td>\n",
       "      <td>220.03</td>\n",
       "      <td>NaN</td>\n",
       "      <td>NaN</td>\n",
       "      <td>7867.53</td>\n",
       "      <td>3877.59</td>\n",
       "      <td>&lt; 1 year</td>\n",
       "    </tr>\n",
       "    <tr>\n",
       "      <th>42459</th>\n",
       "      <td>4350.0</td>\n",
       "      <td>4350.0</td>\n",
       "      <td>825.0</td>\n",
       "      <td>8.07</td>\n",
       "      <td>136.45</td>\n",
       "      <td>120000.0</td>\n",
       "      <td>4.00</td>\n",
       "      <td>NaN</td>\n",
       "      <td>0.0</td>\n",
       "      <td>NaN</td>\n",
       "      <td>NaN</td>\n",
       "      <td>4350.00</td>\n",
       "      <td>561.68</td>\n",
       "      <td>139.93</td>\n",
       "      <td>NaN</td>\n",
       "      <td>NaN</td>\n",
       "      <td>4911.68</td>\n",
       "      <td>931.41</td>\n",
       "      <td>&lt; 1 year</td>\n",
       "    </tr>\n",
       "    <tr>\n",
       "      <th>42472</th>\n",
       "      <td>3900.0</td>\n",
       "      <td>3900.0</td>\n",
       "      <td>2025.0</td>\n",
       "      <td>9.33</td>\n",
       "      <td>124.62</td>\n",
       "      <td>98000.0</td>\n",
       "      <td>10.00</td>\n",
       "      <td>NaN</td>\n",
       "      <td>0.0</td>\n",
       "      <td>NaN</td>\n",
       "      <td>NaN</td>\n",
       "      <td>3900.00</td>\n",
       "      <td>585.99</td>\n",
       "      <td>126.06</td>\n",
       "      <td>NaN</td>\n",
       "      <td>NaN</td>\n",
       "      <td>4485.99</td>\n",
       "      <td>2329.19</td>\n",
       "      <td>&lt; 1 year</td>\n",
       "    </tr>\n",
       "    <tr>\n",
       "      <th>42480</th>\n",
       "      <td>6700.0</td>\n",
       "      <td>6700.0</td>\n",
       "      <td>6700.0</td>\n",
       "      <td>7.75</td>\n",
       "      <td>209.18</td>\n",
       "      <td>NaN</td>\n",
       "      <td>1.00</td>\n",
       "      <td>NaN</td>\n",
       "      <td>0.0</td>\n",
       "      <td>NaN</td>\n",
       "      <td>NaN</td>\n",
       "      <td>6700.00</td>\n",
       "      <td>830.42</td>\n",
       "      <td>209.89</td>\n",
       "      <td>NaN</td>\n",
       "      <td>NaN</td>\n",
       "      <td>7530.42</td>\n",
       "      <td>7530.42</td>\n",
       "      <td>&lt; 1 year</td>\n",
       "    </tr>\n",
       "    <tr>\n",
       "      <th>42483</th>\n",
       "      <td>3200.0</td>\n",
       "      <td>3200.0</td>\n",
       "      <td>2000.0</td>\n",
       "      <td>9.96</td>\n",
       "      <td>103.20</td>\n",
       "      <td>150000.0</td>\n",
       "      <td>10.00</td>\n",
       "      <td>NaN</td>\n",
       "      <td>0.0</td>\n",
       "      <td>NaN</td>\n",
       "      <td>NaN</td>\n",
       "      <td>3200.00</td>\n",
       "      <td>390.53</td>\n",
       "      <td>1733.32</td>\n",
       "      <td>NaN</td>\n",
       "      <td>NaN</td>\n",
       "      <td>3590.53</td>\n",
       "      <td>2244.09</td>\n",
       "      <td>&lt; 1 year</td>\n",
       "    </tr>\n",
       "    <tr>\n",
       "      <th>42494</th>\n",
       "      <td>7200.0</td>\n",
       "      <td>5075.0</td>\n",
       "      <td>350.0</td>\n",
       "      <td>10.28</td>\n",
       "      <td>164.42</td>\n",
       "      <td>95000.0</td>\n",
       "      <td>10.00</td>\n",
       "      <td>NaN</td>\n",
       "      <td>0.0</td>\n",
       "      <td>NaN</td>\n",
       "      <td>NaN</td>\n",
       "      <td>5075.00</td>\n",
       "      <td>843.33</td>\n",
       "      <td>168.44</td>\n",
       "      <td>NaN</td>\n",
       "      <td>NaN</td>\n",
       "      <td>5918.33</td>\n",
       "      <td>407.83</td>\n",
       "      <td>&lt; 1 year</td>\n",
       "    </tr>\n",
       "    <tr>\n",
       "      <th>42509</th>\n",
       "      <td>1900.0</td>\n",
       "      <td>1900.0</td>\n",
       "      <td>900.0</td>\n",
       "      <td>9.64</td>\n",
       "      <td>61.00</td>\n",
       "      <td>100000.0</td>\n",
       "      <td>10.00</td>\n",
       "      <td>NaN</td>\n",
       "      <td>0.0</td>\n",
       "      <td>NaN</td>\n",
       "      <td>NaN</td>\n",
       "      <td>1900.00</td>\n",
       "      <td>99.12</td>\n",
       "      <td>0.00</td>\n",
       "      <td>NaN</td>\n",
       "      <td>NaN</td>\n",
       "      <td>1999.12</td>\n",
       "      <td>946.95</td>\n",
       "      <td>1 year</td>\n",
       "    </tr>\n",
       "    <tr>\n",
       "      <th>42514</th>\n",
       "      <td>1200.0</td>\n",
       "      <td>1200.0</td>\n",
       "      <td>500.0</td>\n",
       "      <td>9.01</td>\n",
       "      <td>38.17</td>\n",
       "      <td>36000.0</td>\n",
       "      <td>3.27</td>\n",
       "      <td>NaN</td>\n",
       "      <td>0.0</td>\n",
       "      <td>NaN</td>\n",
       "      <td>NaN</td>\n",
       "      <td>1200.00</td>\n",
       "      <td>173.88</td>\n",
       "      <td>39.05</td>\n",
       "      <td>NaN</td>\n",
       "      <td>NaN</td>\n",
       "      <td>1373.88</td>\n",
       "      <td>572.45</td>\n",
       "      <td>&lt; 1 year</td>\n",
       "    </tr>\n",
       "    <tr>\n",
       "      <th>42515</th>\n",
       "      <td>5000.0</td>\n",
       "      <td>5000.0</td>\n",
       "      <td>375.0</td>\n",
       "      <td>11.22</td>\n",
       "      <td>164.23</td>\n",
       "      <td>28000.0</td>\n",
       "      <td>3.51</td>\n",
       "      <td>NaN</td>\n",
       "      <td>0.0</td>\n",
       "      <td>NaN</td>\n",
       "      <td>NaN</td>\n",
       "      <td>5000.00</td>\n",
       "      <td>828.36</td>\n",
       "      <td>149.43</td>\n",
       "      <td>NaN</td>\n",
       "      <td>NaN</td>\n",
       "      <td>5858.35</td>\n",
       "      <td>439.33</td>\n",
       "      <td>&lt; 1 year</td>\n",
       "    </tr>\n",
       "    <tr>\n",
       "      <th>42516</th>\n",
       "      <td>1400.0</td>\n",
       "      <td>1400.0</td>\n",
       "      <td>475.0</td>\n",
       "      <td>10.91</td>\n",
       "      <td>45.78</td>\n",
       "      <td>40000.0</td>\n",
       "      <td>8.61</td>\n",
       "      <td>NaN</td>\n",
       "      <td>0.0</td>\n",
       "      <td>NaN</td>\n",
       "      <td>NaN</td>\n",
       "      <td>1400.00</td>\n",
       "      <td>248.05</td>\n",
       "      <td>1.78</td>\n",
       "      <td>NaN</td>\n",
       "      <td>NaN</td>\n",
       "      <td>1663.04</td>\n",
       "      <td>564.18</td>\n",
       "      <td>&lt; 1 year</td>\n",
       "    </tr>\n",
       "    <tr>\n",
       "      <th>42517</th>\n",
       "      <td>1000.0</td>\n",
       "      <td>1000.0</td>\n",
       "      <td>625.0</td>\n",
       "      <td>14.07</td>\n",
       "      <td>34.21</td>\n",
       "      <td>25000.0</td>\n",
       "      <td>16.27</td>\n",
       "      <td>NaN</td>\n",
       "      <td>0.0</td>\n",
       "      <td>NaN</td>\n",
       "      <td>NaN</td>\n",
       "      <td>1000.00</td>\n",
       "      <td>231.38</td>\n",
       "      <td>35.27</td>\n",
       "      <td>NaN</td>\n",
       "      <td>NaN</td>\n",
       "      <td>1231.38</td>\n",
       "      <td>769.59</td>\n",
       "      <td>10+ years</td>\n",
       "    </tr>\n",
       "    <tr>\n",
       "      <th>42518</th>\n",
       "      <td>5000.0</td>\n",
       "      <td>5000.0</td>\n",
       "      <td>300.0</td>\n",
       "      <td>7.75</td>\n",
       "      <td>156.11</td>\n",
       "      <td>300000.0</td>\n",
       "      <td>5.38</td>\n",
       "      <td>NaN</td>\n",
       "      <td>0.0</td>\n",
       "      <td>NaN</td>\n",
       "      <td>NaN</td>\n",
       "      <td>5000.00</td>\n",
       "      <td>565.65</td>\n",
       "      <td>1663.91</td>\n",
       "      <td>NaN</td>\n",
       "      <td>NaN</td>\n",
       "      <td>5565.65</td>\n",
       "      <td>333.94</td>\n",
       "      <td>10+ years</td>\n",
       "    </tr>\n",
       "    <tr>\n",
       "      <th>42519</th>\n",
       "      <td>2500.0</td>\n",
       "      <td>2500.0</td>\n",
       "      <td>225.0</td>\n",
       "      <td>7.43</td>\n",
       "      <td>77.69</td>\n",
       "      <td>66624.0</td>\n",
       "      <td>10.36</td>\n",
       "      <td>NaN</td>\n",
       "      <td>0.0</td>\n",
       "      <td>NaN</td>\n",
       "      <td>NaN</td>\n",
       "      <td>2500.00</td>\n",
       "      <td>100.23</td>\n",
       "      <td>0.00</td>\n",
       "      <td>NaN</td>\n",
       "      <td>NaN</td>\n",
       "      <td>2600.23</td>\n",
       "      <td>234.02</td>\n",
       "      <td>9 years</td>\n",
       "    </tr>\n",
       "    <tr>\n",
       "      <th>42520</th>\n",
       "      <td>3000.0</td>\n",
       "      <td>3000.0</td>\n",
       "      <td>250.0</td>\n",
       "      <td>7.43</td>\n",
       "      <td>93.23</td>\n",
       "      <td>80000.0</td>\n",
       "      <td>0.39</td>\n",
       "      <td>NaN</td>\n",
       "      <td>0.0</td>\n",
       "      <td>NaN</td>\n",
       "      <td>NaN</td>\n",
       "      <td>3000.00</td>\n",
       "      <td>120.26</td>\n",
       "      <td>0.00</td>\n",
       "      <td>NaN</td>\n",
       "      <td>NaN</td>\n",
       "      <td>3120.26</td>\n",
       "      <td>260.02</td>\n",
       "      <td>1 year</td>\n",
       "    </tr>\n",
       "    <tr>\n",
       "      <th>42521</th>\n",
       "      <td>2600.0</td>\n",
       "      <td>2600.0</td>\n",
       "      <td>575.0</td>\n",
       "      <td>8.38</td>\n",
       "      <td>81.94</td>\n",
       "      <td>6500.0</td>\n",
       "      <td>6.46</td>\n",
       "      <td>NaN</td>\n",
       "      <td>0.0</td>\n",
       "      <td>NaN</td>\n",
       "      <td>NaN</td>\n",
       "      <td>1962.69</td>\n",
       "      <td>329.05</td>\n",
       "      <td>21.75</td>\n",
       "      <td>NaN</td>\n",
       "      <td>NaN</td>\n",
       "      <td>2342.01</td>\n",
       "      <td>517.27</td>\n",
       "      <td>3 years</td>\n",
       "    </tr>\n",
       "    <tr>\n",
       "      <th>42522</th>\n",
       "      <td>1000.0</td>\n",
       "      <td>1000.0</td>\n",
       "      <td>625.0</td>\n",
       "      <td>7.12</td>\n",
       "      <td>30.94</td>\n",
       "      <td>50000.0</td>\n",
       "      <td>1.10</td>\n",
       "      <td>NaN</td>\n",
       "      <td>0.0</td>\n",
       "      <td>NaN</td>\n",
       "      <td>NaN</td>\n",
       "      <td>1000.00</td>\n",
       "      <td>113.35</td>\n",
       "      <td>32.93</td>\n",
       "      <td>NaN</td>\n",
       "      <td>NaN</td>\n",
       "      <td>1113.35</td>\n",
       "      <td>695.85</td>\n",
       "      <td>6 years</td>\n",
       "    </tr>\n",
       "    <tr>\n",
       "      <th>42523</th>\n",
       "      <td>1275.0</td>\n",
       "      <td>1275.0</td>\n",
       "      <td>0.0</td>\n",
       "      <td>12.49</td>\n",
       "      <td>42.65</td>\n",
       "      <td>40000.0</td>\n",
       "      <td>10.00</td>\n",
       "      <td>NaN</td>\n",
       "      <td>0.0</td>\n",
       "      <td>NaN</td>\n",
       "      <td>NaN</td>\n",
       "      <td>340.50</td>\n",
       "      <td>128.57</td>\n",
       "      <td>42.65</td>\n",
       "      <td>NaN</td>\n",
       "      <td>NaN</td>\n",
       "      <td>1341.96</td>\n",
       "      <td>0.00</td>\n",
       "      <td>1 year</td>\n",
       "    </tr>\n",
       "    <tr>\n",
       "      <th>42524</th>\n",
       "      <td>6450.0</td>\n",
       "      <td>6450.0</td>\n",
       "      <td>0.0</td>\n",
       "      <td>11.22</td>\n",
       "      <td>211.85</td>\n",
       "      <td>32000.0</td>\n",
       "      <td>10.00</td>\n",
       "      <td>NaN</td>\n",
       "      <td>0.0</td>\n",
       "      <td>NaN</td>\n",
       "      <td>NaN</td>\n",
       "      <td>6450.00</td>\n",
       "      <td>1228.60</td>\n",
       "      <td>167.78</td>\n",
       "      <td>NaN</td>\n",
       "      <td>NaN</td>\n",
       "      <td>7798.60</td>\n",
       "      <td>0.00</td>\n",
       "      <td>2 years</td>\n",
       "    </tr>\n",
       "    <tr>\n",
       "      <th>42525</th>\n",
       "      <td>10500.0</td>\n",
       "      <td>10500.0</td>\n",
       "      <td>275.0</td>\n",
       "      <td>11.22</td>\n",
       "      <td>344.87</td>\n",
       "      <td>60000.0</td>\n",
       "      <td>19.50</td>\n",
       "      <td>NaN</td>\n",
       "      <td>0.0</td>\n",
       "      <td>NaN</td>\n",
       "      <td>NaN</td>\n",
       "      <td>10500.00</td>\n",
       "      <td>719.80</td>\n",
       "      <td>0.00</td>\n",
       "      <td>NaN</td>\n",
       "      <td>NaN</td>\n",
       "      <td>11219.80</td>\n",
       "      <td>293.85</td>\n",
       "      <td>3 years</td>\n",
       "    </tr>\n",
       "    <tr>\n",
       "      <th>42526</th>\n",
       "      <td>3000.0</td>\n",
       "      <td>3000.0</td>\n",
       "      <td>125.0</td>\n",
       "      <td>9.01</td>\n",
       "      <td>95.42</td>\n",
       "      <td>35000.0</td>\n",
       "      <td>10.00</td>\n",
       "      <td>NaN</td>\n",
       "      <td>0.0</td>\n",
       "      <td>NaN</td>\n",
       "      <td>NaN</td>\n",
       "      <td>3000.00</td>\n",
       "      <td>434.97</td>\n",
       "      <td>95.66</td>\n",
       "      <td>NaN</td>\n",
       "      <td>NaN</td>\n",
       "      <td>3434.97</td>\n",
       "      <td>143.11</td>\n",
       "      <td>&lt; 1 year</td>\n",
       "    </tr>\n",
       "    <tr>\n",
       "      <th>42527</th>\n",
       "      <td>3000.0</td>\n",
       "      <td>3000.0</td>\n",
       "      <td>0.0</td>\n",
       "      <td>9.33</td>\n",
       "      <td>95.86</td>\n",
       "      <td>20000.0</td>\n",
       "      <td>10.00</td>\n",
       "      <td>NaN</td>\n",
       "      <td>0.0</td>\n",
       "      <td>NaN</td>\n",
       "      <td>NaN</td>\n",
       "      <td>3000.00</td>\n",
       "      <td>450.79</td>\n",
       "      <td>96.77</td>\n",
       "      <td>NaN</td>\n",
       "      <td>NaN</td>\n",
       "      <td>3450.79</td>\n",
       "      <td>0.00</td>\n",
       "      <td>&lt; 1 year</td>\n",
       "    </tr>\n",
       "    <tr>\n",
       "      <th>42528</th>\n",
       "      <td>2000.0</td>\n",
       "      <td>2000.0</td>\n",
       "      <td>225.0</td>\n",
       "      <td>9.96</td>\n",
       "      <td>64.50</td>\n",
       "      <td>6000.0</td>\n",
       "      <td>10.00</td>\n",
       "      <td>NaN</td>\n",
       "      <td>0.0</td>\n",
       "      <td>NaN</td>\n",
       "      <td>NaN</td>\n",
       "      <td>2000.00</td>\n",
       "      <td>322.36</td>\n",
       "      <td>0.84</td>\n",
       "      <td>NaN</td>\n",
       "      <td>NaN</td>\n",
       "      <td>2322.36</td>\n",
       "      <td>261.25</td>\n",
       "      <td>&lt; 1 year</td>\n",
       "    </tr>\n",
       "    <tr>\n",
       "      <th>42529</th>\n",
       "      <td>6500.0</td>\n",
       "      <td>6500.0</td>\n",
       "      <td>0.0</td>\n",
       "      <td>9.64</td>\n",
       "      <td>208.66</td>\n",
       "      <td>20000.0</td>\n",
       "      <td>10.00</td>\n",
       "      <td>NaN</td>\n",
       "      <td>0.0</td>\n",
       "      <td>NaN</td>\n",
       "      <td>NaN</td>\n",
       "      <td>1791.32</td>\n",
       "      <td>503.81</td>\n",
       "      <td>208.65</td>\n",
       "      <td>NaN</td>\n",
       "      <td>NaN</td>\n",
       "      <td>7193.05</td>\n",
       "      <td>0.00</td>\n",
       "      <td>&lt; 1 year</td>\n",
       "    </tr>\n",
       "    <tr>\n",
       "      <th>42530</th>\n",
       "      <td>3500.0</td>\n",
       "      <td>3500.0</td>\n",
       "      <td>225.0</td>\n",
       "      <td>10.28</td>\n",
       "      <td>113.39</td>\n",
       "      <td>180000.0</td>\n",
       "      <td>10.00</td>\n",
       "      <td>NaN</td>\n",
       "      <td>0.0</td>\n",
       "      <td>NaN</td>\n",
       "      <td>NaN</td>\n",
       "      <td>3500.00</td>\n",
       "      <td>219.34</td>\n",
       "      <td>0.00</td>\n",
       "      <td>NaN</td>\n",
       "      <td>NaN</td>\n",
       "      <td>3719.34</td>\n",
       "      <td>239.07</td>\n",
       "      <td>&lt; 1 year</td>\n",
       "    </tr>\n",
       "    <tr>\n",
       "      <th>42531</th>\n",
       "      <td>1000.0</td>\n",
       "      <td>1000.0</td>\n",
       "      <td>0.0</td>\n",
       "      <td>9.64</td>\n",
       "      <td>32.11</td>\n",
       "      <td>12000.0</td>\n",
       "      <td>10.00</td>\n",
       "      <td>NaN</td>\n",
       "      <td>0.0</td>\n",
       "      <td>NaN</td>\n",
       "      <td>NaN</td>\n",
       "      <td>1000.00</td>\n",
       "      <td>155.53</td>\n",
       "      <td>32.41</td>\n",
       "      <td>NaN</td>\n",
       "      <td>NaN</td>\n",
       "      <td>1155.53</td>\n",
       "      <td>0.00</td>\n",
       "      <td>&lt; 1 year</td>\n",
       "    </tr>\n",
       "    <tr>\n",
       "      <th>42532</th>\n",
       "      <td>2525.0</td>\n",
       "      <td>2525.0</td>\n",
       "      <td>225.0</td>\n",
       "      <td>9.33</td>\n",
       "      <td>80.69</td>\n",
       "      <td>110000.0</td>\n",
       "      <td>10.00</td>\n",
       "      <td>NaN</td>\n",
       "      <td>0.0</td>\n",
       "      <td>NaN</td>\n",
       "      <td>NaN</td>\n",
       "      <td>2525.00</td>\n",
       "      <td>379.30</td>\n",
       "      <td>82.03</td>\n",
       "      <td>NaN</td>\n",
       "      <td>NaN</td>\n",
       "      <td>2904.30</td>\n",
       "      <td>258.73</td>\n",
       "      <td>&lt; 1 year</td>\n",
       "    </tr>\n",
       "    <tr>\n",
       "      <th>42533</th>\n",
       "      <td>6500.0</td>\n",
       "      <td>6500.0</td>\n",
       "      <td>0.0</td>\n",
       "      <td>8.38</td>\n",
       "      <td>204.84</td>\n",
       "      <td>NaN</td>\n",
       "      <td>4.00</td>\n",
       "      <td>NaN</td>\n",
       "      <td>0.0</td>\n",
       "      <td>NaN</td>\n",
       "      <td>NaN</td>\n",
       "      <td>6500.00</td>\n",
       "      <td>873.83</td>\n",
       "      <td>205.32</td>\n",
       "      <td>NaN</td>\n",
       "      <td>NaN</td>\n",
       "      <td>7373.83</td>\n",
       "      <td>0.00</td>\n",
       "      <td>&lt; 1 year</td>\n",
       "    </tr>\n",
       "    <tr>\n",
       "      <th>42534</th>\n",
       "      <td>5000.0</td>\n",
       "      <td>5000.0</td>\n",
       "      <td>0.0</td>\n",
       "      <td>7.75</td>\n",
       "      <td>156.11</td>\n",
       "      <td>70000.0</td>\n",
       "      <td>8.81</td>\n",
       "      <td>NaN</td>\n",
       "      <td>0.0</td>\n",
       "      <td>NaN</td>\n",
       "      <td>NaN</td>\n",
       "      <td>5000.00</td>\n",
       "      <td>619.72</td>\n",
       "      <td>156.39</td>\n",
       "      <td>NaN</td>\n",
       "      <td>NaN</td>\n",
       "      <td>5619.72</td>\n",
       "      <td>0.00</td>\n",
       "      <td>10+ years</td>\n",
       "    </tr>\n",
       "  </tbody>\n",
       "</table>\n",
       "</div>"
      ],
      "text/plain": [
       "        loan_amnt  funded_amnt  funded_amnt_inv  int_rate  installment  \\\n",
       "239772    35000.0      35000.0          35000.0      8.67      1107.63   \n",
       "42449      5000.0       5000.0           3025.0      7.43       155.38   \n",
       "42450      7000.0       7000.0           3450.0      7.75       218.55   \n",
       "42459      4350.0       4350.0            825.0      8.07       136.45   \n",
       "42472      3900.0       3900.0           2025.0      9.33       124.62   \n",
       "42480      6700.0       6700.0           6700.0      7.75       209.18   \n",
       "42483      3200.0       3200.0           2000.0      9.96       103.20   \n",
       "42494      7200.0       5075.0            350.0     10.28       164.42   \n",
       "42509      1900.0       1900.0            900.0      9.64        61.00   \n",
       "42514      1200.0       1200.0            500.0      9.01        38.17   \n",
       "42515      5000.0       5000.0            375.0     11.22       164.23   \n",
       "42516      1400.0       1400.0            475.0     10.91        45.78   \n",
       "42517      1000.0       1000.0            625.0     14.07        34.21   \n",
       "42518      5000.0       5000.0            300.0      7.75       156.11   \n",
       "42519      2500.0       2500.0            225.0      7.43        77.69   \n",
       "42520      3000.0       3000.0            250.0      7.43        93.23   \n",
       "42521      2600.0       2600.0            575.0      8.38        81.94   \n",
       "42522      1000.0       1000.0            625.0      7.12        30.94   \n",
       "42523      1275.0       1275.0              0.0     12.49        42.65   \n",
       "42524      6450.0       6450.0              0.0     11.22       211.85   \n",
       "42525     10500.0      10500.0            275.0     11.22       344.87   \n",
       "42526      3000.0       3000.0            125.0      9.01        95.42   \n",
       "42527      3000.0       3000.0              0.0      9.33        95.86   \n",
       "42528      2000.0       2000.0            225.0      9.96        64.50   \n",
       "42529      6500.0       6500.0              0.0      9.64       208.66   \n",
       "42530      3500.0       3500.0            225.0     10.28       113.39   \n",
       "42531      1000.0       1000.0              0.0      9.64        32.11   \n",
       "42532      2525.0       2525.0            225.0      9.33        80.69   \n",
       "42533      6500.0       6500.0              0.0      8.38       204.84   \n",
       "42534      5000.0       5000.0              0.0      7.75       156.11   \n",
       "\n",
       "        annual_inc    dti  open_acc  revol_bal  revol_util  total_acc  \\\n",
       "239772    189000.0   6.63      40.0    39065.0        44.4      150.0   \n",
       "42449          NaN   1.00       NaN        0.0         NaN        NaN   \n",
       "42450          NaN   1.00       NaN        0.0         NaN        NaN   \n",
       "42459     120000.0   4.00       NaN        0.0         NaN        NaN   \n",
       "42472      98000.0  10.00       NaN        0.0         NaN        NaN   \n",
       "42480          NaN   1.00       NaN        0.0         NaN        NaN   \n",
       "42483     150000.0  10.00       NaN        0.0         NaN        NaN   \n",
       "42494      95000.0  10.00       NaN        0.0         NaN        NaN   \n",
       "42509     100000.0  10.00       NaN        0.0         NaN        NaN   \n",
       "42514      36000.0   3.27       NaN        0.0         NaN        NaN   \n",
       "42515      28000.0   3.51       NaN        0.0         NaN        NaN   \n",
       "42516      40000.0   8.61       NaN        0.0         NaN        NaN   \n",
       "42517      25000.0  16.27       NaN        0.0         NaN        NaN   \n",
       "42518     300000.0   5.38       NaN        0.0         NaN        NaN   \n",
       "42519      66624.0  10.36       NaN        0.0         NaN        NaN   \n",
       "42520      80000.0   0.39       NaN        0.0         NaN        NaN   \n",
       "42521       6500.0   6.46       NaN        0.0         NaN        NaN   \n",
       "42522      50000.0   1.10       NaN        0.0         NaN        NaN   \n",
       "42523      40000.0  10.00       NaN        0.0         NaN        NaN   \n",
       "42524      32000.0  10.00       NaN        0.0         NaN        NaN   \n",
       "42525      60000.0  19.50       NaN        0.0         NaN        NaN   \n",
       "42526      35000.0  10.00       NaN        0.0         NaN        NaN   \n",
       "42527      20000.0  10.00       NaN        0.0         NaN        NaN   \n",
       "42528       6000.0  10.00       NaN        0.0         NaN        NaN   \n",
       "42529      20000.0  10.00       NaN        0.0         NaN        NaN   \n",
       "42530     180000.0  10.00       NaN        0.0         NaN        NaN   \n",
       "42531      12000.0  10.00       NaN        0.0         NaN        NaN   \n",
       "42532     110000.0  10.00       NaN        0.0         NaN        NaN   \n",
       "42533          NaN   4.00       NaN        0.0         NaN        NaN   \n",
       "42534      70000.0   8.81       NaN        0.0         NaN        NaN   \n",
       "\n",
       "        total_rec_prncp  total_rec_int  last_pymnt_amnt  tot_cur_bal  \\\n",
       "239772         35000.00        2769.97         25602.90      44978.0   \n",
       "42449           5000.00         593.46           157.31          NaN   \n",
       "42450           7000.00         867.53           220.03          NaN   \n",
       "42459           4350.00         561.68           139.93          NaN   \n",
       "42472           3900.00         585.99           126.06          NaN   \n",
       "42480           6700.00         830.42           209.89          NaN   \n",
       "42483           3200.00         390.53          1733.32          NaN   \n",
       "42494           5075.00         843.33           168.44          NaN   \n",
       "42509           1900.00          99.12             0.00          NaN   \n",
       "42514           1200.00         173.88            39.05          NaN   \n",
       "42515           5000.00         828.36           149.43          NaN   \n",
       "42516           1400.00         248.05             1.78          NaN   \n",
       "42517           1000.00         231.38            35.27          NaN   \n",
       "42518           5000.00         565.65          1663.91          NaN   \n",
       "42519           2500.00         100.23             0.00          NaN   \n",
       "42520           3000.00         120.26             0.00          NaN   \n",
       "42521           1962.69         329.05            21.75          NaN   \n",
       "42522           1000.00         113.35            32.93          NaN   \n",
       "42523            340.50         128.57            42.65          NaN   \n",
       "42524           6450.00        1228.60           167.78          NaN   \n",
       "42525          10500.00         719.80             0.00          NaN   \n",
       "42526           3000.00         434.97            95.66          NaN   \n",
       "42527           3000.00         450.79            96.77          NaN   \n",
       "42528           2000.00         322.36             0.84          NaN   \n",
       "42529           1791.32         503.81           208.65          NaN   \n",
       "42530           3500.00         219.34             0.00          NaN   \n",
       "42531           1000.00         155.53            32.41          NaN   \n",
       "42532           2525.00         379.30            82.03          NaN   \n",
       "42533           6500.00         873.83           205.32          NaN   \n",
       "42534           5000.00         619.72           156.39          NaN   \n",
       "\n",
       "        total_rev_hi_lim  total_pymnt  total_pymnt_inv emp_length  \n",
       "239772           88000.0     37769.97         37769.97  10+ years  \n",
       "42449                NaN      5593.46          3384.01   < 1 year  \n",
       "42450                NaN      7867.53          3877.59   < 1 year  \n",
       "42459                NaN      4911.68           931.41   < 1 year  \n",
       "42472                NaN      4485.99          2329.19   < 1 year  \n",
       "42480                NaN      7530.42          7530.42   < 1 year  \n",
       "42483                NaN      3590.53          2244.09   < 1 year  \n",
       "42494                NaN      5918.33           407.83   < 1 year  \n",
       "42509                NaN      1999.12           946.95     1 year  \n",
       "42514                NaN      1373.88           572.45   < 1 year  \n",
       "42515                NaN      5858.35           439.33   < 1 year  \n",
       "42516                NaN      1663.04           564.18   < 1 year  \n",
       "42517                NaN      1231.38           769.59  10+ years  \n",
       "42518                NaN      5565.65           333.94  10+ years  \n",
       "42519                NaN      2600.23           234.02    9 years  \n",
       "42520                NaN      3120.26           260.02     1 year  \n",
       "42521                NaN      2342.01           517.27    3 years  \n",
       "42522                NaN      1113.35           695.85    6 years  \n",
       "42523                NaN      1341.96             0.00     1 year  \n",
       "42524                NaN      7798.60             0.00    2 years  \n",
       "42525                NaN     11219.80           293.85    3 years  \n",
       "42526                NaN      3434.97           143.11   < 1 year  \n",
       "42527                NaN      3450.79             0.00   < 1 year  \n",
       "42528                NaN      2322.36           261.25   < 1 year  \n",
       "42529                NaN      7193.05             0.00   < 1 year  \n",
       "42530                NaN      3719.34           239.07   < 1 year  \n",
       "42531                NaN      1155.53             0.00   < 1 year  \n",
       "42532                NaN      2904.30           258.73   < 1 year  \n",
       "42533                NaN      7373.83             0.00   < 1 year  \n",
       "42534                NaN      5619.72             0.00  10+ years  "
      ]
     },
     "execution_count": 34,
     "metadata": {},
     "output_type": "execute_result"
    }
   ],
   "source": [
    "# 5-1)Nan 인 차주의 대략적인 상테\n",
    "loan_col_real.sort_values('total_acc').tail(30)\n"
   ]
  },
  {
   "cell_type": "code",
   "execution_count": 35,
   "metadata": {},
   "outputs": [
    {
     "name": "stdout",
     "output_type": "stream",
     "text": [
      "count    270887.000000\n",
      "mean         16.698684\n",
      "std           7.861082\n",
      "min           0.000000\n",
      "25%          10.850000\n",
      "50%          16.360000\n",
      "75%          22.190000\n",
      "max          57.140000\n",
      "Name: dti, dtype: float64\n"
     ]
    }
   ],
   "source": [
    "# 5-2) dti 요약 \n",
    "print (loan_col_real.dti.describe())"
   ]
  },
  {
   "cell_type": "code",
   "execution_count": 36,
   "metadata": {},
   "outputs": [
    {
     "data": {
      "text/plain": [
       "count    270887.000000\n",
       "mean         13.891907\n",
       "std           4.413615\n",
       "min           5.320000\n",
       "25%          10.990000\n",
       "50%          13.670000\n",
       "75%          16.780000\n",
       "max          28.990000\n",
       "Name: int_rate, dtype: float64"
      ]
     },
     "execution_count": 36,
     "metadata": {},
     "output_type": "execute_result"
    }
   ],
   "source": [
    "# 5-3) 이자율 요약\n",
    "loan_col_real.int_rate.describe()"
   ]
  },
  {
   "cell_type": "code",
   "execution_count": 37,
   "metadata": {},
   "outputs": [
    {
     "data": {
      "text/plain": [
       "array([   9.,    4.,   10.,   37.,   12.,   13.,    3.,   23.,   34.,\n",
       "         11.,   29.,   28.,   42.,   14.,   22.,   38.,   21.,   17.,\n",
       "          7.,   31.,   44.,   26.,   16.,    6.,   18.,   27.,   25.,\n",
       "         40.,   35.,   24.,    8.,   20.,   15.,   19.,   36.,   51.,\n",
       "         32.,   30.,   33.,   46.,    5.,   61.,   56.,   50.,   41.,\n",
       "         79.,   43.,   47.,   53.,   45.,   60.,   55.,   39.,   52.,\n",
       "         58.,   54.,   57.,   49.,   63.,   48.,   59.,   62.,   77.,\n",
       "         87.,   75.,   72.,   64.,   67.,   78.,   76.,   74.,   66.,\n",
       "         81.,   90.,   80.,   71.,   69.,   73.,   70.,   68.,   65.,\n",
       "          2.,    1.,   nan,   83.,   88.,   82.,   91.,   99.,   92.,\n",
       "        150.,   84.,   95.,   85.,   98.,   93.,   89.,  100.,  102.,\n",
       "        116.,  118.,   94.,   86.,  104.,   96.,  111.,  101.,  110.,   97.])"
      ]
     },
     "execution_count": 37,
     "metadata": {},
     "output_type": "execute_result"
    }
   ],
   "source": [
    "# Nan인 차주들의 dti와 이자율이 평균보다 낮은 것을 확인하고 현재 사용하고 있는 신용 한도는 없는 것으로 추정, 0으로 대체한다\n",
    "# 기존 record에도 따로 0 값이 없는 것을 확인 할 수 있다\n",
    "loan_col_real.total_acc.unique()"
   ]
  },
  {
   "cell_type": "code",
   "execution_count": 38,
   "metadata": {},
   "outputs": [
    {
     "data": {
      "text/plain": [
       "False    270887\n",
       "Name: total_acc, dtype: int64"
      ]
     },
     "execution_count": 38,
     "metadata": {},
     "output_type": "execute_result"
    }
   ],
   "source": [
    "loan.total_acc.fillna(0, inplace = True)\n",
    "loan.total_acc.isnull().value_counts()\n",
    "# 처리 완료"
   ]
  },
  {
   "cell_type": "markdown",
   "metadata": {},
   "source": [
    "## 2-6) tot_cur_bal\n",
    "* 모든 계정의 총 현재 잔액 (현재 받고 있는 대출)"
   ]
  },
  {
   "cell_type": "code",
   "execution_count": 39,
   "metadata": {},
   "outputs": [
    {
     "data": {
      "text/plain": [
       "count    2.042640e+05\n",
       "mean     1.370553e+05\n",
       "std      1.514555e+05\n",
       "min      0.000000e+00\n",
       "25%      2.831175e+04\n",
       "50%      7.898300e+04\n",
       "75%      2.062598e+05\n",
       "max      8.000078e+06\n",
       "Name: tot_cur_bal, dtype: float64"
      ]
     },
     "execution_count": 39,
     "metadata": {},
     "output_type": "execute_result"
    }
   ],
   "source": [
    "loan_col_real.tot_cur_bal.describe()"
   ]
  },
  {
   "cell_type": "code",
   "execution_count": 40,
   "metadata": {},
   "outputs": [
    {
     "data": {
      "text/plain": [
       "0.0         53\n",
       "25341.0     10\n",
       "25443.0     10\n",
       "15886.0      9\n",
       "13530.0      9\n",
       "29288.0      9\n",
       "30652.0      9\n",
       "30491.0      9\n",
       "21944.0      9\n",
       "4875.0       9\n",
       "28674.0      9\n",
       "15043.0      9\n",
       "19376.0      9\n",
       "26201.0      8\n",
       "19998.0      8\n",
       "19584.0      8\n",
       "16072.0      8\n",
       "13818.0      8\n",
       "18876.0      8\n",
       "12022.0      8\n",
       "31743.0      8\n",
       "13721.0      8\n",
       "26302.0      8\n",
       "11329.0      8\n",
       "13076.0      8\n",
       "22060.0      8\n",
       "16709.0      8\n",
       "25103.0      8\n",
       "13226.0      8\n",
       "18311.0      8\n",
       "            ..\n",
       "408527.0     1\n",
       "204225.0     1\n",
       "125938.0     1\n",
       "408449.0     1\n",
       "4627.0       1\n",
       "30908.0      1\n",
       "204190.0     1\n",
       "39381.0      1\n",
       "408383.0     1\n",
       "408389.0     1\n",
       "204199.0     1\n",
       "204201.0     1\n",
       "48578.0      1\n",
       "408405.0     1\n",
       "70462.0      1\n",
       "51051.0      1\n",
       "341044.0     1\n",
       "457728.0     1\n",
       "204206.0     1\n",
       "204207.0     1\n",
       "25526.0      1\n",
       "408419.0     1\n",
       "68730.0      1\n",
       "204214.0     1\n",
       "512952.0     1\n",
       "139200.0     1\n",
       "102109.0     1\n",
       "204220.0     1\n",
       "457756.0     1\n",
       "9970.0       1\n",
       "Name: tot_cur_bal, Length: 141932, dtype: int64"
      ]
     },
     "execution_count": 40,
     "metadata": {},
     "output_type": "execute_result"
    }
   ],
   "source": [
    "loan_col_real.tot_cur_bal.value_counts()"
   ]
  },
  {
   "cell_type": "code",
   "execution_count": 41,
   "metadata": {
    "scrolled": false
   },
   "outputs": [
    {
     "data": {
      "text/html": [
       "<div>\n",
       "<style>\n",
       "    .dataframe thead tr:only-child th {\n",
       "        text-align: right;\n",
       "    }\n",
       "\n",
       "    .dataframe thead th {\n",
       "        text-align: left;\n",
       "    }\n",
       "\n",
       "    .dataframe tbody tr th {\n",
       "        vertical-align: top;\n",
       "    }\n",
       "</style>\n",
       "<table border=\"1\" class=\"dataframe\">\n",
       "  <thead>\n",
       "    <tr style=\"text-align: right;\">\n",
       "      <th></th>\n",
       "      <th>loan_amnt</th>\n",
       "      <th>funded_amnt</th>\n",
       "      <th>funded_amnt_inv</th>\n",
       "      <th>int_rate</th>\n",
       "      <th>installment</th>\n",
       "      <th>annual_inc</th>\n",
       "      <th>dti</th>\n",
       "      <th>open_acc</th>\n",
       "      <th>revol_bal</th>\n",
       "      <th>revol_util</th>\n",
       "      <th>total_acc</th>\n",
       "      <th>total_rec_prncp</th>\n",
       "      <th>total_rec_int</th>\n",
       "      <th>last_pymnt_amnt</th>\n",
       "      <th>tot_cur_bal</th>\n",
       "      <th>total_rev_hi_lim</th>\n",
       "      <th>total_pymnt</th>\n",
       "      <th>total_pymnt_inv</th>\n",
       "      <th>emp_length</th>\n",
       "      <th>loan_status</th>\n",
       "    </tr>\n",
       "  </thead>\n",
       "  <tbody>\n",
       "    <tr>\n",
       "      <th>230651</th>\n",
       "      <td>12000.0</td>\n",
       "      <td>12000.0</td>\n",
       "      <td>11975.0</td>\n",
       "      <td>7.90</td>\n",
       "      <td>375.49</td>\n",
       "      <td>42000.0</td>\n",
       "      <td>9.83</td>\n",
       "      <td>9.0</td>\n",
       "      <td>14378.0</td>\n",
       "      <td>52.3</td>\n",
       "      <td>14.0</td>\n",
       "      <td>12000.00</td>\n",
       "      <td>1022.07</td>\n",
       "      <td>7397.03</td>\n",
       "      <td>NaN</td>\n",
       "      <td>NaN</td>\n",
       "      <td>13022.070000</td>\n",
       "      <td>12994.94</td>\n",
       "      <td>3 years</td>\n",
       "      <td>0</td>\n",
       "    </tr>\n",
       "    <tr>\n",
       "      <th>230652</th>\n",
       "      <td>20500.0</td>\n",
       "      <td>20500.0</td>\n",
       "      <td>20500.0</td>\n",
       "      <td>16.77</td>\n",
       "      <td>728.54</td>\n",
       "      <td>60000.0</td>\n",
       "      <td>16.40</td>\n",
       "      <td>10.0</td>\n",
       "      <td>15417.0</td>\n",
       "      <td>58.4</td>\n",
       "      <td>20.0</td>\n",
       "      <td>20500.00</td>\n",
       "      <td>5673.30</td>\n",
       "      <td>10.21</td>\n",
       "      <td>NaN</td>\n",
       "      <td>NaN</td>\n",
       "      <td>26173.301128</td>\n",
       "      <td>26173.30</td>\n",
       "      <td>7 years</td>\n",
       "      <td>0</td>\n",
       "    </tr>\n",
       "    <tr>\n",
       "      <th>230653</th>\n",
       "      <td>15000.0</td>\n",
       "      <td>15000.0</td>\n",
       "      <td>15000.0</td>\n",
       "      <td>15.27</td>\n",
       "      <td>521.97</td>\n",
       "      <td>57600.0</td>\n",
       "      <td>8.35</td>\n",
       "      <td>18.0</td>\n",
       "      <td>8897.0</td>\n",
       "      <td>33.1</td>\n",
       "      <td>30.0</td>\n",
       "      <td>15000.00</td>\n",
       "      <td>3783.86</td>\n",
       "      <td>541.95</td>\n",
       "      <td>NaN</td>\n",
       "      <td>NaN</td>\n",
       "      <td>18783.859440</td>\n",
       "      <td>18783.86</td>\n",
       "      <td>3 years</td>\n",
       "      <td>0</td>\n",
       "    </tr>\n",
       "    <tr>\n",
       "      <th>230654</th>\n",
       "      <td>35000.0</td>\n",
       "      <td>35000.0</td>\n",
       "      <td>35000.0</td>\n",
       "      <td>15.96</td>\n",
       "      <td>1229.81</td>\n",
       "      <td>160000.0</td>\n",
       "      <td>4.90</td>\n",
       "      <td>9.0</td>\n",
       "      <td>23665.0</td>\n",
       "      <td>62.4</td>\n",
       "      <td>17.0</td>\n",
       "      <td>35000.00</td>\n",
       "      <td>9267.53</td>\n",
       "      <td>1244.72</td>\n",
       "      <td>NaN</td>\n",
       "      <td>NaN</td>\n",
       "      <td>44267.531697</td>\n",
       "      <td>44267.53</td>\n",
       "      <td>3 years</td>\n",
       "      <td>0</td>\n",
       "    </tr>\n",
       "    <tr>\n",
       "      <th>230655</th>\n",
       "      <td>12000.0</td>\n",
       "      <td>12000.0</td>\n",
       "      <td>12000.0</td>\n",
       "      <td>16.29</td>\n",
       "      <td>423.61</td>\n",
       "      <td>35000.0</td>\n",
       "      <td>12.93</td>\n",
       "      <td>14.0</td>\n",
       "      <td>15006.0</td>\n",
       "      <td>93.2</td>\n",
       "      <td>27.0</td>\n",
       "      <td>1063.61</td>\n",
       "      <td>629.79</td>\n",
       "      <td>423.61</td>\n",
       "      <td>NaN</td>\n",
       "      <td>NaN</td>\n",
       "      <td>2075.640000</td>\n",
       "      <td>2075.64</td>\n",
       "      <td>n/a</td>\n",
       "      <td>1</td>\n",
       "    </tr>\n",
       "  </tbody>\n",
       "</table>\n",
       "</div>"
      ],
      "text/plain": [
       "        loan_amnt  funded_amnt  funded_amnt_inv  int_rate  installment  \\\n",
       "230651    12000.0      12000.0          11975.0      7.90       375.49   \n",
       "230652    20500.0      20500.0          20500.0     16.77       728.54   \n",
       "230653    15000.0      15000.0          15000.0     15.27       521.97   \n",
       "230654    35000.0      35000.0          35000.0     15.96      1229.81   \n",
       "230655    12000.0      12000.0          12000.0     16.29       423.61   \n",
       "\n",
       "        annual_inc    dti  open_acc  revol_bal  revol_util  total_acc  \\\n",
       "230651     42000.0   9.83       9.0    14378.0        52.3       14.0   \n",
       "230652     60000.0  16.40      10.0    15417.0        58.4       20.0   \n",
       "230653     57600.0   8.35      18.0     8897.0        33.1       30.0   \n",
       "230654    160000.0   4.90       9.0    23665.0        62.4       17.0   \n",
       "230655     35000.0  12.93      14.0    15006.0        93.2       27.0   \n",
       "\n",
       "        total_rec_prncp  total_rec_int  last_pymnt_amnt  tot_cur_bal  \\\n",
       "230651         12000.00        1022.07          7397.03          NaN   \n",
       "230652         20500.00        5673.30            10.21          NaN   \n",
       "230653         15000.00        3783.86           541.95          NaN   \n",
       "230654         35000.00        9267.53          1244.72          NaN   \n",
       "230655          1063.61         629.79           423.61          NaN   \n",
       "\n",
       "        total_rev_hi_lim   total_pymnt  total_pymnt_inv emp_length  \\\n",
       "230651               NaN  13022.070000         12994.94    3 years   \n",
       "230652               NaN  26173.301128         26173.30    7 years   \n",
       "230653               NaN  18783.859440         18783.86    3 years   \n",
       "230654               NaN  44267.531697         44267.53    3 years   \n",
       "230655               NaN   2075.640000          2075.64        n/a   \n",
       "\n",
       "        loan_status  \n",
       "230651            0  \n",
       "230652            0  \n",
       "230653            0  \n",
       "230654            0  \n",
       "230655            1  "
      ]
     },
     "execution_count": 41,
     "metadata": {},
     "output_type": "execute_result"
    }
   ],
   "source": [
    "#  해당 변수가 영향이 큰지 확인 하기 위해 y 값과 합한다.\n",
    "loan_check = pd.concat([loan_col_real, loan.loan_status], axis =1)\n",
    "loan_check.sort_values('tot_cur_bal').tail()"
   ]
  },
  {
   "cell_type": "code",
   "execution_count": 42,
   "metadata": {
    "scrolled": true
   },
   "outputs": [
    {
     "data": {
      "text/html": [
       "<div>\n",
       "<style>\n",
       "    .dataframe thead tr:only-child th {\n",
       "        text-align: right;\n",
       "    }\n",
       "\n",
       "    .dataframe thead th {\n",
       "        text-align: left;\n",
       "    }\n",
       "\n",
       "    .dataframe tbody tr th {\n",
       "        vertical-align: top;\n",
       "    }\n",
       "</style>\n",
       "<table border=\"1\" class=\"dataframe\">\n",
       "  <thead>\n",
       "    <tr style=\"text-align: right;\">\n",
       "      <th></th>\n",
       "      <th>loan_amnt</th>\n",
       "      <th>funded_amnt</th>\n",
       "      <th>funded_amnt_inv</th>\n",
       "      <th>int_rate</th>\n",
       "      <th>installment</th>\n",
       "      <th>annual_inc</th>\n",
       "      <th>dti</th>\n",
       "      <th>open_acc</th>\n",
       "      <th>revol_bal</th>\n",
       "      <th>revol_util</th>\n",
       "      <th>total_acc</th>\n",
       "      <th>total_rec_prncp</th>\n",
       "      <th>total_rec_int</th>\n",
       "      <th>last_pymnt_amnt</th>\n",
       "      <th>tot_cur_bal</th>\n",
       "      <th>total_rev_hi_lim</th>\n",
       "      <th>total_pymnt</th>\n",
       "      <th>total_pymnt_inv</th>\n",
       "      <th>loan_status</th>\n",
       "    </tr>\n",
       "  </thead>\n",
       "  <tbody>\n",
       "    <tr>\n",
       "      <th>count</th>\n",
       "      <td>66622.000000</td>\n",
       "      <td>66622.000000</td>\n",
       "      <td>66622.000000</td>\n",
       "      <td>66622.000000</td>\n",
       "      <td>66622.000000</td>\n",
       "      <td>6.661800e+04</td>\n",
       "      <td>66622.00000</td>\n",
       "      <td>66593.000000</td>\n",
       "      <td>6.662200e+04</td>\n",
       "      <td>66502.000000</td>\n",
       "      <td>66593.000000</td>\n",
       "      <td>66622.000000</td>\n",
       "      <td>66622.000000</td>\n",
       "      <td>66622.000000</td>\n",
       "      <td>0.0</td>\n",
       "      <td>0.0</td>\n",
       "      <td>66622.000000</td>\n",
       "      <td>66622.000000</td>\n",
       "      <td>66622.00000</td>\n",
       "    </tr>\n",
       "    <tr>\n",
       "      <th>mean</th>\n",
       "      <td>11605.237009</td>\n",
       "      <td>11442.534373</td>\n",
       "      <td>11002.068816</td>\n",
       "      <td>12.401450</td>\n",
       "      <td>353.691821</td>\n",
       "      <td>6.849955e+04</td>\n",
       "      <td>14.27404</td>\n",
       "      <td>9.727374</td>\n",
       "      <td>1.418632e+04</td>\n",
       "      <td>51.992543</td>\n",
       "      <td>22.382893</td>\n",
       "      <td>10064.572979</td>\n",
       "      <td>2181.040482</td>\n",
       "      <td>3013.632038</td>\n",
       "      <td>NaN</td>\n",
       "      <td>NaN</td>\n",
       "      <td>12366.535195</td>\n",
       "      <td>11914.601618</td>\n",
       "      <td>0.16430</td>\n",
       "    </tr>\n",
       "    <tr>\n",
       "      <th>std</th>\n",
       "      <td>7567.393886</td>\n",
       "      <td>7431.103849</td>\n",
       "      <td>7463.237915</td>\n",
       "      <td>3.943413</td>\n",
       "      <td>227.605360</td>\n",
       "      <td>5.714291e+04</td>\n",
       "      <td>7.03372</td>\n",
       "      <td>4.499181</td>\n",
       "      <td>1.912002e+04</td>\n",
       "      <td>27.410282</td>\n",
       "      <td>11.341556</td>\n",
       "      <td>7318.292335</td>\n",
       "      <td>2379.890117</td>\n",
       "      <td>4868.373115</td>\n",
       "      <td>NaN</td>\n",
       "      <td>NaN</td>\n",
       "      <td>9044.732877</td>\n",
       "      <td>9043.598820</td>\n",
       "      <td>0.37055</td>\n",
       "    </tr>\n",
       "    <tr>\n",
       "      <th>min</th>\n",
       "      <td>500.000000</td>\n",
       "      <td>500.000000</td>\n",
       "      <td>0.000000</td>\n",
       "      <td>5.420000</td>\n",
       "      <td>15.670000</td>\n",
       "      <td>1.896000e+03</td>\n",
       "      <td>0.00000</td>\n",
       "      <td>1.000000</td>\n",
       "      <td>0.000000e+00</td>\n",
       "      <td>0.000000</td>\n",
       "      <td>1.000000</td>\n",
       "      <td>0.000000</td>\n",
       "      <td>0.000000</td>\n",
       "      <td>0.000000</td>\n",
       "      <td>NaN</td>\n",
       "      <td>NaN</td>\n",
       "      <td>0.000000</td>\n",
       "      <td>0.000000</td>\n",
       "      <td>0.00000</td>\n",
       "    </tr>\n",
       "    <tr>\n",
       "      <th>25%</th>\n",
       "      <td>6000.000000</td>\n",
       "      <td>6000.000000</td>\n",
       "      <td>5325.000000</td>\n",
       "      <td>9.320000</td>\n",
       "      <td>183.000000</td>\n",
       "      <td>4.066125e+04</td>\n",
       "      <td>8.96000</td>\n",
       "      <td>6.000000</td>\n",
       "      <td>4.573000e+03</td>\n",
       "      <td>30.400000</td>\n",
       "      <td>14.000000</td>\n",
       "      <td>4800.000000</td>\n",
       "      <td>704.387500</td>\n",
       "      <td>247.940000</td>\n",
       "      <td>NaN</td>\n",
       "      <td>NaN</td>\n",
       "      <td>5727.257500</td>\n",
       "      <td>5367.380000</td>\n",
       "      <td>0.00000</td>\n",
       "    </tr>\n",
       "    <tr>\n",
       "      <th>50%</th>\n",
       "      <td>10000.000000</td>\n",
       "      <td>10000.000000</td>\n",
       "      <td>9750.000000</td>\n",
       "      <td>12.210000</td>\n",
       "      <td>311.110000</td>\n",
       "      <td>5.880000e+04</td>\n",
       "      <td>14.30000</td>\n",
       "      <td>9.000000</td>\n",
       "      <td>9.775500e+03</td>\n",
       "      <td>54.200000</td>\n",
       "      <td>21.000000</td>\n",
       "      <td>8400.000000</td>\n",
       "      <td>1402.795000</td>\n",
       "      <td>629.250000</td>\n",
       "      <td>NaN</td>\n",
       "      <td>NaN</td>\n",
       "      <td>10311.905000</td>\n",
       "      <td>9841.390000</td>\n",
       "      <td>0.00000</td>\n",
       "    </tr>\n",
       "    <tr>\n",
       "      <th>75%</th>\n",
       "      <td>15000.000000</td>\n",
       "      <td>15000.000000</td>\n",
       "      <td>15000.000000</td>\n",
       "      <td>14.910000</td>\n",
       "      <td>471.195000</td>\n",
       "      <td>8.200000e+04</td>\n",
       "      <td>19.59000</td>\n",
       "      <td>12.000000</td>\n",
       "      <td>1.764400e+04</td>\n",
       "      <td>74.700000</td>\n",
       "      <td>29.000000</td>\n",
       "      <td>14000.000000</td>\n",
       "      <td>2735.542500</td>\n",
       "      <td>3806.450000</td>\n",
       "      <td>NaN</td>\n",
       "      <td>NaN</td>\n",
       "      <td>16673.996389</td>\n",
       "      <td>16160.402500</td>\n",
       "      <td>0.00000</td>\n",
       "    </tr>\n",
       "    <tr>\n",
       "      <th>max</th>\n",
       "      <td>35000.000000</td>\n",
       "      <td>35000.000000</td>\n",
       "      <td>35000.000000</td>\n",
       "      <td>24.890000</td>\n",
       "      <td>1388.450000</td>\n",
       "      <td>6.000000e+06</td>\n",
       "      <td>34.99000</td>\n",
       "      <td>49.000000</td>\n",
       "      <td>1.207359e+06</td>\n",
       "      <td>119.000000</td>\n",
       "      <td>99.000000</td>\n",
       "      <td>35000.030000</td>\n",
       "      <td>22777.580000</td>\n",
       "      <td>36115.200000</td>\n",
       "      <td>NaN</td>\n",
       "      <td>NaN</td>\n",
       "      <td>57777.579870</td>\n",
       "      <td>57777.580000</td>\n",
       "      <td>1.00000</td>\n",
       "    </tr>\n",
       "  </tbody>\n",
       "</table>\n",
       "</div>"
      ],
      "text/plain": [
       "          loan_amnt   funded_amnt  funded_amnt_inv      int_rate  \\\n",
       "count  66622.000000  66622.000000     66622.000000  66622.000000   \n",
       "mean   11605.237009  11442.534373     11002.068816     12.401450   \n",
       "std     7567.393886   7431.103849      7463.237915      3.943413   \n",
       "min      500.000000    500.000000         0.000000      5.420000   \n",
       "25%     6000.000000   6000.000000      5325.000000      9.320000   \n",
       "50%    10000.000000  10000.000000      9750.000000     12.210000   \n",
       "75%    15000.000000  15000.000000     15000.000000     14.910000   \n",
       "max    35000.000000  35000.000000     35000.000000     24.890000   \n",
       "\n",
       "        installment    annual_inc          dti      open_acc     revol_bal  \\\n",
       "count  66622.000000  6.661800e+04  66622.00000  66593.000000  6.662200e+04   \n",
       "mean     353.691821  6.849955e+04     14.27404      9.727374  1.418632e+04   \n",
       "std      227.605360  5.714291e+04      7.03372      4.499181  1.912002e+04   \n",
       "min       15.670000  1.896000e+03      0.00000      1.000000  0.000000e+00   \n",
       "25%      183.000000  4.066125e+04      8.96000      6.000000  4.573000e+03   \n",
       "50%      311.110000  5.880000e+04     14.30000      9.000000  9.775500e+03   \n",
       "75%      471.195000  8.200000e+04     19.59000     12.000000  1.764400e+04   \n",
       "max     1388.450000  6.000000e+06     34.99000     49.000000  1.207359e+06   \n",
       "\n",
       "         revol_util     total_acc  total_rec_prncp  total_rec_int  \\\n",
       "count  66502.000000  66593.000000     66622.000000   66622.000000   \n",
       "mean      51.992543     22.382893     10064.572979    2181.040482   \n",
       "std       27.410282     11.341556      7318.292335    2379.890117   \n",
       "min        0.000000      1.000000         0.000000       0.000000   \n",
       "25%       30.400000     14.000000      4800.000000     704.387500   \n",
       "50%       54.200000     21.000000      8400.000000    1402.795000   \n",
       "75%       74.700000     29.000000     14000.000000    2735.542500   \n",
       "max      119.000000     99.000000     35000.030000   22777.580000   \n",
       "\n",
       "       last_pymnt_amnt  tot_cur_bal  total_rev_hi_lim   total_pymnt  \\\n",
       "count     66622.000000          0.0               0.0  66622.000000   \n",
       "mean       3013.632038          NaN               NaN  12366.535195   \n",
       "std        4868.373115          NaN               NaN   9044.732877   \n",
       "min           0.000000          NaN               NaN      0.000000   \n",
       "25%         247.940000          NaN               NaN   5727.257500   \n",
       "50%         629.250000          NaN               NaN  10311.905000   \n",
       "75%        3806.450000          NaN               NaN  16673.996389   \n",
       "max       36115.200000          NaN               NaN  57777.579870   \n",
       "\n",
       "       total_pymnt_inv  loan_status  \n",
       "count     66622.000000  66622.00000  \n",
       "mean      11914.601618      0.16430  \n",
       "std        9043.598820      0.37055  \n",
       "min           0.000000      0.00000  \n",
       "25%        5367.380000      0.00000  \n",
       "50%        9841.390000      0.00000  \n",
       "75%       16160.402500      0.00000  \n",
       "max       57777.580000      1.00000  "
      ]
     },
     "execution_count": 42,
     "metadata": {},
     "output_type": "execute_result"
    }
   ],
   "source": [
    "loan_check_1 = loan_check.sort_values('tot_cur_bal')[-66622:]\n",
    "# na 값을 가지고 있는 차주들의 특성\n",
    "loan_check_1.describe()"
   ]
  },
  {
   "cell_type": "code",
   "execution_count": 43,
   "metadata": {},
   "outputs": [
    {
     "data": {
      "text/plain": [
       "array([ nan])"
      ]
     },
     "execution_count": 43,
     "metadata": {},
     "output_type": "execute_result"
    }
   ],
   "source": [
    "loan_check_1.tot_cur_bal.unique() # "
   ]
  },
  {
   "cell_type": "code",
   "execution_count": 56,
   "metadata": {},
   "outputs": [
    {
     "data": {
      "text/html": [
       "<div>\n",
       "<style>\n",
       "    .dataframe thead tr:only-child th {\n",
       "        text-align: right;\n",
       "    }\n",
       "\n",
       "    .dataframe thead th {\n",
       "        text-align: left;\n",
       "    }\n",
       "\n",
       "    .dataframe tbody tr th {\n",
       "        vertical-align: top;\n",
       "    }\n",
       "</style>\n",
       "<table border=\"1\" class=\"dataframe\">\n",
       "  <thead>\n",
       "    <tr style=\"text-align: right;\">\n",
       "      <th></th>\n",
       "      <th>loan_amnt</th>\n",
       "      <th>funded_amnt</th>\n",
       "      <th>funded_amnt_inv</th>\n",
       "      <th>int_rate</th>\n",
       "      <th>installment</th>\n",
       "      <th>annual_inc</th>\n",
       "      <th>dti</th>\n",
       "      <th>open_acc</th>\n",
       "      <th>revol_bal</th>\n",
       "      <th>revol_util</th>\n",
       "      <th>total_acc</th>\n",
       "      <th>total_rec_prncp</th>\n",
       "      <th>total_rec_int</th>\n",
       "      <th>last_pymnt_amnt</th>\n",
       "      <th>tot_cur_bal</th>\n",
       "      <th>total_rev_hi_lim</th>\n",
       "      <th>total_pymnt</th>\n",
       "      <th>total_pymnt_inv</th>\n",
       "      <th>loan_status</th>\n",
       "    </tr>\n",
       "  </thead>\n",
       "  <tbody>\n",
       "    <tr>\n",
       "      <th>count</th>\n",
       "      <td>204264.000000</td>\n",
       "      <td>204264.000000</td>\n",
       "      <td>204264.000000</td>\n",
       "      <td>204264.000000</td>\n",
       "      <td>204264.000000</td>\n",
       "      <td>2.042640e+05</td>\n",
       "      <td>204264.000000</td>\n",
       "      <td>204264.000000</td>\n",
       "      <td>2.042640e+05</td>\n",
       "      <td>204133.000000</td>\n",
       "      <td>204264.000000</td>\n",
       "      <td>204264.000000</td>\n",
       "      <td>204264.000000</td>\n",
       "      <td>204264.000000</td>\n",
       "      <td>2.042640e+05</td>\n",
       "      <td>2.042640e+05</td>\n",
       "      <td>204264.000000</td>\n",
       "      <td>204264.000000</td>\n",
       "      <td>204264.000000</td>\n",
       "    </tr>\n",
       "    <tr>\n",
       "      <th>mean</th>\n",
       "      <td>14288.320262</td>\n",
       "      <td>14288.265186</td>\n",
       "      <td>14281.334561</td>\n",
       "      <td>14.378045</td>\n",
       "      <td>441.021846</td>\n",
       "      <td>7.367179e+04</td>\n",
       "      <td>17.489444</td>\n",
       "      <td>11.383092</td>\n",
       "      <td>1.567519e+04</td>\n",
       "      <td>55.348672</td>\n",
       "      <td>25.883704</td>\n",
       "      <td>11347.776745</td>\n",
       "      <td>1906.001304</td>\n",
       "      <td>7079.209502</td>\n",
       "      <td>1.370553e+05</td>\n",
       "      <td>2.951796e+04</td>\n",
       "      <td>13415.024181</td>\n",
       "      <td>13408.236212</td>\n",
       "      <td>0.245907</td>\n",
       "    </tr>\n",
       "    <tr>\n",
       "      <th>std</th>\n",
       "      <td>8243.296032</td>\n",
       "      <td>8243.214494</td>\n",
       "      <td>8239.699781</td>\n",
       "      <td>4.449817</td>\n",
       "      <td>247.380041</td>\n",
       "      <td>5.867951e+04</td>\n",
       "      <td>7.954445</td>\n",
       "      <td>4.993746</td>\n",
       "      <td>1.994169e+04</td>\n",
       "      <td>23.786682</td>\n",
       "      <td>11.811411</td>\n",
       "      <td>8612.148750</td>\n",
       "      <td>1992.628448</td>\n",
       "      <td>7635.337417</td>\n",
       "      <td>1.514555e+05</td>\n",
       "      <td>2.952449e+04</td>\n",
       "      <td>9575.826716</td>\n",
       "      <td>9571.222150</td>\n",
       "      <td>0.430625</td>\n",
       "    </tr>\n",
       "    <tr>\n",
       "      <th>min</th>\n",
       "      <td>1000.000000</td>\n",
       "      <td>1000.000000</td>\n",
       "      <td>950.000000</td>\n",
       "      <td>5.320000</td>\n",
       "      <td>27.850000</td>\n",
       "      <td>3.000000e+03</td>\n",
       "      <td>0.000000</td>\n",
       "      <td>0.000000</td>\n",
       "      <td>0.000000e+00</td>\n",
       "      <td>0.000000</td>\n",
       "      <td>2.000000</td>\n",
       "      <td>0.000000</td>\n",
       "      <td>0.000000</td>\n",
       "      <td>0.000000</td>\n",
       "      <td>0.000000e+00</td>\n",
       "      <td>0.000000e+00</td>\n",
       "      <td>0.000000</td>\n",
       "      <td>0.000000</td>\n",
       "      <td>0.000000</td>\n",
       "    </tr>\n",
       "    <tr>\n",
       "      <th>25%</th>\n",
       "      <td>8000.000000</td>\n",
       "      <td>8000.000000</td>\n",
       "      <td>8000.000000</td>\n",
       "      <td>11.140000</td>\n",
       "      <td>264.190000</td>\n",
       "      <td>4.500000e+04</td>\n",
       "      <td>11.520000</td>\n",
       "      <td>8.000000</td>\n",
       "      <td>6.225000e+03</td>\n",
       "      <td>38.100000</td>\n",
       "      <td>17.000000</td>\n",
       "      <td>4500.000000</td>\n",
       "      <td>615.802500</td>\n",
       "      <td>570.840000</td>\n",
       "      <td>2.831175e+04</td>\n",
       "      <td>1.320000e+04</td>\n",
       "      <td>6074.756534</td>\n",
       "      <td>6073.697500</td>\n",
       "      <td>0.000000</td>\n",
       "    </tr>\n",
       "    <tr>\n",
       "      <th>50%</th>\n",
       "      <td>12000.000000</td>\n",
       "      <td>12000.000000</td>\n",
       "      <td>12000.000000</td>\n",
       "      <td>14.090000</td>\n",
       "      <td>386.720000</td>\n",
       "      <td>6.400000e+04</td>\n",
       "      <td>17.080000</td>\n",
       "      <td>11.000000</td>\n",
       "      <td>1.127400e+04</td>\n",
       "      <td>56.500000</td>\n",
       "      <td>24.000000</td>\n",
       "      <td>10000.000000</td>\n",
       "      <td>1302.120000</td>\n",
       "      <td>4774.110000</td>\n",
       "      <td>7.898300e+04</td>\n",
       "      <td>2.210000e+04</td>\n",
       "      <td>11258.370060</td>\n",
       "      <td>11252.455000</td>\n",
       "      <td>0.000000</td>\n",
       "    </tr>\n",
       "    <tr>\n",
       "      <th>75%</th>\n",
       "      <td>20000.000000</td>\n",
       "      <td>20000.000000</td>\n",
       "      <td>19925.000000</td>\n",
       "      <td>17.270000</td>\n",
       "      <td>575.500000</td>\n",
       "      <td>8.900000e+04</td>\n",
       "      <td>23.170000</td>\n",
       "      <td>14.000000</td>\n",
       "      <td>1.953500e+04</td>\n",
       "      <td>73.900000</td>\n",
       "      <td>33.000000</td>\n",
       "      <td>16000.000000</td>\n",
       "      <td>2453.722500</td>\n",
       "      <td>11027.152500</td>\n",
       "      <td>2.062598e+05</td>\n",
       "      <td>3.660000e+04</td>\n",
       "      <td>18590.166859</td>\n",
       "      <td>18581.965000</td>\n",
       "      <td>0.000000</td>\n",
       "    </tr>\n",
       "    <tr>\n",
       "      <th>max</th>\n",
       "      <td>35000.000000</td>\n",
       "      <td>35000.000000</td>\n",
       "      <td>35000.000000</td>\n",
       "      <td>28.990000</td>\n",
       "      <td>1424.570000</td>\n",
       "      <td>8.706582e+06</td>\n",
       "      <td>57.140000</td>\n",
       "      <td>76.000000</td>\n",
       "      <td>1.746716e+06</td>\n",
       "      <td>892.300000</td>\n",
       "      <td>150.000000</td>\n",
       "      <td>35000.000000</td>\n",
       "      <td>21087.910000</td>\n",
       "      <td>36475.590000</td>\n",
       "      <td>8.000078e+06</td>\n",
       "      <td>2.013133e+06</td>\n",
       "      <td>56087.909922</td>\n",
       "      <td>56047.850000</td>\n",
       "      <td>1.000000</td>\n",
       "    </tr>\n",
       "  </tbody>\n",
       "</table>\n",
       "</div>"
      ],
      "text/plain": [
       "           loan_amnt    funded_amnt  funded_amnt_inv       int_rate  \\\n",
       "count  204264.000000  204264.000000    204264.000000  204264.000000   \n",
       "mean    14288.320262   14288.265186     14281.334561      14.378045   \n",
       "std      8243.296032    8243.214494      8239.699781       4.449817   \n",
       "min      1000.000000    1000.000000       950.000000       5.320000   \n",
       "25%      8000.000000    8000.000000      8000.000000      11.140000   \n",
       "50%     12000.000000   12000.000000     12000.000000      14.090000   \n",
       "75%     20000.000000   20000.000000     19925.000000      17.270000   \n",
       "max     35000.000000   35000.000000     35000.000000      28.990000   \n",
       "\n",
       "         installment    annual_inc            dti       open_acc  \\\n",
       "count  204264.000000  2.042640e+05  204264.000000  204264.000000   \n",
       "mean      441.021846  7.367179e+04      17.489444      11.383092   \n",
       "std       247.380041  5.867951e+04       7.954445       4.993746   \n",
       "min        27.850000  3.000000e+03       0.000000       0.000000   \n",
       "25%       264.190000  4.500000e+04      11.520000       8.000000   \n",
       "50%       386.720000  6.400000e+04      17.080000      11.000000   \n",
       "75%       575.500000  8.900000e+04      23.170000      14.000000   \n",
       "max      1424.570000  8.706582e+06      57.140000      76.000000   \n",
       "\n",
       "          revol_bal     revol_util      total_acc  total_rec_prncp  \\\n",
       "count  2.042640e+05  204133.000000  204264.000000    204264.000000   \n",
       "mean   1.567519e+04      55.348672      25.883704     11347.776745   \n",
       "std    1.994169e+04      23.786682      11.811411      8612.148750   \n",
       "min    0.000000e+00       0.000000       2.000000         0.000000   \n",
       "25%    6.225000e+03      38.100000      17.000000      4500.000000   \n",
       "50%    1.127400e+04      56.500000      24.000000     10000.000000   \n",
       "75%    1.953500e+04      73.900000      33.000000     16000.000000   \n",
       "max    1.746716e+06     892.300000     150.000000     35000.000000   \n",
       "\n",
       "       total_rec_int  last_pymnt_amnt   tot_cur_bal  total_rev_hi_lim  \\\n",
       "count  204264.000000    204264.000000  2.042640e+05      2.042640e+05   \n",
       "mean     1906.001304      7079.209502  1.370553e+05      2.951796e+04   \n",
       "std      1992.628448      7635.337417  1.514555e+05      2.952449e+04   \n",
       "min         0.000000         0.000000  0.000000e+00      0.000000e+00   \n",
       "25%       615.802500       570.840000  2.831175e+04      1.320000e+04   \n",
       "50%      1302.120000      4774.110000  7.898300e+04      2.210000e+04   \n",
       "75%      2453.722500     11027.152500  2.062598e+05      3.660000e+04   \n",
       "max     21087.910000     36475.590000  8.000078e+06      2.013133e+06   \n",
       "\n",
       "         total_pymnt  total_pymnt_inv    loan_status  \n",
       "count  204264.000000    204264.000000  204264.000000  \n",
       "mean    13415.024181     13408.236212       0.245907  \n",
       "std      9575.826716      9571.222150       0.430625  \n",
       "min         0.000000         0.000000       0.000000  \n",
       "25%      6074.756534      6073.697500       0.000000  \n",
       "50%     11258.370060     11252.455000       0.000000  \n",
       "75%     18590.166859     18581.965000       0.000000  \n",
       "max     56087.909922     56047.850000       1.000000  "
      ]
     },
     "execution_count": 56,
     "metadata": {},
     "output_type": "execute_result"
    }
   ],
   "source": [
    "# na를 가지고 있지 않은 차주들의 사분위수\n",
    "loan_check_2= loan_check.sort_values('tot_cur_bal')[:-66623]\n",
    "loan_check_2.describe()"
   ]
  },
  {
   "cell_type": "code",
   "execution_count": 57,
   "metadata": {},
   "outputs": [
    {
     "data": {
      "text/plain": [
       "loan_amnt             0\n",
       "funded_amnt           0\n",
       "funded_amnt_inv       0\n",
       "int_rate              0\n",
       "installment           0\n",
       "annual_inc            0\n",
       "dti                   0\n",
       "open_acc              0\n",
       "revol_bal             0\n",
       "revol_util          131\n",
       "total_acc             0\n",
       "total_rec_prncp       0\n",
       "total_rec_int         0\n",
       "last_pymnt_amnt       0\n",
       "tot_cur_bal           0\n",
       "total_rev_hi_lim      0\n",
       "total_pymnt           0\n",
       "total_pymnt_inv       0\n",
       "emp_length            0\n",
       "loan_status           0\n",
       "dtype: int64"
      ]
     },
     "execution_count": 57,
     "metadata": {},
     "output_type": "execute_result"
    }
   ],
   "source": [
    "loan_check_2.isnull().sum()\n"
   ]
  },
  {
   "cell_type": "code",
   "execution_count": 58,
   "metadata": {},
   "outputs": [
    {
     "data": {
      "text/html": [
       "<div>\n",
       "<style>\n",
       "    .dataframe thead tr:only-child th {\n",
       "        text-align: right;\n",
       "    }\n",
       "\n",
       "    .dataframe thead th {\n",
       "        text-align: left;\n",
       "    }\n",
       "\n",
       "    .dataframe tbody tr th {\n",
       "        vertical-align: top;\n",
       "    }\n",
       "</style>\n",
       "<table border=\"1\" class=\"dataframe\">\n",
       "  <thead>\n",
       "    <tr style=\"text-align: right;\">\n",
       "      <th></th>\n",
       "      <th>loan_amnt</th>\n",
       "      <th>funded_amnt</th>\n",
       "      <th>funded_amnt_inv</th>\n",
       "      <th>int_rate</th>\n",
       "      <th>installment</th>\n",
       "      <th>annual_inc</th>\n",
       "      <th>dti</th>\n",
       "      <th>open_acc</th>\n",
       "      <th>revol_bal</th>\n",
       "      <th>revol_util</th>\n",
       "      <th>total_acc</th>\n",
       "      <th>total_rec_prncp</th>\n",
       "      <th>total_rec_int</th>\n",
       "      <th>last_pymnt_amnt</th>\n",
       "      <th>tot_cur_bal</th>\n",
       "      <th>total_rev_hi_lim</th>\n",
       "      <th>total_pymnt</th>\n",
       "      <th>total_pymnt_inv</th>\n",
       "      <th>emp_length</th>\n",
       "      <th>loan_status</th>\n",
       "    </tr>\n",
       "  </thead>\n",
       "  <tbody>\n",
       "    <tr>\n",
       "      <th>178261</th>\n",
       "      <td>35000.0</td>\n",
       "      <td>35000.0</td>\n",
       "      <td>34975.0</td>\n",
       "      <td>11.14</td>\n",
       "      <td>1148.18</td>\n",
       "      <td>400000.0</td>\n",
       "      <td>33.48</td>\n",
       "      <td>28.0</td>\n",
       "      <td>1743266.0</td>\n",
       "      <td>29.5</td>\n",
       "      <td>59.0</td>\n",
       "      <td>35000.0</td>\n",
       "      <td>951.80</td>\n",
       "      <td>33656.70</td>\n",
       "      <td>3471522.0</td>\n",
       "      <td>2013133.0</td>\n",
       "      <td>35951.800000</td>\n",
       "      <td>35926.12</td>\n",
       "      <td>10+ years</td>\n",
       "      <td>0</td>\n",
       "    </tr>\n",
       "    <tr>\n",
       "      <th>232164</th>\n",
       "      <td>18700.0</td>\n",
       "      <td>18700.0</td>\n",
       "      <td>18700.0</td>\n",
       "      <td>12.99</td>\n",
       "      <td>629.99</td>\n",
       "      <td>200000.0</td>\n",
       "      <td>21.28</td>\n",
       "      <td>10.0</td>\n",
       "      <td>220106.0</td>\n",
       "      <td>90.8</td>\n",
       "      <td>24.0</td>\n",
       "      <td>18700.0</td>\n",
       "      <td>979.03</td>\n",
       "      <td>12186.06</td>\n",
       "      <td>3610743.0</td>\n",
       "      <td>225000.0</td>\n",
       "      <td>19679.030000</td>\n",
       "      <td>19679.03</td>\n",
       "      <td>&lt; 1 year</td>\n",
       "      <td>0</td>\n",
       "    </tr>\n",
       "    <tr>\n",
       "      <th>677893</th>\n",
       "      <td>35000.0</td>\n",
       "      <td>35000.0</td>\n",
       "      <td>35000.0</td>\n",
       "      <td>10.99</td>\n",
       "      <td>760.82</td>\n",
       "      <td>400000.0</td>\n",
       "      <td>13.49</td>\n",
       "      <td>15.0</td>\n",
       "      <td>555673.0</td>\n",
       "      <td>63.2</td>\n",
       "      <td>27.0</td>\n",
       "      <td>35000.0</td>\n",
       "      <td>520.46</td>\n",
       "      <td>35563.20</td>\n",
       "      <td>3652389.0</td>\n",
       "      <td>632200.0</td>\n",
       "      <td>35520.460000</td>\n",
       "      <td>35520.46</td>\n",
       "      <td>10+ years</td>\n",
       "      <td>0</td>\n",
       "    </tr>\n",
       "    <tr>\n",
       "      <th>177927</th>\n",
       "      <td>35000.0</td>\n",
       "      <td>35000.0</td>\n",
       "      <td>35000.0</td>\n",
       "      <td>15.80</td>\n",
       "      <td>1227.05</td>\n",
       "      <td>800000.0</td>\n",
       "      <td>4.12</td>\n",
       "      <td>12.0</td>\n",
       "      <td>54511.0</td>\n",
       "      <td>87.4</td>\n",
       "      <td>14.0</td>\n",
       "      <td>35000.0</td>\n",
       "      <td>7134.90</td>\n",
       "      <td>18835.39</td>\n",
       "      <td>4772549.0</td>\n",
       "      <td>62404.0</td>\n",
       "      <td>42134.904511</td>\n",
       "      <td>42134.90</td>\n",
       "      <td>2 years</td>\n",
       "      <td>0</td>\n",
       "    </tr>\n",
       "    <tr>\n",
       "      <th>180080</th>\n",
       "      <td>35000.0</td>\n",
       "      <td>35000.0</td>\n",
       "      <td>35000.0</td>\n",
       "      <td>15.31</td>\n",
       "      <td>1218.61</td>\n",
       "      <td>5000000.0</td>\n",
       "      <td>2.36</td>\n",
       "      <td>13.0</td>\n",
       "      <td>975800.0</td>\n",
       "      <td>0.0</td>\n",
       "      <td>36.0</td>\n",
       "      <td>35000.0</td>\n",
       "      <td>8114.63</td>\n",
       "      <td>58.03</td>\n",
       "      <td>8000078.0</td>\n",
       "      <td>988000.0</td>\n",
       "      <td>43114.630000</td>\n",
       "      <td>43114.63</td>\n",
       "      <td>10+ years</td>\n",
       "      <td>0</td>\n",
       "    </tr>\n",
       "  </tbody>\n",
       "</table>\n",
       "</div>"
      ],
      "text/plain": [
       "        loan_amnt  funded_amnt  funded_amnt_inv  int_rate  installment  \\\n",
       "178261    35000.0      35000.0          34975.0     11.14      1148.18   \n",
       "232164    18700.0      18700.0          18700.0     12.99       629.99   \n",
       "677893    35000.0      35000.0          35000.0     10.99       760.82   \n",
       "177927    35000.0      35000.0          35000.0     15.80      1227.05   \n",
       "180080    35000.0      35000.0          35000.0     15.31      1218.61   \n",
       "\n",
       "        annual_inc    dti  open_acc  revol_bal  revol_util  total_acc  \\\n",
       "178261    400000.0  33.48      28.0  1743266.0        29.5       59.0   \n",
       "232164    200000.0  21.28      10.0   220106.0        90.8       24.0   \n",
       "677893    400000.0  13.49      15.0   555673.0        63.2       27.0   \n",
       "177927    800000.0   4.12      12.0    54511.0        87.4       14.0   \n",
       "180080   5000000.0   2.36      13.0   975800.0         0.0       36.0   \n",
       "\n",
       "        total_rec_prncp  total_rec_int  last_pymnt_amnt  tot_cur_bal  \\\n",
       "178261          35000.0         951.80         33656.70    3471522.0   \n",
       "232164          18700.0         979.03         12186.06    3610743.0   \n",
       "677893          35000.0         520.46         35563.20    3652389.0   \n",
       "177927          35000.0        7134.90         18835.39    4772549.0   \n",
       "180080          35000.0        8114.63            58.03    8000078.0   \n",
       "\n",
       "        total_rev_hi_lim   total_pymnt  total_pymnt_inv emp_length  \\\n",
       "178261         2013133.0  35951.800000         35926.12  10+ years   \n",
       "232164          225000.0  19679.030000         19679.03   < 1 year   \n",
       "677893          632200.0  35520.460000         35520.46  10+ years   \n",
       "177927           62404.0  42134.904511         42134.90    2 years   \n",
       "180080          988000.0  43114.630000         43114.63  10+ years   \n",
       "\n",
       "        loan_status  \n",
       "178261            0  \n",
       "232164            0  \n",
       "677893            0  \n",
       "177927            0  \n",
       "180080            0  "
      ]
     },
     "execution_count": 58,
     "metadata": {},
     "output_type": "execute_result"
    }
   ],
   "source": [
    "loan_check_2.tail()"
   ]
  },
  {
   "cell_type": "code",
   "execution_count": 59,
   "metadata": {},
   "outputs": [
    {
     "data": {
      "image/png": "[encoded data removed]",
      "text/plain": [
       "<matplotlib.figure.Figure at 0x1126fdc50>"
      ]
     },
     "metadata": {},
     "output_type": "display_data"
    }
   ],
   "source": [
    "import seaborn as sns\n",
    "\n",
    "sns.set_style(\"whitegrid\", )\n",
    "X = loan_check['tot_cur_bal']\n",
    "y = loan_check['loan_status']\n",
    "plt.scatter(X, y)\n",
    "plt.show()"
   ]
  },
  {
   "cell_type": "code",
   "execution_count": 60,
   "metadata": {
    "collapsed": true
   },
   "outputs": [],
   "source": [
    "# tot_cur_bal : Total current balance of all accounts\n",
    "# Lending Club이외의 계정의 대출도 포함되는 것 같다. \n",
    "#타사의 정보를 가져올 수 없는 값으로 여겨저 0으로 채운다\n",
    "loan['tot_cur_bal'] = loan.tot_cur_bal.fillna(0)"
   ]
  },
  {
   "cell_type": "code",
   "execution_count": 62,
   "metadata": {},
   "outputs": [
    {
     "data": {
      "text/plain": [
       "16501"
      ]
     },
     "execution_count": 62,
     "metadata": {},
     "output_type": "execute_result"
    }
   ],
   "source": [
    "\n",
    "gc.collect()"
   ]
  },
  {
   "cell_type": "markdown",
   "metadata": {},
   "source": [
    "## 2-7)  total_rev_hi_lim\n",
    "* Total revolving high credit/credit limit\n",
    "* 높은 신용의 한도대출 limit"
   ]
  },
  {
   "cell_type": "code",
   "execution_count": 63,
   "metadata": {},
   "outputs": [
    {
     "data": {
      "text/plain": [
       "False    204264\n",
       "True      66623\n",
       "Name: total_rev_hi_lim, dtype: int64"
      ]
     },
     "execution_count": 63,
     "metadata": {},
     "output_type": "execute_result"
    }
   ],
   "source": [
    "loan_col_real['total_rev_hi_lim'].isnull().value_counts()"
   ]
  },
  {
   "cell_type": "code",
   "execution_count": 64,
   "metadata": {},
   "outputs": [
    {
     "name": "stdout",
     "output_type": "stream",
     "text": [
      "count    2.042640e+05\n",
      "mean     2.951796e+04\n",
      "std      2.952449e+04\n",
      "min      0.000000e+00\n",
      "25%      1.320000e+04\n",
      "50%      2.210000e+04\n",
      "75%      3.660000e+04\n",
      "max      2.013133e+06\n",
      "Name: total_rev_hi_lim, dtype: float64\n"
     ]
    },
    {
     "data": {
      "image/png": "[encoded data removed]",
      "text/plain": [
       "<matplotlib.figure.Figure at 0x10b227198>"
      ]
     },
     "metadata": {},
     "output_type": "display_data"
    }
   ],
   "source": [
    "print (loan_col_real.total_rev_hi_lim.describe())\n",
    "\n",
    "sns.boxplot(loan_col_real.total_rev_hi_lim)\n",
    "plt.show()"
   ]
  },
  {
   "cell_type": "code",
   "execution_count": 65,
   "metadata": {},
   "outputs": [
    {
     "data": {
      "image/png": "[encoded data removed]",
      "text/plain": [
       "<matplotlib.figure.Figure at 0x1043d1b38>"
      ]
     },
     "metadata": {},
     "output_type": "display_data"
    }
   ],
   "source": [
    "import seaborn as sns\n",
    "sns.set_style(\"whitegrid\", )\n",
    "X = loan_check['total_rev_hi_lim']\n",
    "y = loan_check['loan_status']\n",
    "plt.scatter(X, y)\n",
    "plt.show()"
   ]
  },
  {
   "cell_type": "code",
   "execution_count": 66,
   "metadata": {},
   "outputs": [
    {
     "name": "stdout",
     "output_type": "stream",
     "text": [
      "False    270887\n",
      "Name: total_rev_hi_lim, dtype: int64\n"
     ]
    }
   ],
   "source": [
    "# 결손값은 0으로 채운다\n",
    "loan['total_rev_hi_lim'] = loan.total_rev_hi_lim.fillna(0)\n",
    "print (loan.total_rev_hi_lim.isnull().value_counts())"
   ]
  },
  {
   "cell_type": "markdown",
   "metadata": {
    "collapsed": true
   },
   "source": [
    "# 3. 기타 변수들의 결손 값 처리"
   ]
  },
  {
   "cell_type": "code",
   "execution_count": 67,
   "metadata": {},
   "outputs": [
    {
     "data": {
      "text/plain": [
       "Index(['id', 'member_id', 'loan_amnt', 'funded_amnt', 'funded_amnt_inv',\n",
       "       'term', 'int_rate', 'installment', 'grade', 'sub_grade', 'emp_title',\n",
       "       'emp_length', 'home_ownership', 'annual_inc', 'verification_status',\n",
       "       'issue_d', 'loan_status', 'pymnt_plan', 'url', 'desc', 'purpose',\n",
       "       'title', 'zip_code', 'addr_state', 'dti', 'delinq_2yrs',\n",
       "       'earliest_cr_line', 'inq_last_6mths', 'mths_since_last_delinq',\n",
       "       'mths_since_last_record', 'open_acc', 'pub_rec', 'revol_bal',\n",
       "       'revol_util', 'total_acc', 'initial_list_status', 'out_prncp',\n",
       "       'out_prncp_inv', 'total_pymnt', 'total_pymnt_inv', 'total_rec_prncp',\n",
       "       'total_rec_int', 'total_rec_late_fee', 'recoveries',\n",
       "       'collection_recovery_fee', 'last_pymnt_d', 'last_pymnt_amnt',\n",
       "       'next_pymnt_d', 'last_credit_pull_d', 'collections_12_mths_ex_med',\n",
       "       'mths_since_last_major_derog', 'policy_code', 'application_type',\n",
       "       'annual_inc_joint', 'dti_joint', 'verification_status_joint',\n",
       "       'acc_now_delinq', 'tot_coll_amt', 'tot_cur_bal', 'open_acc_6m',\n",
       "       'open_il_6m', 'open_il_12m', 'open_il_24m', 'mths_since_rcnt_il',\n",
       "       'total_bal_il', 'il_util', 'open_rv_12m', 'open_rv_24m', 'max_bal_bc',\n",
       "       'all_util', 'total_rev_hi_lim', 'inq_fi', 'total_cu_tl',\n",
       "       'inq_last_12m'],\n",
       "      dtype='object')"
      ]
     },
     "execution_count": 67,
     "metadata": {},
     "output_type": "execute_result"
    }
   ],
   "source": [
    "loan.columns"
   ]
  },
  {
   "cell_type": "code",
   "execution_count": 68,
   "metadata": {
    "collapsed": true
   },
   "outputs": [],
   "source": [
    "col_real = ['loan_amnt', 'funded_amnt', 'funded_amnt_inv', 'int_rate', 'installment', \n",
    "            'annual_inc', 'dti', 'open_acc', 'revol_bal', 'revol_util', 'total_acc', \n",
    "            'total_rec_prncp', 'total_rec_int', 'last_pymnt_amnt', 'tot_cur_bal',\n",
    "            'total_rev_hi_lim','total_pymnt', 'total_pymnt_inv','emp_length', ]\n",
    "\n",
    "etc = ['term', 'grade', 'sub_grade', 'emp_title',\n",
    "       'emp_length', 'home_ownership', 'verification_status',\n",
    "       'issue_d', 'pymnt_plan', 'purpose', 'title', 'zip_code', 'addr_state',\n",
    "       'delinq_2yrs', 'earliest_cr_line', 'inq_last_6mths',\n",
    "       'mths_since_last_delinq', 'mths_since_last_record', 'open_acc',\n",
    "       'pub_rec', 'revol_bal', 'total_acc',\n",
    "       'initial_list_status', 'out_prncp', 'out_prncp_inv',\n",
    "       'total_rec_late_fee', 'recoveries', 'collection_recovery_fee',\n",
    "        'last_pymnt_d','last_pymnt_amnt', 'next_pymnt_d', 'last_credit_pull_d',\n",
    "       'collections_12_mths_ex_med', 'mths_since_last_major_derog',\n",
    "       'policy_code', 'application_type', 'annual_inc_joint', 'dti_joint',\n",
    "       'verification_status_joint', 'acc_now_delinq', 'tot_coll_amt',\n",
    "       'open_acc_6m', 'open_il_6m', 'open_il_12m',\n",
    "       'open_il_24m', 'mths_since_rcnt_il', 'total_bal_il', 'il_util',\n",
    "       'open_rv_12m', 'open_rv_24m', 'max_bal_bc', 'all_util',\n",
    "        'inq_fi', 'total_cu_tl', 'inq_last_12m']\n",
    "\n",
    "#위에서 처리한 col 분류 이외의 변수의 nan확인"
   ]
  },
  {
   "cell_type": "code",
   "execution_count": 69,
   "metadata": {
    "collapsed": true
   },
   "outputs": [],
   "source": [
    "loan_check= loan[etc]"
   ]
  },
  {
   "cell_type": "code",
   "execution_count": 71,
   "metadata": {},
   "outputs": [
    {
     "data": {
      "text/plain": [
       "term                                0\n",
       "grade                               0\n",
       "sub_grade                           0\n",
       "emp_title                       15116\n",
       "emp_length                          0\n",
       "home_ownership                      0\n",
       "verification_status                 0\n",
       "issue_d                             0\n",
       "pymnt_plan                          0\n",
       "purpose                             0\n",
       "title                              14\n",
       "zip_code                            0\n",
       "addr_state                          0\n",
       "delinq_2yrs                        29\n",
       "earliest_cr_line                   29\n",
       "inq_last_6mths                     29\n",
       "mths_since_last_delinq         149189\n",
       "mths_since_last_record         235810\n",
       "open_acc                            0\n",
       "pub_rec                            29\n",
       "revol_bal                           0\n",
       "total_acc                           0\n",
       "initial_list_status                 0\n",
       "out_prncp                           0\n",
       "out_prncp_inv                       0\n",
       "total_rec_late_fee                  0\n",
       "recoveries                          0\n",
       "collection_recovery_fee             0\n",
       "last_pymnt_d                      709\n",
       "last_pymnt_amnt                     0\n",
       "next_pymnt_d                   252971\n",
       "last_credit_pull_d                 24\n",
       "collections_12_mths_ex_med        145\n",
       "mths_since_last_major_derog    218906\n",
       "policy_code                         0\n",
       "application_type                    0\n",
       "annual_inc_joint               270884\n",
       "dti_joint                      270884\n",
       "verification_status_joint      270884\n",
       "acc_now_delinq                     29\n",
       "tot_coll_amt                    66623\n",
       "open_acc_6m                    270743\n",
       "open_il_6m                     270743\n",
       "open_il_12m                    270743\n",
       "open_il_24m                    270743\n",
       "mths_since_rcnt_il             270747\n",
       "total_bal_il                   270743\n",
       "il_util                        270761\n",
       "open_rv_12m                    270743\n",
       "open_rv_24m                    270743\n",
       "max_bal_bc                     270743\n",
       "all_util                       270743\n",
       "inq_fi                         270743\n",
       "total_cu_tl                    270743\n",
       "inq_last_12m                   270743\n",
       "dtype: int64"
      ]
     },
     "execution_count": 71,
     "metadata": {},
     "output_type": "execute_result"
    }
   ],
   "source": [
    "loan_check.isnull().sum()"
   ]
  },
  {
   "cell_type": "markdown",
   "metadata": {
    "collapsed": true
   },
   "source": [
    "## 3-1) 의미없는 변수들은 nan값은 0 으로처리"
   ]
  },
  {
   "cell_type": "markdown",
   "metadata": {},
   "source": [
    "### (1) Emp_title \n",
    "* 직업설명"
   ]
  },
  {
   "cell_type": "code",
   "execution_count": 72,
   "metadata": {},
   "outputs": [
    {
     "name": "stdout",
     "output_type": "stream",
     "text": [
      "False    255771\n",
      "True      15116\n",
      "Name: emp_title, dtype: int64\n",
      "False    270887\n",
      "Name: emp_title, dtype: int64\n"
     ]
    }
   ],
   "source": [
    "\n",
    "print(loan_check['emp_title'].isnull().value_counts())\n",
    "\n",
    "loan.emp_title.fillna(0, inplace = True)\n",
    "print (loan.emp_title.isnull().value_counts())"
   ]
  },
  {
   "cell_type": "markdown",
   "metadata": {},
   "source": [
    "### (2) title \n",
    "* 차주가 기재한 대출 이름"
   ]
  },
  {
   "cell_type": "code",
   "execution_count": 73,
   "metadata": {},
   "outputs": [
    {
     "name": "stdout",
     "output_type": "stream",
     "text": [
      "False    270873\n",
      "True         14\n",
      "Name: title, dtype: int64\n",
      "False    270887\n",
      "Name: title, dtype: int64\n"
     ]
    }
   ],
   "source": [
    "\n",
    "print(loan_check['title'].isnull().value_counts())\n",
    "\n",
    "loan.title.fillna(0, inplace = True)\n",
    "print (loan.title.isnull().value_counts())"
   ]
  },
  {
   "cell_type": "markdown",
   "metadata": {},
   "source": [
    "### (3) delinq_2yrs \n",
    "* 지난 2년간 30일 초과 연체 수"
   ]
  },
  {
   "cell_type": "code",
   "execution_count": 74,
   "metadata": {},
   "outputs": [
    {
     "name": "stdout",
     "output_type": "stream",
     "text": [
      "count    270858.000000\n",
      "mean          0.258552\n",
      "std           0.759819\n",
      "min           0.000000\n",
      "25%           0.000000\n",
      "50%           0.000000\n",
      "75%           0.000000\n",
      "max          29.000000\n",
      "Name: delinq_2yrs, dtype: float64\n",
      "0.0     226191\n",
      "1.0      30651\n",
      "2.0       8605\n",
      "3.0       2876\n",
      "4.0       1178\n",
      "5.0        612\n",
      "6.0        302\n",
      "7.0        165\n",
      "8.0        100\n",
      "9.0         57\n",
      "10.0        36\n",
      "12.0        26\n",
      "11.0        24\n",
      "14.0         9\n",
      "13.0         8\n",
      "15.0         5\n",
      "18.0         4\n",
      "17.0         2\n",
      "16.0         2\n",
      "29.0         1\n",
      "21.0         1\n",
      "19.0         1\n",
      "20.0         1\n",
      "22.0         1\n",
      "Name: delinq_2yrs, dtype: int64\n",
      "False    270887\n",
      "Name: delinq_2yrs, dtype: int64\n"
     ]
    }
   ],
   "source": [
    "\n",
    "print (loan_check.delinq_2yrs.describe())\n",
    "print(loan_check.delinq_2yrs.value_counts())\n",
    "\n",
    "# 결손값은 평균인 0으로 한다\n",
    "loan.delinq_2yrs.fillna(0, inplace = True)\n",
    "print (loan.delinq_2yrs.isnull().value_counts())"
   ]
  },
  {
   "cell_type": "markdown",
   "metadata": {},
   "source": [
    "### (4) earliest_cr_line\n",
    "* 신용거래를 제일 처음 시작한 달(신용거래기간)\n",
    "\n",
    "* 0이나 평균값으로 채울 수 없으므로 issue_d(lendingclub대출시작일)의 값으로 채운다"
   ]
  },
  {
   "cell_type": "code",
   "execution_count": 75,
   "metadata": {},
   "outputs": [
    {
     "name": "stdout",
     "output_type": "stream",
     "text": [
      "None\n"
     ]
    }
   ],
   "source": [
    "# earliest_cr_line: 신용거래를 제일 처음 시작한 달(신용거래기간)) \n",
    "#      -> 0이나 평균값으로 채울 수 없으므로 issue_d(lendingclub대출시작일)의 값으로 채운다\n",
    "nan_index=[]\n",
    "\n",
    "\n",
    "print(loan['earliest_cr_line'].fillna(loan['issue_d'], inplace=True))\n"
   ]
  },
  {
   "cell_type": "markdown",
   "metadata": {},
   "source": [
    "### (5) inq_last_6mths \n",
    "* The number of inquiries in past 6 months (excluding auto and mortgage inquiries)\n",
    "* 자동차, 주택담보를 제외한 6개월 이내 문의 건수"
   ]
  },
  {
   "cell_type": "code",
   "execution_count": 76,
   "metadata": {},
   "outputs": [
    {
     "name": "stdout",
     "output_type": "stream",
     "text": [
      "count    270858.000000\n",
      "mean          0.885848\n",
      "std           1.154724\n",
      "min           0.000000\n",
      "25%           0.000000\n",
      "50%           1.000000\n",
      "75%           1.000000\n",
      "max          33.000000\n",
      "Name: inq_last_6mths, dtype: float64\n",
      "0.0     131501\n",
      "1.0      77501\n",
      "2.0      36884\n",
      "3.0      17049\n",
      "4.0       4701\n",
      "5.0       1940\n",
      "6.0        826\n",
      "7.0        193\n",
      "8.0        118\n",
      "9.0         50\n",
      "10.0        24\n",
      "12.0        15\n",
      "11.0        15\n",
      "15.0         9\n",
      "14.0         6\n",
      "13.0         6\n",
      "18.0         4\n",
      "16.0         3\n",
      "19.0         2\n",
      "17.0         2\n",
      "24.0         2\n",
      "28.0         1\n",
      "31.0         1\n",
      "32.0         1\n",
      "25.0         1\n",
      "33.0         1\n",
      "20.0         1\n",
      "27.0         1\n",
      "Name: inq_last_6mths, dtype: int64\n",
      "False    270887\n",
      "Name: inq_last_6mths, dtype: int64\n"
     ]
    }
   ],
   "source": [
    "\n",
    "print (loan_check['inq_last_6mths'].describe())\n",
    "print (loan_check['inq_last_6mths'].value_counts())\n",
    "\n",
    "# 결손값은 최빈값인 0으로 한다\n",
    "loan.inq_last_6mths.fillna(0, inplace = True)\n",
    "print (loan.inq_last_6mths.isnull().value_counts())"
   ]
  },
  {
   "cell_type": "markdown",
   "metadata": {},
   "source": [
    "### (6) mths_since_last_delinq \n",
    "* 차주의 마지막 연체일로부터 지난 달 수 "
   ]
  },
  {
   "cell_type": "code",
   "execution_count": 77,
   "metadata": {},
   "outputs": [
    {
     "name": "stdout",
     "output_type": "stream",
     "text": [
      "count    121698.000000\n",
      "mean         34.874443\n",
      "std          21.878086\n",
      "min           0.000000\n",
      "25%          16.000000\n",
      "50%          32.000000\n",
      "75%          51.000000\n",
      "max         152.000000\n",
      "Name: mths_since_last_delinq, dtype: float64\n"
     ]
    },
    {
     "data": {
      "image/png": "[encoded data removed]",
      "text/plain": [
       "<matplotlib.figure.Figure at 0x10b89bcc0>"
      ]
     },
     "metadata": {},
     "output_type": "display_data"
    }
   ],
   "source": [
    "\n",
    "print (loan_check['mths_since_last_delinq'].describe())\n",
    "# 이자율, 투자받은 금액과 관계가 있을까?\n",
    "\n",
    "\n",
    "sns.set_style(\"whitegrid\", )\n",
    "X = loan_check['mths_since_last_delinq']\n",
    "y = loan_col_real['int_rate']\n",
    "plt.scatter(X, y, alpha=0.2)\n",
    "plt.show()"
   ]
  },
  {
   "cell_type": "code",
   "execution_count": 78,
   "metadata": {},
   "outputs": [
    {
     "data": {
      "image/png": "[encoded data removed]",
      "text/plain": [
       "<matplotlib.figure.Figure at 0x11d2a97b8>"
      ]
     },
     "metadata": {},
     "output_type": "display_data"
    }
   ],
   "source": [
    "sns.set_style(\"whitegrid\", )\n",
    "X = loan_check['mths_since_last_delinq']\n",
    "y = loan_col_real['loan_amnt']\n",
    "plt.scatter(X, y, alpha = 0.2)\n",
    "plt.show()"
   ]
  },
  {
   "cell_type": "code",
   "execution_count": 79,
   "metadata": {},
   "outputs": [
    {
     "name": "stdout",
     "output_type": "stream",
     "text": [
      "False    270887\n",
      "Name: mths_since_last_delinq, dtype: int64\n"
     ]
    }
   ],
   "source": [
    "# 크게 영향을 미치지 않는 것 같다. 평균값으로 채운다\n",
    "loan.mths_since_last_delinq.fillna(35.0, inplace = True)\n",
    "print (loan.mths_since_last_delinq.isnull().value_counts())"
   ]
  },
  {
   "cell_type": "code",
   "execution_count": 80,
   "metadata": {
    "collapsed": true
   },
   "outputs": [
    {
     "data": {
      "text/plain": [
       "0         35.0\n",
       "1         35.0\n",
       "2         35.0\n",
       "3         35.0\n",
       "5         35.0\n",
       "7         35.0\n",
       "8         35.0\n",
       "9         35.0\n",
       "10        35.0\n",
       "11        35.0\n",
       "12        35.0\n",
       "13        35.0\n",
       "14        35.0\n",
       "15        35.0\n",
       "16        61.0\n",
       "17        35.0\n",
       "18         8.0\n",
       "19        35.0\n",
       "20        35.0\n",
       "21        35.0\n",
       "22        35.0\n",
       "23        35.0\n",
       "24        35.0\n",
       "25        35.0\n",
       "26        35.0\n",
       "27        20.0\n",
       "28        18.0\n",
       "29        35.0\n",
       "30        35.0\n",
       "31        35.0\n",
       "          ... \n",
       "887198    62.0\n",
       "887202    35.0\n",
       "887215    35.0\n",
       "887231    35.0\n",
       "887248    41.0\n",
       "887249    20.0\n",
       "887254    35.0\n",
       "887258    35.0\n",
       "887263    35.0\n",
       "887264    10.0\n",
       "887268     6.0\n",
       "887275    35.0\n",
       "887276    35.0\n",
       "887279    35.0\n",
       "887280    35.0\n",
       "887290    29.0\n",
       "887303    11.0\n",
       "887308    11.0\n",
       "887322    28.0\n",
       "887330    73.0\n",
       "887332    35.0\n",
       "887337     6.0\n",
       "887345    69.0\n",
       "887346    45.0\n",
       "887347    35.0\n",
       "887351    38.0\n",
       "887364    16.0\n",
       "887366    35.0\n",
       "887369    35.0\n",
       "887371    65.0\n",
       "Name: mths_since_last_delinq, Length: 270887, dtype: float64"
      ]
     },
     "execution_count": 80,
     "metadata": {},
     "output_type": "execute_result"
    }
   ],
   "source": [
    "loan.mths_since_last_delinq"
   ]
  },
  {
   "cell_type": "markdown",
   "metadata": {},
   "source": [
    "### (7) mths_since_last_record\n",
    "* The number of months since the last public record.\n",
    "* 공공 타기관에서 데이터를 가져오는 것이기 때문에 평균값이나 최빈값으로 채워넣는 것은 무의미하다고 생각한다"
   ]
  },
  {
   "cell_type": "code",
   "execution_count": 81,
   "metadata": {},
   "outputs": [
    {
     "name": "stdout",
     "output_type": "stream",
     "text": [
      "count    35077.000000\n",
      "mean        74.237364\n",
      "std         30.860748\n",
      "min          0.000000\n",
      "25%         54.000000\n",
      "50%         77.000000\n",
      "75%        101.000000\n",
      "max        129.000000\n",
      "Name: mths_since_last_record, dtype: float64\n",
      "True     235810\n",
      "False     35077\n",
      "Name: mths_since_last_record, dtype: int64\n",
      "0.0      1278\n",
      "104.0     505\n",
      "105.0     503\n",
      "114.0     496\n",
      "111.0     494\n",
      "113.0     491\n",
      "106.0     490\n",
      "116.0     489\n",
      "109.0     488\n",
      "107.0     486\n",
      "112.0     480\n",
      "115.0     479\n",
      "110.0     477\n",
      "118.0     473\n",
      "103.0     466\n",
      "108.0     464\n",
      "117.0     464\n",
      "101.0     458\n",
      "102.0     454\n",
      "100.0     450\n",
      "98.0      442\n",
      "96.0      435\n",
      "61.0      427\n",
      "93.0      422\n",
      "94.0      414\n",
      "86.0      411\n",
      "99.0      410\n",
      "71.0      408\n",
      "69.0      405\n",
      "54.0      403\n",
      "         ... \n",
      "27.0      126\n",
      "26.0      106\n",
      "23.0      104\n",
      "25.0       99\n",
      "21.0       85\n",
      "22.0       77\n",
      "24.0       76\n",
      "18.0       72\n",
      "20.0       72\n",
      "15.0       68\n",
      "19.0       64\n",
      "17.0       61\n",
      "12.0       60\n",
      "16.0       54\n",
      "14.0       51\n",
      "13.0       51\n",
      "11.0       47\n",
      "7.0        44\n",
      "8.0        43\n",
      "9.0        40\n",
      "10.0       38\n",
      "6.0        26\n",
      "5.0        25\n",
      "4.0        19\n",
      "2.0        17\n",
      "3.0        13\n",
      "1.0        10\n",
      "120.0       2\n",
      "121.0       1\n",
      "129.0       1\n",
      "Name: mths_since_last_record, Length: 123, dtype: int64\n"
     ]
    }
   ],
   "source": [
    "\n",
    "print (loan_check['mths_since_last_record'].describe())\n",
    "# 이자율, 투자받은 금액과 관계가 있을까?\n",
    "\n",
    "print (loan_check.mths_since_last_record.isnull().value_counts())\n",
    "print (loan_check.mths_since_last_record.value_counts())"
   ]
  },
  {
   "cell_type": "code",
   "execution_count": 82,
   "metadata": {},
   "outputs": [
    {
     "data": {
      "image/png": "[encoded data removed]",
      "text/plain": [
       "<matplotlib.figure.Figure at 0x11e8107b8>"
      ]
     },
     "metadata": {},
     "output_type": "display_data"
    }
   ],
   "source": [
    "sns.set_style(\"whitegrid\", )\n",
    "X = loan_check['mths_since_last_record']\n",
    "y = loan_col_real['loan_amnt']\n",
    "plt.scatter(X, y, alpha=0.2)\n",
    "plt.show()"
   ]
  },
  {
   "cell_type": "code",
   "execution_count": 83,
   "metadata": {},
   "outputs": [
    {
     "name": "stdout",
     "output_type": "stream",
     "text": [
      "False    270887\n",
      "Name: mths_since_last_record, dtype: int64\n"
     ]
    }
   ],
   "source": [
    "# 해당 변수의 7/8정도가 null 이고 다른 변수간의 상관관계가 보이지 않기에 결손값은 0으로 채운다\n",
    "loan.mths_since_last_record.fillna(0, inplace = True)\n",
    "print (loan.mths_since_last_record.isnull().value_counts())"
   ]
  },
  {
   "cell_type": "markdown",
   "metadata": {},
   "source": [
    "### (8) Mass null\n",
    "* 200,000만개 이상(약75%이상)이 null인 변수는 값추정이 어려우므로 결손값을 0으로 채운다"
   ]
  },
  {
   "cell_type": "code",
   "execution_count": 84,
   "metadata": {
    "collapsed": true
   },
   "outputs": [],
   "source": [
    "col_null = ['next_pymnt_d','mths_since_last_major_derog','annual_inc_joint','dti_joint',\n",
    "            'verification_status_joint','open_acc_6m','open_il_6m','open_il_12m',\n",
    "            'open_il_24m','mths_since_rcnt_il','total_bal_il','il_util','open_rv_12m',\n",
    "            'open_rv_24m','max_bal_bc','all_util','inq_fi','total_cu_tl','inq_last_12m']                  \n",
    "\n",
    "\n",
    "loan[col_null]= loan[col_null].fillna(0)\n"
   ]
  },
  {
   "cell_type": "markdown",
   "metadata": {},
   "source": [
    "### (9)  open_acc &  pub_rec & total_acc & acc_now_delinq\n",
    "<br>\n",
    "현재 같은 수의 nan값임. 서로 유의미할까\n",
    "\n",
    "* open_acc : 29\n",
    "  <br>\n",
    "  The number of open credit lines in the borrower's credit file.(현재 개설되어 있는 한도대출 개수)\n",
    "* pub_rec : 29\n",
    "   <br> Number of derogatory public records (공공기록 수 - 연체 기록과 반비례 : 좋은 기록인 것 같다)\n",
    "* total_acc : 29\n",
    "    <br>The total number of credit lines currently in the borrower's credit file (차주의 한도대출 개수)\n",
    "* acc_now_delinq : 29\n",
    "    <br>The number of accounts on which the borrower is now delinquent.(현재 연체중인 계좌개수)"
   ]
  },
  {
   "cell_type": "code",
   "execution_count": 85,
   "metadata": {
    "scrolled": true
   },
   "outputs": [
    {
     "data": {
      "text/html": [
       "<div>\n",
       "<style>\n",
       "    .dataframe thead tr:only-child th {\n",
       "        text-align: right;\n",
       "    }\n",
       "\n",
       "    .dataframe thead th {\n",
       "        text-align: left;\n",
       "    }\n",
       "\n",
       "    .dataframe tbody tr th {\n",
       "        vertical-align: top;\n",
       "    }\n",
       "</style>\n",
       "<table border=\"1\" class=\"dataframe\">\n",
       "  <thead>\n",
       "    <tr style=\"text-align: right;\">\n",
       "      <th></th>\n",
       "      <th>open_acc</th>\n",
       "      <th>pub_rec</th>\n",
       "      <th>total_acc</th>\n",
       "      <th>acc_now_delinq</th>\n",
       "    </tr>\n",
       "  </thead>\n",
       "  <tbody>\n",
       "  </tbody>\n",
       "</table>\n",
       "</div>"
      ],
      "text/plain": [
       "Empty DataFrame\n",
       "Columns: [open_acc, pub_rec, total_acc, acc_now_delinq]\n",
       "Index: []"
      ]
     },
     "execution_count": 85,
     "metadata": {},
     "output_type": "execute_result"
    }
   ],
   "source": [
    "loan_check_temp_null= loan_check.loc[loan_check['open_acc'].isnull()]\n",
    "loan_check_temp_notnull= loan_check.loc[loan_check['open_acc'].notnull()]\n",
    "\n",
    "temp = ['open_acc','pub_rec','total_acc','acc_now_delinq']\n",
    "loan_check_temp_null[temp]\n",
    "\n",
    "# 똑같은 차주에 대해 비어져 있다는 것을 알 수 있다"
   ]
  },
  {
   "cell_type": "code",
   "execution_count": 86,
   "metadata": {},
   "outputs": [
    {
     "name": "stdout",
     "output_type": "stream",
     "text": [
      "            open_acc        pub_rec      total_acc  acc_now_delinq\n",
      "count  270887.000000  270858.000000  270887.000000   270858.000000\n",
      "mean       10.975883       0.147203      25.020256        0.003397\n",
      "std         4.928395       0.444558      11.796579        0.063288\n",
      "min         0.000000       0.000000       0.000000        0.000000\n",
      "25%         7.000000       0.000000      16.000000        0.000000\n",
      "50%        10.000000       0.000000      23.000000        0.000000\n",
      "75%        14.000000       0.000000      32.000000        0.000000\n",
      "max        76.000000      15.000000     150.000000        5.000000\n"
     ]
    }
   ],
   "source": [
    "#결손값이 없는 value의 describe\n",
    "print (loan_check_temp_notnull[temp].describe())"
   ]
  },
  {
   "cell_type": "code",
   "execution_count": 169,
   "metadata": {},
   "outputs": [
    {
     "data": {
      "image/png": "[encoded data removed]",
      "text/plain": [
       "<matplotlib.figure.Figure at 0x1e363cba8>"
      ]
     },
     "metadata": {},
     "output_type": "display_data"
    }
   ],
   "source": [
    "import numpy as np\n",
    "import matplotlib.pyplot as plt\n",
    "import seaborn as sns; sns.set(style=\"ticks\", color_codes=True) #matplotlib에 기반한 시각화\n",
    "\n",
    "\n",
    "\n",
    "sns.pairplot(data=loan_check_temp_notnull[temp],\n",
    "             hue=\"open_acc\", dropna=True)\n",
    "\n",
    "plt.show()"
   ]
  },
  {
   "cell_type": "code",
   "execution_count": 87,
   "metadata": {},
   "outputs": [
    {
     "data": {
      "text/plain": [
       "False    270887\n",
       "Name: open_acc, dtype: int64"
      ]
     },
     "execution_count": 87,
     "metadata": {},
     "output_type": "execute_result"
    }
   ],
   "source": [
    "#서로 관계는 있어 보이나, 같은 row의 값이 비어 있고, 전체 개수 중 미미한 개수인 것 같아 \n",
    "# account=mean, 그 외는 0으로 처리한다\n",
    "\n",
    "loan.open_acc.fillna(loan_check.open_acc.mean, inplace = True)\n",
    "loan.total_acc.fillna(loan_check.total_acc .mean, inplace = True)\n",
    "loan.pub_rec.fillna(0, inplace = True)\n",
    "loan.acc_now_delinq.fillna(0, inplace = True)\n",
    "\n",
    "loan.open_acc.isnull().value_counts()"
   ]
  },
  {
   "cell_type": "code",
   "execution_count": 88,
   "metadata": {},
   "outputs": [
    {
     "data": {
      "text/plain": [
       "26783"
      ]
     },
     "execution_count": 88,
     "metadata": {},
     "output_type": "execute_result"
    }
   ],
   "source": [
    "# 메모리 정리\n",
    "del loan_check_temp_null, loan_check_temp_notnull\n",
    "gc.collect()"
   ]
  },
  {
   "cell_type": "markdown",
   "metadata": {},
   "source": [
    "###  (10) tot_coll_amt \n",
    "* Total collection amounts ever owed\n",
    "* 다른 금액들간의 관계를 보자"
   ]
  },
  {
   "cell_type": "code",
   "execution_count": 89,
   "metadata": {},
   "outputs": [
    {
     "data": {
      "text/html": [
       "<div>\n",
       "<style>\n",
       "    .dataframe thead tr:only-child th {\n",
       "        text-align: right;\n",
       "    }\n",
       "\n",
       "    .dataframe thead th {\n",
       "        text-align: left;\n",
       "    }\n",
       "\n",
       "    .dataframe tbody tr th {\n",
       "        vertical-align: top;\n",
       "    }\n",
       "</style>\n",
       "<table border=\"1\" class=\"dataframe\">\n",
       "  <thead>\n",
       "    <tr style=\"text-align: right;\">\n",
       "      <th></th>\n",
       "      <th>loan_amnt</th>\n",
       "      <th>funded_amnt</th>\n",
       "      <th>total_pymnt_inv</th>\n",
       "      <th>dti</th>\n",
       "      <th>tot_coll_amt</th>\n",
       "    </tr>\n",
       "  </thead>\n",
       "  <tbody>\n",
       "    <tr>\n",
       "      <th>887351</th>\n",
       "      <td>4200.0</td>\n",
       "      <td>4200.0</td>\n",
       "      <td>1026.02</td>\n",
       "      <td>36.93</td>\n",
       "      <td>0.0</td>\n",
       "    </tr>\n",
       "    <tr>\n",
       "      <th>887364</th>\n",
       "      <td>10775.0</td>\n",
       "      <td>10775.0</td>\n",
       "      <td>11071.87</td>\n",
       "      <td>13.22</td>\n",
       "      <td>0.0</td>\n",
       "    </tr>\n",
       "    <tr>\n",
       "      <th>887366</th>\n",
       "      <td>6225.0</td>\n",
       "      <td>6225.0</td>\n",
       "      <td>7050.46</td>\n",
       "      <td>18.58</td>\n",
       "      <td>0.0</td>\n",
       "    </tr>\n",
       "    <tr>\n",
       "      <th>887369</th>\n",
       "      <td>4000.0</td>\n",
       "      <td>4000.0</td>\n",
       "      <td>4158.02</td>\n",
       "      <td>12.63</td>\n",
       "      <td>0.0</td>\n",
       "    </tr>\n",
       "    <tr>\n",
       "      <th>887371</th>\n",
       "      <td>10850.0</td>\n",
       "      <td>10850.0</td>\n",
       "      <td>2396.05</td>\n",
       "      <td>29.44</td>\n",
       "      <td>972.0</td>\n",
       "    </tr>\n",
       "  </tbody>\n",
       "</table>\n",
       "</div>"
      ],
      "text/plain": [
       "        loan_amnt  funded_amnt  total_pymnt_inv    dti  tot_coll_amt\n",
       "887351     4200.0       4200.0          1026.02  36.93           0.0\n",
       "887364    10775.0      10775.0         11071.87  13.22           0.0\n",
       "887366     6225.0       6225.0          7050.46  18.58           0.0\n",
       "887369     4000.0       4000.0          4158.02  12.63           0.0\n",
       "887371    10850.0      10850.0          2396.05  29.44         972.0"
      ]
     },
     "execution_count": 89,
     "metadata": {},
     "output_type": "execute_result"
    }
   ],
   "source": [
    "temp = ['loan_amnt','funded_amnt','total_pymnt_inv','dti' ] # 대출, 혹은 투자받은 금액을 나태내는 변수들\n",
    "\n",
    "X =pd.concat([loan_col_real[temp],loan_check['tot_coll_amt']],axis=1)\n",
    "X = X.loc[X['tot_coll_amt'].notnull()] # na값이 아닌것만 뽑음\n",
    "X.tail()\n"
   ]
  },
  {
   "cell_type": "code",
   "execution_count": 115,
   "metadata": {},
   "outputs": [
    {
     "data": {
      "image/png": "[encoded data removed]",
      "text/plain": [
       "<matplotlib.figure.Figure at 0x1296a54e0>"
      ]
     },
     "metadata": {},
     "output_type": "display_data"
    }
   ],
   "source": [
    "sns.pairplot(X)\n",
    "plt.show()\n"
   ]
  },
  {
   "cell_type": "code",
   "execution_count": 90,
   "metadata": {},
   "outputs": [
    {
     "name": "stdout",
     "output_type": "stream",
     "text": [
      "count    2.042640e+05\n",
      "mean     2.050036e+02\n",
      "std      2.031796e+04\n",
      "min      0.000000e+00\n",
      "25%      0.000000e+00\n",
      "50%      0.000000e+00\n",
      "75%      0.000000e+00\n",
      "max      9.152545e+06\n",
      "Name: tot_coll_amt, dtype: float64\n",
      "max value is : 9152545.0\n"
     ]
    }
   ],
   "source": [
    "\n",
    "print(X.tot_coll_amt.describe())\n",
    "print('max value is : {}'.format(X.tot_coll_amt.max()))\n",
    "\n",
    "# 1. tot_coll_amt는 대부분이 0이므로 다른 대출 규모와는 크게 상관이 없는 것 같다. 즉 결손값은 0으로 채울 것.\n",
    "# 2. tot_coll_amt중 최대값을 나타내는 인자는 이상치인 것 같다. 추후 처리에 대해서 생각해야 함.\n",
    "# 3. funded_amnt와 loan_amnt는 강력한 상관관계가 있는 것 같다"
   ]
  },
  {
   "cell_type": "code",
   "execution_count": 91,
   "metadata": {},
   "outputs": [
    {
     "name": "stdout",
     "output_type": "stream",
     "text": [
      "False    270887\n",
      "Name: tot_coll_amt, dtype: int64\n"
     ]
    },
    {
     "data": {
      "text/plain": [
       "143"
      ]
     },
     "execution_count": 91,
     "metadata": {},
     "output_type": "execute_result"
    }
   ],
   "source": [
    "loan.tot_coll_amt.fillna(0, inplace = True)\n",
    "\n",
    "print (loan.tot_coll_amt.isnull().value_counts())\n",
    "\n",
    "# 메모리 정리\n",
    "del X\n",
    "gc.collect()"
   ]
  },
  {
   "cell_type": "markdown",
   "metadata": {},
   "source": [
    "### (11) collections_12_mths_ex_med   \n",
    "* 보험 혹은 의료추심을 제외하고 12개월 이내의 추심 건수"
   ]
  },
  {
   "cell_type": "code",
   "execution_count": 72,
   "metadata": {},
   "outputs": [
    {
     "name": "stdout",
     "output_type": "stream",
     "text": [
      "count    270742.000000\n",
      "mean          0.007332\n",
      "std           0.093175\n",
      "min           0.000000\n",
      "25%           0.000000\n",
      "50%           0.000000\n",
      "75%           0.000000\n",
      "max           6.000000\n",
      "Name: collections_12_mths_ex_med, dtype: float64\n",
      "0.0    268909\n",
      "1.0      1707\n",
      "2.0       108\n",
      "3.0        13\n",
      "4.0         3\n",
      "6.0         1\n",
      "5.0         1\n",
      "Name: collections_12_mths_ex_med, dtype: int64\n"
     ]
    }
   ],
   "source": [
    "print(loan_check.collections_12_mths_ex_med.describe())\n",
    "print(loan_check.collections_12_mths_ex_med.value_counts())"
   ]
  },
  {
   "cell_type": "code",
   "execution_count": 73,
   "metadata": {},
   "outputs": [
    {
     "name": "stdout",
     "output_type": "stream",
     "text": [
      "False    270887\n",
      "Name: collections_12_mths_ex_med, dtype: int64\n"
     ]
    }
   ],
   "source": [
    "# 결손값은 최빈값인 0으로 채운다\n",
    "loan.collections_12_mths_ex_med.fillna(0, inplace = True)\n",
    "\n",
    "print (loan.collections_12_mths_ex_med.isnull().value_counts())"
   ]
  },
  {
   "cell_type": "markdown",
   "metadata": {},
   "source": [
    "### 중간점검"
   ]
  },
  {
   "cell_type": "code",
   "execution_count": 81,
   "metadata": {},
   "outputs": [
    {
     "data": {
      "text/plain": [
       "term                             0\n",
       "grade                            0\n",
       "sub_grade                        0\n",
       "emp_title                        0\n",
       "emp_length                       0\n",
       "home_ownership                   0\n",
       "verification_status              0\n",
       "issue_d                          0\n",
       "pymnt_plan                       0\n",
       "purpose                          0\n",
       "title                            0\n",
       "zip_code                         0\n",
       "addr_state                       0\n",
       "delinq_2yrs                      0\n",
       "earliest_cr_line                 0\n",
       "inq_last_6mths                   0\n",
       "mths_since_last_delinq           0\n",
       "mths_since_last_record           0\n",
       "open_acc                         0\n",
       "pub_rec                          0\n",
       "revol_bal                        0\n",
       "total_acc                        0\n",
       "initial_list_status              0\n",
       "out_prncp                        0\n",
       "out_prncp_inv                    0\n",
       "total_rec_late_fee               0\n",
       "recoveries                       0\n",
       "collection_recovery_fee          0\n",
       "last_pymnt_d                   709\n",
       "last_pymnt_amnt                  0\n",
       "next_pymnt_d                     0\n",
       "last_credit_pull_d              24\n",
       "collections_12_mths_ex_med       0\n",
       "mths_since_last_major_derog      0\n",
       "policy_code                      0\n",
       "application_type                 0\n",
       "annual_inc_joint                 0\n",
       "dti_joint                        0\n",
       "verification_status_joint        0\n",
       "acc_now_delinq                   0\n",
       "tot_coll_amt                     0\n",
       "open_acc_6m                      0\n",
       "open_il_6m                       0\n",
       "open_il_12m                      0\n",
       "open_il_24m                      0\n",
       "mths_since_rcnt_il               0\n",
       "total_bal_il                     0\n",
       "il_util                          0\n",
       "open_rv_12m                      0\n",
       "open_rv_24m                      0\n",
       "max_bal_bc                       0\n",
       "all_util                         0\n",
       "inq_fi                           0\n",
       "total_cu_tl                      0\n",
       "inq_last_12m                     0\n",
       "dtype: int64"
      ]
     },
     "execution_count": 81,
     "metadata": {},
     "output_type": "execute_result"
    }
   ],
   "source": [
    "loan.apply(lambda x: sum(x.isnull()),axis=0) "
   ]
  },
  {
   "cell_type": "markdown",
   "metadata": {},
   "source": [
    "### (12) last_pymnt_d\n",
    "* Last month payment was received\n",
    "* 가장최근 상환한 달\n",
    "* 대출받은 날로부터 차이가 크면 꾸준히 상환했을거라 가정, non값은 issue_d로 대체하는 방법도 생각 해 본다"
   ]
  },
  {
   "cell_type": "code",
   "execution_count": 74,
   "metadata": {},
   "outputs": [
    {
     "name": "stdout",
     "output_type": "stream",
     "text": [
      "False    270887\n",
      "Name: last_pymnt_d, dtype: int64\n"
     ]
    }
   ],
   "source": [
    "\n",
    "\n",
    "loan['last_pymnt_d'].fillna(loan['issue_d'], inplace=True)\n",
    "\n",
    "\n",
    "print (loan.last_pymnt_d.isnull().value_counts())\n"
   ]
  },
  {
   "cell_type": "markdown",
   "metadata": {},
   "source": [
    "### (13) last_credit_pull_d  \n",
    "* The most recent month LC pulled credit for this loan\n",
    "* 가장 최근에 신용등급을 조회한 달"
   ]
  },
  {
   "cell_type": "code",
   "execution_count": 75,
   "metadata": {},
   "outputs": [
    {
     "data": {
      "text/plain": [
       "270882    Jan-2016\n",
       "270883    Jun-2015\n",
       "270884    Dec-2015\n",
       "270885    Nov-2015\n",
       "270886    Jan-2016\n",
       "Name: last_credit_pull_d, dtype: object"
      ]
     },
     "execution_count": 75,
     "metadata": {},
     "output_type": "execute_result"
    }
   ],
   "source": [
    "loan_check.last_credit_pull_d.tail()"
   ]
  },
  {
   "cell_type": "code",
   "execution_count": 76,
   "metadata": {},
   "outputs": [
    {
     "data": {
      "text/plain": [
       "False    270887\n",
       "Name: last_pymnt_d, dtype: int64"
      ]
     },
     "execution_count": 76,
     "metadata": {},
     "output_type": "execute_result"
    }
   ],
   "source": [
    "loan.last_pymnt_d.isnull().value_counts()"
   ]
  },
  {
   "cell_type": "code",
   "execution_count": 77,
   "metadata": {},
   "outputs": [
    {
     "name": "stdout",
     "output_type": "stream",
     "text": [
      "None\n",
      "False    270887\n",
      "Name: last_credit_pull_d, dtype: int64\n"
     ]
    }
   ],
   "source": [
    "# last_pymnt_d 로 추정할 수 있을 것 같다\n",
    "\n",
    "print(loan['last_credit_pull_d'].fillna(loan['last_pymnt_d'], inplace=True))\n",
    "\n",
    "print (loan.last_credit_pull_d.isnull().value_counts())"
   ]
  },
  {
   "cell_type": "markdown",
   "metadata": {
    "collapsed": true
   },
   "source": [
    "### (14)delinq_2yrs \n",
    "* The number of 30+ days past-due incidences of delinquency in the borrower's credit file for the past 2 years\n",
    "* 지난 2년간에 30일초과한 연체개수"
   ]
  },
  {
   "cell_type": "code",
   "execution_count": 78,
   "metadata": {},
   "outputs": [
    {
     "name": "stdout",
     "output_type": "stream",
     "text": [
      "count    270858.000000\n",
      "mean          0.258552\n",
      "std           0.759819\n",
      "min           0.000000\n",
      "25%           0.000000\n",
      "50%           0.000000\n",
      "75%           0.000000\n",
      "max          29.000000\n",
      "Name: delinq_2yrs, dtype: float64\n"
     ]
    }
   ],
   "source": [
    "print(loan_check.delinq_2yrs.describe())"
   ]
  },
  {
   "cell_type": "code",
   "execution_count": 79,
   "metadata": {},
   "outputs": [
    {
     "name": "stdout",
     "output_type": "stream",
     "text": [
      "False    270887\n",
      "Name: delinq_2yrs, dtype: int64\n"
     ]
    }
   ],
   "source": [
    "#평균은 1이 안되는데 비해 max값이 29임을 확인해서 최빈값인 0으로 결손값을 채운다\n",
    "\n",
    "loan.delinq_2yrs.fillna(0, inplace = True)\n",
    "\n",
    "print (loan.delinq_2yrs.isnull().value_counts())\n"
   ]
  },
  {
   "cell_type": "markdown",
   "metadata": {
    "collapsed": true
   },
   "source": [
    "### 결손값 최종확인\n"
   ]
  },
  {
   "cell_type": "code",
   "execution_count": 189,
   "metadata": {},
   "outputs": [
    {
     "data": {
      "text/plain": [
       "term                           0\n",
       "grade                          0\n",
       "sub_grade                      0\n",
       "emp_title                      0\n",
       "emp_length                     0\n",
       "home_ownership                 0\n",
       "verification_status            0\n",
       "issue_d                        0\n",
       "pymnt_plan                     0\n",
       "purpose                        0\n",
       "title                          0\n",
       "zip_code                       0\n",
       "addr_state                     0\n",
       "delinq_2yrs                    0\n",
       "earliest_cr_line               0\n",
       "inq_last_6mths                 0\n",
       "mths_since_last_delinq         0\n",
       "mths_since_last_record         0\n",
       "open_acc                       0\n",
       "pub_rec                        0\n",
       "revol_bal                      0\n",
       "total_acc                      0\n",
       "initial_list_status            0\n",
       "out_prncp                      0\n",
       "out_prncp_inv                  0\n",
       "total_rec_late_fee             0\n",
       "recoveries                     0\n",
       "collection_recovery_fee        0\n",
       "last_pymnt_d                   0\n",
       "last_pymnt_amnt                0\n",
       "next_pymnt_d                   0\n",
       "last_credit_pull_d             0\n",
       "collections_12_mths_ex_med     0\n",
       "mths_since_last_major_derog    0\n",
       "policy_code                    0\n",
       "application_type               0\n",
       "annual_inc_joint               0\n",
       "dti_joint                      0\n",
       "verification_status_joint      0\n",
       "acc_now_delinq                 0\n",
       "tot_coll_amt                   0\n",
       "open_acc_6m                    0\n",
       "open_il_6m                     0\n",
       "open_il_12m                    0\n",
       "open_il_24m                    0\n",
       "mths_since_rcnt_il             0\n",
       "total_bal_il                   0\n",
       "il_util                        0\n",
       "open_rv_12m                    0\n",
       "open_rv_24m                    0\n",
       "max_bal_bc                     0\n",
       "all_util                       0\n",
       "inq_fi                         0\n",
       "total_cu_tl                    0\n",
       "inq_last_12m                   0\n",
       "dtype: int64"
      ]
     },
     "execution_count": 189,
     "metadata": {},
     "output_type": "execute_result"
    }
   ],
   "source": [
    "loan_check.apply(lambda x: sum(x.isnull()),axis=0) "
   ]
  },
  {
   "cell_type": "code",
   "execution_count": 191,
   "metadata": {},
   "outputs": [
    {
     "data": {
      "text/plain": [
       "Index(['id', 'member_id', 'loan_amnt', 'funded_amnt', 'funded_amnt_inv',\n",
       "       'term', 'int_rate', 'installment', 'grade', 'sub_grade', 'emp_title',\n",
       "       'emp_length', 'home_ownership', 'annual_inc', 'verification_status',\n",
       "       'issue_d', 'loan_status', 'pymnt_plan', 'url', 'desc', 'purpose',\n",
       "       'title', 'zip_code', 'addr_state', 'dti', 'delinq_2yrs',\n",
       "       'earliest_cr_line', 'inq_last_6mths', 'mths_since_last_delinq',\n",
       "       'mths_since_last_record', 'open_acc', 'pub_rec', 'revol_bal',\n",
       "       'revol_util', 'total_acc', 'initial_list_status', 'out_prncp',\n",
       "       'out_prncp_inv', 'total_pymnt', 'total_pymnt_inv', 'total_rec_prncp',\n",
       "       'total_rec_int', 'total_rec_late_fee', 'recoveries',\n",
       "       'collection_recovery_fee', 'last_pymnt_d', 'last_pymnt_amnt',\n",
       "       'next_pymnt_d', 'last_credit_pull_d', 'collections_12_mths_ex_med',\n",
       "       'mths_since_last_major_derog', 'policy_code', 'application_type',\n",
       "       'annual_inc_joint', 'dti_joint', 'verification_status_joint',\n",
       "       'acc_now_delinq', 'tot_coll_amt', 'tot_cur_bal', 'open_acc_6m',\n",
       "       'open_il_6m', 'open_il_12m', 'open_il_24m', 'mths_since_rcnt_il',\n",
       "       'total_bal_il', 'il_util', 'open_rv_12m', 'open_rv_24m', 'max_bal_bc',\n",
       "       'all_util', 'total_rev_hi_lim', 'inq_fi', 'total_cu_tl',\n",
       "       'inq_last_12m'],\n",
       "      dtype='object')"
      ]
     },
     "execution_count": 191,
     "metadata": {},
     "output_type": "execute_result"
    }
   ],
   "source": [
    "loan.columns"
   ]
  },
  {
   "cell_type": "code",
   "execution_count": 203,
   "metadata": {
    "collapsed": true
   },
   "outputs": [],
   "source": [
    "indexs=['id', 'member_id','loan_status', 'url', 'desc', 'purpose','mths_since_last_delinq',\n",
    "       'mths_since_last_record',  'pub_rec',\n",
    "        'initial_list_status', 'out_prncp',\n",
    "       'out_prncp_inv', 'total_pymnt', 'total_pymnt_inv', 'total_rec_prncp',\n",
    "       'total_rec_int', 'total_rec_late_fee', 'recoveries',\n",
    "       'collection_recovery_fee', 'last_pymnt_d', 'last_pymnt_amnt',\n",
    "       'next_pymnt_d', 'last_credit_pull_d', 'collections_12_mths_ex_med',\n",
    "       'mths_since_last_major_derog', 'policy_code', 'application_type',\n",
    "       'annual_inc_joint', 'dti_joint', 'verification_status_joint']"
   ]
  },
  {
   "cell_type": "code",
   "execution_count": 204,
   "metadata": {
    "collapsed": true
   },
   "outputs": [],
   "source": [
    "X = loan[indexs]"
   ]
  },
  {
   "cell_type": "code",
   "execution_count": 205,
   "metadata": {},
   "outputs": [
    {
     "data": {
      "text/plain": [
       "id                             0\n",
       "member_id                      0\n",
       "loan_status                    0\n",
       "url                            0\n",
       "desc                           0\n",
       "purpose                        0\n",
       "mths_since_last_delinq         0\n",
       "mths_since_last_record         0\n",
       "pub_rec                        0\n",
       "initial_list_status            0\n",
       "out_prncp                      0\n",
       "out_prncp_inv                  0\n",
       "total_pymnt                    0\n",
       "total_pymnt_inv                0\n",
       "total_rec_prncp                0\n",
       "total_rec_int                  0\n",
       "total_rec_late_fee             0\n",
       "recoveries                     0\n",
       "collection_recovery_fee        0\n",
       "last_pymnt_d                   0\n",
       "last_pymnt_amnt                0\n",
       "next_pymnt_d                   0\n",
       "last_credit_pull_d             0\n",
       "collections_12_mths_ex_med     0\n",
       "mths_since_last_major_derog    0\n",
       "policy_code                    0\n",
       "application_type               0\n",
       "annual_inc_joint               0\n",
       "dti_joint                      0\n",
       "verification_status_joint      0\n",
       "dtype: int64"
      ]
     },
     "execution_count": 205,
     "metadata": {},
     "output_type": "execute_result"
    }
   ],
   "source": [
    "X.apply(lambda x: sum(x.isnull()),axis=0) "
   ]
  },
  {
   "cell_type": "code",
   "execution_count": 120,
   "metadata": {
    "collapsed": true
   },
   "outputs": [],
   "source": [
    "loan[col_real] = loan_col_real[col_real]"
   ]
  },
  {
   "cell_type": "code",
   "execution_count": 81,
   "metadata": {},
   "outputs": [
    {
     "name": "stdout",
     "output_type": "stream",
     "text": [
      "False    270887\n",
      "Name: desc, dtype: int64\n"
     ]
    }
   ],
   "source": [
    "\n",
    "print (loan.desc.isnull().value_counts())"
   ]
  },
  {
   "cell_type": "code",
   "execution_count": 80,
   "metadata": {},
   "outputs": [
    {
     "name": "stdout",
     "output_type": "stream",
     "text": [
      "False    270887\n",
      "Name: desc, dtype: int64\n"
     ]
    }
   ],
   "source": [
    "loan.desc.fillna(0, inplace = True)\n",
    "\n",
    "print (loan.desc.isnull().value_counts())"
   ]
  },
  {
   "cell_type": "code",
   "execution_count": 129,
   "metadata": {},
   "outputs": [
    {
     "data": {
      "text/plain": [
       "id                             0\n",
       "member_id                      0\n",
       "loan_amnt                      0\n",
       "funded_amnt                    0\n",
       "funded_amnt_inv                0\n",
       "term                           0\n",
       "int_rate                       0\n",
       "installment                    0\n",
       "grade                          0\n",
       "sub_grade                      0\n",
       "emp_title                      0\n",
       "emp_length                     0\n",
       "home_ownership                 0\n",
       "annual_inc                     0\n",
       "verification_status            0\n",
       "issue_d                        0\n",
       "loan_status                    0\n",
       "pymnt_plan                     0\n",
       "url                            0\n",
       "desc                           0\n",
       "purpose                        0\n",
       "title                          0\n",
       "zip_code                       0\n",
       "addr_state                     0\n",
       "dti                            0\n",
       "delinq_2yrs                    0\n",
       "earliest_cr_line               0\n",
       "inq_last_6mths                 0\n",
       "mths_since_last_delinq         0\n",
       "mths_since_last_record         0\n",
       "                              ..\n",
       "collection_recovery_fee        0\n",
       "last_pymnt_d                   0\n",
       "last_pymnt_amnt                0\n",
       "next_pymnt_d                   0\n",
       "last_credit_pull_d             0\n",
       "collections_12_mths_ex_med     0\n",
       "mths_since_last_major_derog    0\n",
       "policy_code                    0\n",
       "application_type               0\n",
       "annual_inc_joint               0\n",
       "dti_joint                      0\n",
       "verification_status_joint      0\n",
       "acc_now_delinq                 0\n",
       "tot_coll_amt                   0\n",
       "tot_cur_bal                    0\n",
       "open_acc_6m                    0\n",
       "open_il_6m                     0\n",
       "open_il_12m                    0\n",
       "open_il_24m                    0\n",
       "mths_since_rcnt_il             0\n",
       "total_bal_il                   0\n",
       "il_util                        0\n",
       "open_rv_12m                    0\n",
       "open_rv_24m                    0\n",
       "max_bal_bc                     0\n",
       "all_util                       0\n",
       "total_rev_hi_lim               0\n",
       "inq_fi                         0\n",
       "total_cu_tl                    0\n",
       "inq_last_12m                   0\n",
       "Length: 74, dtype: int64"
      ]
     },
     "execution_count": 129,
     "metadata": {},
     "output_type": "execute_result"
    }
   ],
   "source": [
    "loan.apply(lambda x: sum(x.isnull()),axis=0) "
   ]
  },
  {
   "cell_type": "markdown",
   "metadata": {},
   "source": [
    "# 4. 다음 처리를 위한 pickle변환 "
   ]
  },
  {
   "cell_type": "code",
   "execution_count": 82,
   "metadata": {
    "collapsed": true
   },
   "outputs": [],
   "source": [
    "import pickle\n",
    "\n",
    "pickle.dump( loan, open( \"loan_preprocess\", \"wb\" ) )"
   ]
  },
  {
   "cell_type": "code",
   "execution_count": null,
   "metadata": {
    "collapsed": true
   },
   "outputs": [],
   "source": []
  }
 ],
 "metadata": {
  "kernelspec": {
   "display_name": "Python 3",
   "language": "python",
   "name": "python3"
  },
  "language_info": {
   "codemirror_mode": {
    "name": "ipython",
    "version": 3
   },
   "file_extension": ".py",
   "mimetype": "text/x-python",
   "name": "python",
   "nbconvert_exporter": "python",
   "pygments_lexer": "ipython3",
   "version": "3.6.2"
  }
 },
 "nbformat": 4,
 "nbformat_minor": 2
}
